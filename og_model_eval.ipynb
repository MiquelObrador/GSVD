{
 "cells": [
  {
   "cell_type": "code",
   "execution_count": null,
   "id": "eefbe4c8",
   "metadata": {},
   "outputs": [
    {
     "name": "stderr",
     "output_type": "stream",
     "text": [
      "/home/mobrrei/miniconda3/envs/svd/lib/python3.10/site-packages/tqdm/auto.py:21: TqdmWarning: IProgress not found. Please update jupyter and ipywidgets. See https://ipywidgets.readthedocs.io/en/stable/user_install.html\n",
      "  from .autonotebook import tqdm as notebook_tqdm\n",
      "Loading checkpoint shards: 100%|██████████| 2/2 [00:00<00:00,  7.93it/s]\n",
      "You are using the default legacy behaviour of the <class 'transformers.models.llama.tokenization_llama_fast.LlamaTokenizerFast'>. This is expected, and simply means that the `legacy` (previous) behavior will be used so nothing changes for you. If you want to use the new behaviour, set `legacy=False`. This should only be set if you understand what it means, and thoroughly read the reason why this was added as explained in https://github.com/huggingface/transformers/pull/24565 - if you loaded a llama tokenizer from a GGUF file you can ignore this message.\n",
      "Token indices sequence length is longer than the specified maximum sequence length for this model (105835 > 2048). Running this sequence through the model will result in indexing errors\n",
      "Evaluating perplexity: 100%|██████████| 7/7 [00:11<00:00,  1.71s/it]"
     ]
    },
    {
     "name": "stdout",
     "output_type": "stream",
     "text": [
      "Perplexity: 36.4375\n"
     ]
    },
    {
     "name": "stderr",
     "output_type": "stream",
     "text": [
      "\n"
     ]
    },
    {
     "ename": "",
     "evalue": "",
     "output_type": "error",
     "traceback": [
      "\u001b[1;31mThe Kernel crashed while executing code in the current cell or a previous cell. \n",
      "\u001b[1;31mPlease review the code in the cell(s) to identify a possible cause of the failure. \n",
      "\u001b[1;31mClick <a href='https://aka.ms/vscodeJupyterKernelCrash'>here</a> for more info. \n",
      "\u001b[1;31mView Jupyter <a href='command:jupyter.viewOutput'>log</a> for further details."
     ]
    }
   ],
   "source": [
    "import torch\n",
    "import torch.nn as nn\n",
    "from transformers import AutoModelForCausalLM, AutoTokenizer\n",
    "from collections import OrderedDict\n",
    "from utils import *\n",
    "from tqdm.auto import tqdm\n",
    "import gc\n",
    "\n",
    "\n",
    "model = AutoModelForCausalLM.from_pretrained(\n",
    "    \"huggyllama/llama-7b\",\n",
    "    torch_dtype=torch.float16,\n",
    ")\n",
    "\n",
    "tokenizer = AutoTokenizer.from_pretrained(\"huggyllama/llama-7b\")\n",
    "\n",
    "data_loader = load_eval_tokenized_dataset(\n",
    "    tokenizer=tokenizer,\n",
    "    dataset_name=\"ptb\",\n",
    "    seq_len=2048,\n",
    "    batch_size=8,\n",
    ")\n",
    "\n",
    "# Evaluate ppl\n",
    "\n",
    "model.eval()\n",
    "\n",
    "DEVICE = \"cuda\" if torch.cuda.is_available() else \"cpu\"\n",
    "\n",
    "model.to(DEVICE)\n",
    "\n",
    "nlls = []\n",
    "with torch.no_grad():\n",
    "    for batch in tqdm(data_loader, desc=\"Evaluating perplexity\", total=len(data_loader)):\n",
    "        batch = batch.to(DEVICE)\n",
    "        logits = model(batch, use_cache=False).logits\n",
    "        if torch.isfinite(logits).all():\n",
    "            shift_logits = logits[:, :-1, :].contiguous()\n",
    "            shift_labels = batch[:, 1:].contiguous()\n",
    "            loss_fct = nn.CrossEntropyLoss(reduction='none')\n",
    "            loss = loss_fct(shift_logits.view(-1, shift_logits.size(-1)), shift_labels.view(-1))\n",
    "            nlls.append(loss.cpu())\n",
    "        else:\n",
    "            print(\"Bad logits detected, skipping batch.\")\n",
    "            continue\n",
    "    ppl = torch.exp(torch.cat(nlls, dim=-1).mean()).item()\n",
    "    if ppl > 1000:\n",
    "        ppl = int(ppl)\n",
    "        \n",
    "print(f\"Perplexity: {ppl}\")"
   ]
  }
 ],
 "metadata": {
  "kernelspec": {
   "display_name": "svd",
   "language": "python",
   "name": "python3"
  },
  "language_info": {
   "codemirror_mode": {
    "name": "ipython",
    "version": 3
   },
   "file_extension": ".py",
   "mimetype": "text/x-python",
   "name": "python",
   "nbconvert_exporter": "python",
   "pygments_lexer": "ipython3",
   "version": "3.10.16"
  }
 },
 "nbformat": 4,
 "nbformat_minor": 5
}
