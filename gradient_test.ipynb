{
 "cells": [
  {
   "cell_type": "markdown",
   "id": "9ac90659",
   "metadata": {},
   "source": [
    "# OBTAIN ACTIVATIONS"
   ]
  },
  {
   "cell_type": "code",
   "execution_count": 1,
   "id": "3cc18384",
   "metadata": {},
   "outputs": [
    {
     "name": "stderr",
     "output_type": "stream",
     "text": [
      "/home/mobrrei/miniconda3/envs/svd/lib/python3.10/site-packages/tqdm/auto.py:21: TqdmWarning: IProgress not found. Please update jupyter and ipywidgets. See https://ipywidgets.readthedocs.io/en/stable/user_install.html\n",
      "  from .autonotebook import tqdm as notebook_tqdm\n",
      "Loading checkpoint shards: 100%|██████████| 2/2 [00:01<00:00,  1.08it/s]\n",
      "You are using the default legacy behaviour of the <class 'transformers.models.llama.tokenization_llama_fast.LlamaTokenizerFast'>. This is expected, and simply means that the `legacy` (previous) behavior will be used so nothing changes for you. If you want to use the new behaviour, set `legacy=False`. This should only be set if you understand what it means, and thoroughly read the reason why this was added as explained in https://github.com/huggingface/transformers/pull/24565 - if you loaded a llama tokenizer from a GGUF file you can ignore this message.\n"
     ]
    },
    {
     "name": "stdout",
     "output_type": "stream",
     "text": [
      "Loading cached dataset from cache/wikitext2_288_2048_42_dict.pt\n"
     ]
    },
    {
     "name": "stderr",
     "output_type": "stream",
     "text": [
      "100%|██████████| 72/72 [01:07<00:00,  1.06it/s]\n"
     ]
    },
    {
     "name": "stdout",
     "output_type": "stream",
     "text": [
      "Activations and weights saved successfully.\n",
      "Memory cleaned up.\n"
     ]
    }
   ],
   "source": [
    "import torch\n",
    "import torch.nn as nn\n",
    "from transformers import AutoModelForCausalLM, AutoTokenizer\n",
    "from collections import OrderedDict\n",
    "from utils import *\n",
    "from tqdm.auto import tqdm\n",
    "import gc\n",
    "\n",
    "\n",
    "model = AutoModelForCausalLM.from_pretrained(\n",
    "    \"huggyllama/llama-7b\",\n",
    "    torch_dtype=torch.float16,\n",
    "    device_map=\"auto\",\n",
    ")\n",
    "\n",
    "tokenizer = AutoTokenizer.from_pretrained(\"huggyllama/llama-7b\")\n",
    "\n",
    "SEQ_LEN = model.config.max_position_embeddings\n",
    "\n",
    "\n",
    "for p in model.parameters():\n",
    "    p.requires_grad = False\n",
    "    \n",
    "wikitext = get_calib_train_data(\"wikitext2\",\n",
    "                         tokenizer,\n",
    "                         seqlen=SEQ_LEN,\n",
    "                         batch_size=4,\n",
    "                         nsamples=256+32,\n",
    "                         seed=42)\n",
    "\n",
    "model.eval()\n",
    "model.half()\n",
    "model.to(\"cuda\")\n",
    "\n",
    "act = []\n",
    "\n",
    "def make_hook(name):\n",
    "    def hook(module, input, output):\n",
    "        current_pre_act = input[0].detach().to(\"cpu\", non_blocking=True)\n",
    "        act.append(current_pre_act)\n",
    "    return hook\n",
    "\n",
    "layer_hook = \"model.layers.2.mlp.down_proj\"\n",
    "hook = model.get_submodule(layer_hook).register_forward_hook(make_hook(layer_hook))\n",
    "\n",
    "for i, batch in enumerate(tqdm(wikitext)):\n",
    "    input_ids = batch[\"input_ids\"].to(\"cuda\", non_blocking=True)\n",
    "    attention_mask = batch[\"attention_mask\"].to(\"cuda\", non_blocking=True)\n",
    "\n",
    "    with torch.no_grad():\n",
    "        outputs = model(input_ids, attention_mask=attention_mask, use_cache=False)\n",
    "        \n",
    "hook.remove()\n",
    "\n",
    "# Stack all activations into a single tensor and save them to disk\n",
    "act = torch.stack(act, dim=0)\n",
    "# The path of the activations will have the name of the layer hook\n",
    "torch.save(act, f\"matrixes/{layer_hook}_activations.pt\")\n",
    "# Save the weight matrix of the down_proj layer\n",
    "down_proj_weight = model.get_submodule(layer_hook).weight.data.cpu()\n",
    "torch.save(down_proj_weight, f\"matrixes/{layer_hook}_weight.pt\")\n",
    "print(\"Activations and weights saved successfully.\")\n",
    "# Clean up\n",
    "del model\n",
    "del tokenizer\n",
    "del wikitext\n",
    "del act\n",
    "del down_proj_weight\n",
    "torch.cuda.empty_cache()\n",
    "gc.collect()\n",
    "print(\"Memory cleaned up.\")\n"
   ]
  },
  {
   "cell_type": "markdown",
   "id": "be138d5a",
   "metadata": {},
   "source": [
    "# TESTING GRADIENT METHOD"
   ]
  },
  {
   "cell_type": "code",
   "execution_count": null,
   "id": "4b3db58c",
   "metadata": {},
   "outputs": [
    {
     "name": "stdout",
     "output_type": "stream",
     "text": [
      "Training Activations shape: torch.Size([256, 2048, 4096])\n",
      "Validation Activations shape: torch.Size([32, 2048, 4096])\n",
      "Loaded weights shape: torch.Size([4096, 4096])\n",
      "Truncate: 1228\n"
     ]
    },
    {
     "name": "stderr",
     "output_type": "stream",
     "text": [
      "Epoch 1/50: 100%|██████████| 26/26 [00:02<00:00, 11.88it/s, loss=0.0342]\n"
     ]
    },
    {
     "name": "stdout",
     "output_type": "stream",
     "text": [
      "Epoch 1 - Train Loss: 0.0378\n",
      "Epoch 1 - Validation Loss: 0.0320\n"
     ]
    },
    {
     "name": "stderr",
     "output_type": "stream",
     "text": [
      "Epoch 2/50: 100%|██████████| 26/26 [00:02<00:00, 12.13it/s, loss=0.0312]\n"
     ]
    },
    {
     "name": "stdout",
     "output_type": "stream",
     "text": [
      "Epoch 2 - Train Loss: 0.0329\n",
      "Epoch 2 - Validation Loss: 0.0300\n"
     ]
    },
    {
     "name": "stderr",
     "output_type": "stream",
     "text": [
      "Epoch 3/50: 100%|██████████| 26/26 [00:02<00:00, 12.16it/s, loss=0.0297]\n"
     ]
    },
    {
     "name": "stdout",
     "output_type": "stream",
     "text": [
      "Epoch 3 - Train Loss: 0.0310\n",
      "Epoch 3 - Validation Loss: 0.0290\n"
     ]
    },
    {
     "name": "stderr",
     "output_type": "stream",
     "text": [
      "Epoch 4/50: 100%|██████████| 26/26 [00:02<00:00, 12.07it/s, loss=0.0287]\n"
     ]
    },
    {
     "name": "stdout",
     "output_type": "stream",
     "text": [
      "Epoch 4 - Train Loss: 0.0300\n",
      "Epoch 4 - Validation Loss: 0.0283\n"
     ]
    },
    {
     "name": "stderr",
     "output_type": "stream",
     "text": [
      "Epoch 5/50: 100%|██████████| 26/26 [00:02<00:00, 12.23it/s, loss=0.0281]\n"
     ]
    },
    {
     "name": "stdout",
     "output_type": "stream",
     "text": [
      "Epoch 5 - Train Loss: 0.0293\n",
      "Epoch 5 - Validation Loss: 0.0279\n"
     ]
    },
    {
     "name": "stderr",
     "output_type": "stream",
     "text": [
      "Epoch 6/50: 100%|██████████| 26/26 [00:02<00:00, 12.23it/s, loss=0.0277]\n"
     ]
    },
    {
     "name": "stdout",
     "output_type": "stream",
     "text": [
      "Epoch 6 - Train Loss: 0.0288\n",
      "Epoch 6 - Validation Loss: 0.0276\n"
     ]
    },
    {
     "name": "stderr",
     "output_type": "stream",
     "text": [
      "Epoch 7/50: 100%|██████████| 26/26 [00:02<00:00, 12.18it/s, loss=0.0274]\n"
     ]
    },
    {
     "name": "stdout",
     "output_type": "stream",
     "text": [
      "Epoch 7 - Train Loss: 0.0284\n",
      "Epoch 7 - Validation Loss: 0.0274\n"
     ]
    },
    {
     "name": "stderr",
     "output_type": "stream",
     "text": [
      "Epoch 8/50: 100%|██████████| 26/26 [00:02<00:00, 12.25it/s, loss=0.0271]\n"
     ]
    },
    {
     "name": "stdout",
     "output_type": "stream",
     "text": [
      "Epoch 8 - Train Loss: 0.0282\n",
      "Epoch 8 - Validation Loss: 0.0273\n"
     ]
    },
    {
     "name": "stderr",
     "output_type": "stream",
     "text": [
      "Epoch 9/50: 100%|██████████| 26/26 [00:02<00:00, 12.21it/s, loss=0.0269]\n"
     ]
    },
    {
     "name": "stdout",
     "output_type": "stream",
     "text": [
      "Epoch 9 - Train Loss: 0.0280\n",
      "Epoch 9 - Validation Loss: 0.0271\n"
     ]
    },
    {
     "name": "stderr",
     "output_type": "stream",
     "text": [
      "Epoch 10/50: 100%|██████████| 26/26 [00:02<00:00, 12.24it/s, loss=0.0267]\n"
     ]
    },
    {
     "name": "stdout",
     "output_type": "stream",
     "text": [
      "Epoch 10 - Train Loss: 0.0278\n",
      "Epoch 10 - Validation Loss: 0.0270\n"
     ]
    },
    {
     "name": "stderr",
     "output_type": "stream",
     "text": [
      "Epoch 11/50: 100%|██████████| 26/26 [00:02<00:00, 12.17it/s, loss=0.0265]\n"
     ]
    },
    {
     "name": "stdout",
     "output_type": "stream",
     "text": [
      "Epoch 11 - Train Loss: 0.0276\n",
      "Epoch 11 - Validation Loss: 0.0269\n"
     ]
    },
    {
     "name": "stderr",
     "output_type": "stream",
     "text": [
      "Epoch 12/50: 100%|██████████| 26/26 [00:02<00:00, 12.23it/s, loss=0.0264]\n"
     ]
    },
    {
     "name": "stdout",
     "output_type": "stream",
     "text": [
      "Epoch 12 - Train Loss: 0.0275\n",
      "Epoch 12 - Validation Loss: 0.0269\n"
     ]
    },
    {
     "name": "stderr",
     "output_type": "stream",
     "text": [
      "Epoch 13/50: 100%|██████████| 26/26 [00:02<00:00, 12.20it/s, loss=0.0263]\n"
     ]
    },
    {
     "name": "stdout",
     "output_type": "stream",
     "text": [
      "Epoch 13 - Train Loss: 0.0274\n",
      "Epoch 13 - Validation Loss: 0.0268\n"
     ]
    },
    {
     "name": "stderr",
     "output_type": "stream",
     "text": [
      "Epoch 14/50: 100%|██████████| 26/26 [00:02<00:00, 12.12it/s, loss=0.0262]\n"
     ]
    },
    {
     "name": "stdout",
     "output_type": "stream",
     "text": [
      "Epoch 14 - Train Loss: 0.0273\n",
      "Epoch 14 - Validation Loss: 0.0267\n"
     ]
    },
    {
     "name": "stderr",
     "output_type": "stream",
     "text": [
      "Epoch 15/50: 100%|██████████| 26/26 [00:02<00:00, 12.14it/s, loss=0.0261]\n"
     ]
    },
    {
     "name": "stdout",
     "output_type": "stream",
     "text": [
      "Epoch 15 - Train Loss: 0.0272\n",
      "Epoch 15 - Validation Loss: 0.0267\n"
     ]
    },
    {
     "name": "stderr",
     "output_type": "stream",
     "text": [
      "Epoch 16/50: 100%|██████████| 26/26 [00:02<00:00, 12.21it/s, loss=0.0261]\n"
     ]
    },
    {
     "name": "stdout",
     "output_type": "stream",
     "text": [
      "Epoch 16 - Train Loss: 0.0272\n",
      "Epoch 16 - Validation Loss: 0.0267\n"
     ]
    },
    {
     "name": "stderr",
     "output_type": "stream",
     "text": [
      "Epoch 17/50: 100%|██████████| 26/26 [00:02<00:00, 12.18it/s, loss=0.026] \n"
     ]
    },
    {
     "name": "stdout",
     "output_type": "stream",
     "text": [
      "Epoch 17 - Train Loss: 0.0271\n",
      "Epoch 17 - Validation Loss: 0.0266\n"
     ]
    },
    {
     "name": "stderr",
     "output_type": "stream",
     "text": [
      "Epoch 18/50: 100%|██████████| 26/26 [00:02<00:00, 12.11it/s, loss=0.0259]\n"
     ]
    },
    {
     "name": "stdout",
     "output_type": "stream",
     "text": [
      "Epoch 18 - Train Loss: 0.0270\n",
      "Epoch 18 - Validation Loss: 0.0266\n"
     ]
    },
    {
     "name": "stderr",
     "output_type": "stream",
     "text": [
      "Epoch 19/50: 100%|██████████| 26/26 [00:02<00:00, 12.24it/s, loss=0.0259]\n"
     ]
    },
    {
     "name": "stdout",
     "output_type": "stream",
     "text": [
      "Epoch 19 - Train Loss: 0.0270\n",
      "Epoch 19 - Validation Loss: 0.0266\n"
     ]
    },
    {
     "name": "stderr",
     "output_type": "stream",
     "text": [
      "Epoch 20/50: 100%|██████████| 26/26 [00:02<00:00, 12.18it/s, loss=0.0259]\n"
     ]
    },
    {
     "name": "stdout",
     "output_type": "stream",
     "text": [
      "Epoch 20 - Train Loss: 0.0270\n",
      "Epoch 20 - Validation Loss: 0.0265\n"
     ]
    },
    {
     "name": "stderr",
     "output_type": "stream",
     "text": [
      "Epoch 21/50: 100%|██████████| 26/26 [00:02<00:00, 12.19it/s, loss=0.0258]\n"
     ]
    },
    {
     "name": "stdout",
     "output_type": "stream",
     "text": [
      "Epoch 21 - Train Loss: 0.0269\n",
      "Epoch 21 - Validation Loss: 0.0265\n"
     ]
    },
    {
     "name": "stderr",
     "output_type": "stream",
     "text": [
      "Epoch 22/50: 100%|██████████| 26/26 [00:02<00:00, 12.15it/s, loss=0.0258]\n"
     ]
    },
    {
     "name": "stdout",
     "output_type": "stream",
     "text": [
      "Epoch 22 - Train Loss: 0.0269\n",
      "Epoch 22 - Validation Loss: 0.0265\n"
     ]
    },
    {
     "name": "stderr",
     "output_type": "stream",
     "text": [
      "Epoch 23/50: 100%|██████████| 26/26 [00:02<00:00, 12.12it/s, loss=0.0258]\n"
     ]
    },
    {
     "name": "stdout",
     "output_type": "stream",
     "text": [
      "Epoch 23 - Train Loss: 0.0269\n",
      "Epoch 23 - Validation Loss: 0.0265\n"
     ]
    },
    {
     "name": "stderr",
     "output_type": "stream",
     "text": [
      "Epoch 24/50: 100%|██████████| 26/26 [00:02<00:00, 12.18it/s, loss=0.0258]\n"
     ]
    },
    {
     "name": "stdout",
     "output_type": "stream",
     "text": [
      "Epoch 24 - Train Loss: 0.0269\n",
      "Epoch 24 - Validation Loss: 0.0265\n"
     ]
    },
    {
     "name": "stderr",
     "output_type": "stream",
     "text": [
      "Epoch 25/50: 100%|██████████| 26/26 [00:02<00:00, 12.11it/s, loss=0.0257]\n"
     ]
    },
    {
     "name": "stdout",
     "output_type": "stream",
     "text": [
      "Epoch 25 - Train Loss: 0.0268\n",
      "Epoch 25 - Validation Loss: 0.0265\n"
     ]
    },
    {
     "name": "stderr",
     "output_type": "stream",
     "text": [
      "Epoch 26/50: 100%|██████████| 26/26 [00:02<00:00, 12.17it/s, loss=0.0257]\n"
     ]
    },
    {
     "name": "stdout",
     "output_type": "stream",
     "text": [
      "Epoch 26 - Train Loss: 0.0268\n",
      "Epoch 26 - Validation Loss: 0.0265\n"
     ]
    },
    {
     "name": "stderr",
     "output_type": "stream",
     "text": [
      "Epoch 27/50: 100%|██████████| 26/26 [00:02<00:00, 12.12it/s, loss=0.0257]\n"
     ]
    },
    {
     "name": "stdout",
     "output_type": "stream",
     "text": [
      "Epoch 27 - Train Loss: 0.0268\n",
      "Epoch 27 - Validation Loss: 0.0265\n"
     ]
    },
    {
     "name": "stderr",
     "output_type": "stream",
     "text": [
      "Epoch 28/50: 100%|██████████| 26/26 [00:02<00:00, 12.15it/s, loss=0.0257]\n"
     ]
    },
    {
     "name": "stdout",
     "output_type": "stream",
     "text": [
      "Epoch 28 - Train Loss: 0.0268\n",
      "Epoch 28 - Validation Loss: 0.0264\n"
     ]
    },
    {
     "name": "stderr",
     "output_type": "stream",
     "text": [
      "Epoch 29/50: 100%|██████████| 26/26 [00:02<00:00, 12.18it/s, loss=0.0257]\n"
     ]
    },
    {
     "name": "stdout",
     "output_type": "stream",
     "text": [
      "Epoch 29 - Train Loss: 0.0268\n",
      "Epoch 29 - Validation Loss: 0.0264\n"
     ]
    },
    {
     "name": "stderr",
     "output_type": "stream",
     "text": [
      "Epoch 30/50: 100%|██████████| 26/26 [00:02<00:00, 12.22it/s, loss=0.0257]\n"
     ]
    },
    {
     "name": "stdout",
     "output_type": "stream",
     "text": [
      "Epoch 30 - Train Loss: 0.0268\n",
      "Epoch 30 - Validation Loss: 0.0264\n"
     ]
    },
    {
     "name": "stderr",
     "output_type": "stream",
     "text": [
      "Epoch 31/50: 100%|██████████| 26/26 [00:02<00:00, 12.22it/s, loss=0.0256]\n"
     ]
    },
    {
     "name": "stdout",
     "output_type": "stream",
     "text": [
      "Epoch 31 - Train Loss: 0.0267\n",
      "Epoch 31 - Validation Loss: 0.0264\n"
     ]
    },
    {
     "name": "stderr",
     "output_type": "stream",
     "text": [
      "Epoch 32/50: 100%|██████████| 26/26 [00:02<00:00, 12.07it/s, loss=0.0256]\n"
     ]
    },
    {
     "name": "stdout",
     "output_type": "stream",
     "text": [
      "Epoch 32 - Train Loss: 0.0267\n",
      "Epoch 32 - Validation Loss: 0.0264\n"
     ]
    },
    {
     "name": "stderr",
     "output_type": "stream",
     "text": [
      "Epoch 33/50: 100%|██████████| 26/26 [00:02<00:00, 12.08it/s, loss=0.0256]\n"
     ]
    },
    {
     "name": "stdout",
     "output_type": "stream",
     "text": [
      "Epoch 33 - Train Loss: 0.0267\n",
      "Epoch 33 - Validation Loss: 0.0264\n"
     ]
    },
    {
     "name": "stderr",
     "output_type": "stream",
     "text": [
      "Epoch 34/50: 100%|██████████| 26/26 [00:02<00:00, 12.15it/s, loss=0.0256]\n"
     ]
    },
    {
     "name": "stdout",
     "output_type": "stream",
     "text": [
      "Epoch 34 - Train Loss: 0.0267\n",
      "Epoch 34 - Validation Loss: 0.0264\n"
     ]
    },
    {
     "name": "stderr",
     "output_type": "stream",
     "text": [
      "Epoch 35/50: 100%|██████████| 26/26 [00:02<00:00, 12.21it/s, loss=0.0256]\n"
     ]
    },
    {
     "name": "stdout",
     "output_type": "stream",
     "text": [
      "Epoch 35 - Train Loss: 0.0267\n",
      "Epoch 35 - Validation Loss: 0.0264\n"
     ]
    },
    {
     "name": "stderr",
     "output_type": "stream",
     "text": [
      "Epoch 36/50: 100%|██████████| 26/26 [00:02<00:00, 11.88it/s, loss=0.0256]\n"
     ]
    },
    {
     "name": "stdout",
     "output_type": "stream",
     "text": [
      "Epoch 36 - Train Loss: 0.0267\n",
      "Epoch 36 - Validation Loss: 0.0264\n"
     ]
    },
    {
     "name": "stderr",
     "output_type": "stream",
     "text": [
      "Epoch 37/50: 100%|██████████| 26/26 [00:02<00:00, 12.02it/s, loss=0.0256]\n"
     ]
    },
    {
     "name": "stdout",
     "output_type": "stream",
     "text": [
      "Epoch 37 - Train Loss: 0.0267\n",
      "Epoch 37 - Validation Loss: 0.0264\n"
     ]
    },
    {
     "name": "stderr",
     "output_type": "stream",
     "text": [
      "Epoch 38/50: 100%|██████████| 26/26 [00:02<00:00, 12.18it/s, loss=0.0256]\n"
     ]
    },
    {
     "name": "stdout",
     "output_type": "stream",
     "text": [
      "Epoch 38 - Train Loss: 0.0267\n",
      "Epoch 38 - Validation Loss: 0.0264\n"
     ]
    },
    {
     "name": "stderr",
     "output_type": "stream",
     "text": [
      "Epoch 39/50: 100%|██████████| 26/26 [00:02<00:00, 12.08it/s, loss=0.0256]\n"
     ]
    },
    {
     "name": "stdout",
     "output_type": "stream",
     "text": [
      "Epoch 39 - Train Loss: 0.0267\n",
      "Epoch 39 - Validation Loss: 0.0264\n"
     ]
    },
    {
     "name": "stderr",
     "output_type": "stream",
     "text": [
      "Epoch 40/50: 100%|██████████| 26/26 [00:02<00:00, 12.14it/s, loss=0.0256]\n"
     ]
    },
    {
     "name": "stdout",
     "output_type": "stream",
     "text": [
      "Epoch 40 - Train Loss: 0.0267\n",
      "Epoch 40 - Validation Loss: 0.0264\n"
     ]
    },
    {
     "name": "stderr",
     "output_type": "stream",
     "text": [
      "Epoch 41/50: 100%|██████████| 26/26 [00:02<00:00, 12.17it/s, loss=0.0255]\n"
     ]
    },
    {
     "name": "stdout",
     "output_type": "stream",
     "text": [
      "Epoch 41 - Train Loss: 0.0267\n",
      "Epoch 41 - Validation Loss: 0.0264\n"
     ]
    },
    {
     "name": "stderr",
     "output_type": "stream",
     "text": [
      "Epoch 42/50: 100%|██████████| 26/26 [00:02<00:00, 12.10it/s, loss=0.0255]\n"
     ]
    },
    {
     "name": "stdout",
     "output_type": "stream",
     "text": [
      "Epoch 42 - Train Loss: 0.0267\n",
      "Epoch 42 - Validation Loss: 0.0264\n"
     ]
    },
    {
     "name": "stderr",
     "output_type": "stream",
     "text": [
      "Epoch 43/50: 100%|██████████| 26/26 [00:02<00:00, 12.12it/s, loss=0.0255]\n"
     ]
    },
    {
     "name": "stdout",
     "output_type": "stream",
     "text": [
      "Epoch 43 - Train Loss: 0.0267\n",
      "Epoch 43 - Validation Loss: 0.0264\n"
     ]
    },
    {
     "name": "stderr",
     "output_type": "stream",
     "text": [
      "Epoch 44/50: 100%|██████████| 26/26 [00:02<00:00, 12.07it/s, loss=0.0255]\n"
     ]
    },
    {
     "name": "stdout",
     "output_type": "stream",
     "text": [
      "Epoch 44 - Train Loss: 0.0266\n",
      "Epoch 44 - Validation Loss: 0.0264\n"
     ]
    },
    {
     "name": "stderr",
     "output_type": "stream",
     "text": [
      "Epoch 45/50: 100%|██████████| 26/26 [00:02<00:00, 12.14it/s, loss=0.0255]\n"
     ]
    },
    {
     "name": "stdout",
     "output_type": "stream",
     "text": [
      "Epoch 45 - Train Loss: 0.0266\n",
      "Epoch 45 - Validation Loss: 0.0264\n"
     ]
    },
    {
     "name": "stderr",
     "output_type": "stream",
     "text": [
      "Epoch 46/50: 100%|██████████| 26/26 [00:02<00:00, 12.12it/s, loss=0.0255]\n"
     ]
    },
    {
     "name": "stdout",
     "output_type": "stream",
     "text": [
      "Epoch 46 - Train Loss: 0.0266\n",
      "Epoch 46 - Validation Loss: 0.0264\n"
     ]
    },
    {
     "name": "stderr",
     "output_type": "stream",
     "text": [
      "Epoch 47/50: 100%|██████████| 26/26 [00:02<00:00, 12.11it/s, loss=0.0255]\n"
     ]
    },
    {
     "name": "stdout",
     "output_type": "stream",
     "text": [
      "Epoch 47 - Train Loss: 0.0266\n",
      "Epoch 47 - Validation Loss: 0.0263\n"
     ]
    },
    {
     "name": "stderr",
     "output_type": "stream",
     "text": [
      "Epoch 48/50: 100%|██████████| 26/26 [00:02<00:00, 12.14it/s, loss=0.0255]\n"
     ]
    },
    {
     "name": "stdout",
     "output_type": "stream",
     "text": [
      "Epoch 48 - Train Loss: 0.0266\n",
      "Epoch 48 - Validation Loss: 0.0263\n"
     ]
    },
    {
     "name": "stderr",
     "output_type": "stream",
     "text": [
      "Epoch 49/50: 100%|██████████| 26/26 [00:02<00:00, 12.13it/s, loss=0.0255]\n"
     ]
    },
    {
     "name": "stdout",
     "output_type": "stream",
     "text": [
      "Epoch 49 - Train Loss: 0.0266\n",
      "Epoch 49 - Validation Loss: 0.0263\n"
     ]
    },
    {
     "name": "stderr",
     "output_type": "stream",
     "text": [
      "Epoch 50/50: 100%|██████████| 26/26 [00:02<00:00, 12.13it/s, loss=0.0255]\n"
     ]
    },
    {
     "name": "stdout",
     "output_type": "stream",
     "text": [
      "Epoch 50 - Train Loss: 0.0266\n",
      "Epoch 50 - Validation Loss: 0.0263\n"
     ]
    },
    {
     "data": {
      "image/png": "[encoded data removed]",
      "text/plain": [
       "<Figure size 640x480 with 1 Axes>"
      ]
     },
     "metadata": {},
     "output_type": "display_data"
    }
   ],
   "source": [
    "import torch\n",
    "from tqdm import tqdm\n",
    "from modules import SVDLinearLayer\n",
    "import torch.nn.functional as F\n",
    "import torch.nn as nn\n",
    "import pickle\n",
    "\n",
    "# --- Configuration ---\n",
    "# Using constants makes the code cleaner and easier to modify.\n",
    "DEVICE = torch.device(\"cuda\" if torch.cuda.is_available() else \"cpu\")\n",
    "LAYER_HOOK = \"model.layers.31.self_attn.q_proj\"\n",
    "ACTIVATIONS_PATH = f\"matrixes/{LAYER_HOOK}_activations.pt\"\n",
    "WEIGHTS_PATH = f\"matrixes/{LAYER_HOOK}_weight.pt\"\n",
    "IMPORTANCE_PATH = f\"grads/llama7b_grads.pkl\"\n",
    "\n",
    "RATIO = 0.6\n",
    "EPOCHS = 50\n",
    "LEARNING_RATE = 1e-4\n",
    "WEIGHT_DECAY = 1e-3\n",
    "N_SAMPLES_FOR_INIT = 50\n",
    "BATCH_SIZE = 10\n",
    "TRAIN_SAMPLES = 256\n",
    "\n",
    "# --- 1. Efficient Data Loading and Pre-processing ---\n",
    "\n",
    "# Move weights to the correct device right after loading.\n",
    "# non_blocking=True can enable faster asynchronous memory copies on CUDA hardware.\n",
    "W = torch.load(WEIGHTS_PATH).to(DEVICE, non_blocking=True).float()\n",
    "\n",
    "# It's more memory-efficient to load large tensors to CPU first.\n",
    "# We will move only the necessary batches to the GPU during training.\n",
    "pre_act = torch.load(ACTIVATIONS_PATH).float() # (batches, samples_batch, seq_len, features)\n",
    "\n",
    "# Concat the first two dimensions\n",
    "pre_act = pre_act.view(pre_act.shape[0] * pre_act.shape[1], pre_act.shape[2], pre_act.shape[3]) # (samples, seq_len, features)\n",
    "\n",
    "# Shuffle the activations to ensure randomness in training with seed\n",
    "torch.manual_seed(42)\n",
    "pre_act = pre_act[torch.randperm(pre_act.size(0))]\n",
    "\n",
    "pre_act_train = pre_act[:TRAIN_SAMPLES, :, :]  # Use only the first TRAIN_SAMPLES for training\n",
    "pre_act_val = pre_act[TRAIN_SAMPLES:, :, :]  # Use the rest for validation\n",
    "\n",
    "del pre_act\n",
    "\n",
    "print(f\"Training Activations shape: {pre_act_train.shape}\")\n",
    "print(f\"Validation Activations shape: {pre_act_val.shape}\")\n",
    "print(f\"Loaded weights shape: {W.shape}\")\n",
    "\n",
    "# --- 2. Simplified Truncation Calculation ---\n",
    "\n",
    "out_features, in_features = W.shape\n",
    "truncate = int(W.shape[0] * W.shape[1] * RATIO / (W.shape[0] + W.shape[1]))\n",
    "print(f\"Truncate: {truncate}\")\n",
    "\n",
    "# --- 3. Memory-Efficient SVD Initialization ---\n",
    "\n",
    "# Create the initialization data by taking a slice on the CPU first,\n",
    "# and only then moving the smaller tensor to the GPU.\n",
    "init_data_slice = pre_act_train[:N_SAMPLES_FOR_INIT, :, :]\n",
    "svd_layer = SVDLinearLayer(\n",
    "    W, # weights are already on DEVICE\n",
    "    truncate,\n",
    "    bias=None,\n",
    "    data=init_data_slice.to(DEVICE, non_blocking=True)\n",
    ").to(DEVICE).train()\n",
    "\n",
    "og_linear_module = nn.Linear(\n",
    "    in_features=W.shape[1],\n",
    "    out_features=W.shape[0],\n",
    "    bias=False,\n",
    "    device=DEVICE\n",
    ")\n",
    "\n",
    "og_linear_module.weight.data = W.float()\n",
    "og_linear_module.eval()\n",
    "\n",
    "# Clean up to free memory immediately.\n",
    "del init_data_slice\n",
    "torch.cuda.empty_cache()\n",
    "\n",
    "loss_fn = nn.MSELoss(reduction=\"mean\")\n",
    "\n",
    "# Using fused=True can provide a performance boost on compatible CUDA devices.\n",
    "optimizer = torch.optim.AdamW(\n",
    "    svd_layer.parameters(), lr=LEARNING_RATE, weight_decay=WEIGHT_DECAY, fused=torch.cuda.is_available()\n",
    ")\n",
    "\n",
    "# --- 4. Efficient Training Loop ---\n",
    "train_loss_log = []\n",
    "val_loss_log = []\n",
    "for epoch in range(EPOCHS):\n",
    "    svd_layer.train()\n",
    "    epoch_loss_log = []\n",
    "    pbar = tqdm(range(0, pre_act_train.shape[0], BATCH_SIZE), desc=f\"Epoch {epoch + 1}/{EPOCHS}\")\n",
    "    \n",
    "    for i in pbar:\n",
    "        batch = pre_act_train[i:i + BATCH_SIZE, :, :].to(DEVICE, non_blocking=True)\n",
    "        optimizer.zero_grad()\n",
    "        \n",
    "        # Forward pass\n",
    "        output = svd_layer(batch)\n",
    "        \n",
    "        # Compute loss\n",
    "        loss = loss_fn(output, og_linear_module(batch))\n",
    "        loss.backward()\n",
    "        \n",
    "        # Update weights\n",
    "        optimizer.step()\n",
    "        epoch_loss_log.append(loss.item())\n",
    "        \n",
    "        pbar.set_postfix({\"loss\": loss.item()})\n",
    "    train_loss_log.append(sum(epoch_loss_log) / len(epoch_loss_log))\n",
    "    print(f\"Epoch {epoch + 1} - Train Loss: {train_loss_log[-1]:.4f}\")\n",
    "    svd_layer.eval()\n",
    "    with torch.no_grad():\n",
    "        val_loss = loss_fn(svd_layer(pre_act_val.to(DEVICE, non_blocking=True)), og_linear_module(pre_act_val.to(DEVICE, non_blocking=True)))\n",
    "        val_loss_log.append(val_loss.item())\n",
    "        print(f\"Epoch {epoch + 1} - Validation Loss: {val_loss.item():.4f}\")\n",
    "        \n",
    "#Log losses \n",
    "import matplotlib.pyplot as plt\n",
    "plt.plot(train_loss_log, label='Train Loss')\n",
    "plt.plot(val_loss_log, label='Validation Loss')\n",
    "plt.xlabel('Epoch')\n",
    "plt.ylabel('Loss')\n",
    "plt.title('Training and Validation Loss')\n",
    "plt.legend()\n",
    "plt.grid()\n",
    "plt.show()"
   ]
  },
  {
   "cell_type": "markdown",
   "id": "6b4a5bd9",
   "metadata": {},
   "source": [
    "## Shuffle Each Epoch"
   ]
  },
  {
   "cell_type": "code",
   "execution_count": 1,
   "id": "e0883272",
   "metadata": {},
   "outputs": [
    {
     "name": "stdout",
     "output_type": "stream",
     "text": [
      "Training Activations shape: torch.Size([256, 2048, 4096])\n",
      "Validation Activations shape: torch.Size([32, 2048, 4096])\n",
      "Loaded weights shape: torch.Size([4096, 4096])\n",
      "Truncate: 1228\n"
     ]
    },
    {
     "name": "stderr",
     "output_type": "stream",
     "text": [
      "Epoch 1/50: 100%|██████████| 26/26 [00:02<00:00,  9.13it/s, loss=0.0344]\n"
     ]
    },
    {
     "name": "stdout",
     "output_type": "stream",
     "text": [
      "Epoch 1 - Train Loss: 0.0377\n",
      "Epoch 1 - Validation Loss: 0.0319\n"
     ]
    },
    {
     "name": "stderr",
     "output_type": "stream",
     "text": [
      "Epoch 2/50: 100%|██████████| 26/26 [00:03<00:00,  7.83it/s, loss=0.0319]\n"
     ]
    },
    {
     "name": "stdout",
     "output_type": "stream",
     "text": [
      "Epoch 2 - Train Loss: 0.0328\n",
      "Epoch 2 - Validation Loss: 0.0299\n"
     ]
    },
    {
     "name": "stderr",
     "output_type": "stream",
     "text": [
      "Epoch 3/50: 100%|██████████| 26/26 [00:03<00:00,  7.86it/s, loss=0.0307]\n"
     ]
    },
    {
     "name": "stdout",
     "output_type": "stream",
     "text": [
      "Epoch 3 - Train Loss: 0.0309\n",
      "Epoch 3 - Validation Loss: 0.0289\n"
     ]
    },
    {
     "name": "stderr",
     "output_type": "stream",
     "text": [
      "Epoch 4/50: 100%|██████████| 26/26 [00:03<00:00,  7.84it/s, loss=0.0295]\n"
     ]
    },
    {
     "name": "stdout",
     "output_type": "stream",
     "text": [
      "Epoch 4 - Train Loss: 0.0299\n",
      "Epoch 4 - Validation Loss: 0.0282\n"
     ]
    },
    {
     "name": "stderr",
     "output_type": "stream",
     "text": [
      "Epoch 5/50: 100%|██████████| 26/26 [00:03<00:00,  7.87it/s, loss=0.0291]\n"
     ]
    },
    {
     "name": "stdout",
     "output_type": "stream",
     "text": [
      "Epoch 5 - Train Loss: 0.0292\n",
      "Epoch 5 - Validation Loss: 0.0278\n"
     ]
    },
    {
     "name": "stderr",
     "output_type": "stream",
     "text": [
      "Epoch 6/50: 100%|██████████| 26/26 [00:03<00:00,  7.83it/s, loss=0.0293]\n"
     ]
    },
    {
     "name": "stdout",
     "output_type": "stream",
     "text": [
      "Epoch 6 - Train Loss: 0.0287\n",
      "Epoch 6 - Validation Loss: 0.0275\n"
     ]
    },
    {
     "name": "stderr",
     "output_type": "stream",
     "text": [
      "Epoch 7/50: 100%|██████████| 26/26 [00:03<00:00,  7.88it/s, loss=0.0282]\n"
     ]
    },
    {
     "name": "stdout",
     "output_type": "stream",
     "text": [
      "Epoch 7 - Train Loss: 0.0283\n",
      "Epoch 7 - Validation Loss: 0.0273\n"
     ]
    },
    {
     "name": "stderr",
     "output_type": "stream",
     "text": [
      "Epoch 8/50: 100%|██████████| 26/26 [00:03<00:00,  7.83it/s, loss=0.0244]\n"
     ]
    },
    {
     "name": "stdout",
     "output_type": "stream",
     "text": [
      "Epoch 8 - Train Loss: 0.0280\n",
      "Epoch 8 - Validation Loss: 0.0271\n"
     ]
    },
    {
     "name": "stderr",
     "output_type": "stream",
     "text": [
      "Epoch 9/50: 100%|██████████| 26/26 [00:03<00:00,  7.87it/s, loss=0.0283]\n"
     ]
    },
    {
     "name": "stdout",
     "output_type": "stream",
     "text": [
      "Epoch 9 - Train Loss: 0.0278\n",
      "Epoch 9 - Validation Loss: 0.0270\n"
     ]
    },
    {
     "name": "stderr",
     "output_type": "stream",
     "text": [
      "Epoch 10/50: 100%|██████████| 26/26 [00:03<00:00,  7.82it/s, loss=0.0286]\n"
     ]
    },
    {
     "name": "stdout",
     "output_type": "stream",
     "text": [
      "Epoch 10 - Train Loss: 0.0277\n",
      "Epoch 10 - Validation Loss: 0.0269\n"
     ]
    },
    {
     "name": "stderr",
     "output_type": "stream",
     "text": [
      "Epoch 11/50: 100%|██████████| 26/26 [00:03<00:00,  7.85it/s, loss=0.0266]\n"
     ]
    },
    {
     "name": "stdout",
     "output_type": "stream",
     "text": [
      "Epoch 11 - Train Loss: 0.0276\n",
      "Epoch 11 - Validation Loss: 0.0269\n"
     ]
    },
    {
     "name": "stderr",
     "output_type": "stream",
     "text": [
      "Epoch 12/50: 100%|██████████| 26/26 [00:03<00:00,  7.83it/s, loss=0.0269]\n"
     ]
    },
    {
     "name": "stdout",
     "output_type": "stream",
     "text": [
      "Epoch 12 - Train Loss: 0.0275\n",
      "Epoch 12 - Validation Loss: 0.0269\n"
     ]
    },
    {
     "name": "stderr",
     "output_type": "stream",
     "text": [
      "Epoch 13/50: 100%|██████████| 26/26 [00:03<00:00,  7.84it/s, loss=0.0273]\n"
     ]
    },
    {
     "name": "stdout",
     "output_type": "stream",
     "text": [
      "Epoch 13 - Train Loss: 0.0274\n",
      "Epoch 13 - Validation Loss: 0.0267\n"
     ]
    },
    {
     "name": "stderr",
     "output_type": "stream",
     "text": [
      "Epoch 14/50: 100%|██████████| 26/26 [00:03<00:00,  7.82it/s, loss=0.0279]\n"
     ]
    },
    {
     "name": "stdout",
     "output_type": "stream",
     "text": [
      "Epoch 14 - Train Loss: 0.0272\n",
      "Epoch 14 - Validation Loss: 0.0267\n"
     ]
    },
    {
     "name": "stderr",
     "output_type": "stream",
     "text": [
      "Epoch 15/50: 100%|██████████| 26/26 [00:03<00:00,  7.81it/s, loss=0.0299]\n"
     ]
    },
    {
     "name": "stdout",
     "output_type": "stream",
     "text": [
      "Epoch 15 - Train Loss: 0.0272\n",
      "Epoch 15 - Validation Loss: 0.0266\n"
     ]
    },
    {
     "name": "stderr",
     "output_type": "stream",
     "text": [
      "Epoch 16/50: 100%|██████████| 26/26 [00:03<00:00,  7.87it/s, loss=0.0285]\n"
     ]
    },
    {
     "name": "stdout",
     "output_type": "stream",
     "text": [
      "Epoch 16 - Train Loss: 0.0271\n",
      "Epoch 16 - Validation Loss: 0.0266\n"
     ]
    },
    {
     "name": "stderr",
     "output_type": "stream",
     "text": [
      "Epoch 17/50: 100%|██████████| 26/26 [00:03<00:00,  7.85it/s, loss=0.0261]\n"
     ]
    },
    {
     "name": "stdout",
     "output_type": "stream",
     "text": [
      "Epoch 17 - Train Loss: 0.0270\n",
      "Epoch 17 - Validation Loss: 0.0265\n"
     ]
    },
    {
     "name": "stderr",
     "output_type": "stream",
     "text": [
      "Epoch 18/50: 100%|██████████| 26/26 [00:03<00:00,  7.83it/s, loss=0.0274]\n"
     ]
    },
    {
     "name": "stdout",
     "output_type": "stream",
     "text": [
      "Epoch 18 - Train Loss: 0.0270\n",
      "Epoch 18 - Validation Loss: 0.0265\n"
     ]
    },
    {
     "name": "stderr",
     "output_type": "stream",
     "text": [
      "Epoch 19/50: 100%|██████████| 26/26 [00:03<00:00,  7.90it/s, loss=0.0266]\n"
     ]
    },
    {
     "name": "stdout",
     "output_type": "stream",
     "text": [
      "Epoch 19 - Train Loss: 0.0269\n",
      "Epoch 19 - Validation Loss: 0.0265\n"
     ]
    },
    {
     "name": "stderr",
     "output_type": "stream",
     "text": [
      "Epoch 20/50: 100%|██████████| 26/26 [00:03<00:00,  7.87it/s, loss=0.0257]\n"
     ]
    },
    {
     "name": "stdout",
     "output_type": "stream",
     "text": [
      "Epoch 20 - Train Loss: 0.0269\n",
      "Epoch 20 - Validation Loss: 0.0265\n"
     ]
    },
    {
     "name": "stderr",
     "output_type": "stream",
     "text": [
      "Epoch 21/50: 100%|██████████| 26/26 [00:03<00:00,  7.80it/s, loss=0.0259]\n"
     ]
    },
    {
     "name": "stdout",
     "output_type": "stream",
     "text": [
      "Epoch 21 - Train Loss: 0.0269\n",
      "Epoch 21 - Validation Loss: 0.0264\n"
     ]
    },
    {
     "name": "stderr",
     "output_type": "stream",
     "text": [
      "Epoch 22/50: 100%|██████████| 26/26 [00:03<00:00,  7.88it/s, loss=0.0263]\n"
     ]
    },
    {
     "name": "stdout",
     "output_type": "stream",
     "text": [
      "Epoch 22 - Train Loss: 0.0268\n",
      "Epoch 22 - Validation Loss: 0.0264\n"
     ]
    },
    {
     "name": "stderr",
     "output_type": "stream",
     "text": [
      "Epoch 23/50: 100%|██████████| 26/26 [00:03<00:00,  7.88it/s, loss=0.0261]\n"
     ]
    },
    {
     "name": "stdout",
     "output_type": "stream",
     "text": [
      "Epoch 23 - Train Loss: 0.0268\n",
      "Epoch 23 - Validation Loss: 0.0264\n"
     ]
    },
    {
     "name": "stderr",
     "output_type": "stream",
     "text": [
      "Epoch 24/50: 100%|██████████| 26/26 [00:03<00:00,  7.84it/s, loss=0.0269]\n"
     ]
    },
    {
     "name": "stdout",
     "output_type": "stream",
     "text": [
      "Epoch 24 - Train Loss: 0.0268\n",
      "Epoch 24 - Validation Loss: 0.0264\n"
     ]
    },
    {
     "name": "stderr",
     "output_type": "stream",
     "text": [
      "Epoch 25/50: 100%|██████████| 26/26 [00:03<00:00,  7.83it/s, loss=0.0263]\n"
     ]
    },
    {
     "name": "stdout",
     "output_type": "stream",
     "text": [
      "Epoch 25 - Train Loss: 0.0268\n",
      "Epoch 25 - Validation Loss: 0.0264\n"
     ]
    },
    {
     "name": "stderr",
     "output_type": "stream",
     "text": [
      "Epoch 26/50: 100%|██████████| 26/26 [00:03<00:00,  7.67it/s, loss=0.0268]\n"
     ]
    },
    {
     "name": "stdout",
     "output_type": "stream",
     "text": [
      "Epoch 26 - Train Loss: 0.0268\n",
      "Epoch 26 - Validation Loss: 0.0264\n"
     ]
    },
    {
     "name": "stderr",
     "output_type": "stream",
     "text": [
      "Epoch 27/50: 100%|██████████| 26/26 [00:03<00:00,  7.83it/s, loss=0.0264]\n"
     ]
    },
    {
     "name": "stdout",
     "output_type": "stream",
     "text": [
      "Epoch 27 - Train Loss: 0.0268\n",
      "Epoch 27 - Validation Loss: 0.0264\n"
     ]
    },
    {
     "name": "stderr",
     "output_type": "stream",
     "text": [
      "Epoch 28/50: 100%|██████████| 26/26 [00:03<00:00,  7.83it/s, loss=0.0286]\n"
     ]
    },
    {
     "name": "stdout",
     "output_type": "stream",
     "text": [
      "Epoch 28 - Train Loss: 0.0268\n",
      "Epoch 28 - Validation Loss: 0.0264\n"
     ]
    },
    {
     "name": "stderr",
     "output_type": "stream",
     "text": [
      "Epoch 29/50: 100%|██████████| 26/26 [00:03<00:00,  7.84it/s, loss=0.0264]\n"
     ]
    },
    {
     "name": "stdout",
     "output_type": "stream",
     "text": [
      "Epoch 29 - Train Loss: 0.0267\n",
      "Epoch 29 - Validation Loss: 0.0264\n"
     ]
    },
    {
     "name": "stderr",
     "output_type": "stream",
     "text": [
      "Epoch 30/50: 100%|██████████| 26/26 [00:03<00:00,  7.81it/s, loss=0.0266]\n"
     ]
    },
    {
     "name": "stdout",
     "output_type": "stream",
     "text": [
      "Epoch 30 - Train Loss: 0.0267\n",
      "Epoch 30 - Validation Loss: 0.0264\n"
     ]
    },
    {
     "name": "stderr",
     "output_type": "stream",
     "text": [
      "Epoch 31/50: 100%|██████████| 26/26 [00:03<00:00,  7.85it/s, loss=0.0278]\n"
     ]
    },
    {
     "name": "stdout",
     "output_type": "stream",
     "text": [
      "Epoch 31 - Train Loss: 0.0267\n",
      "Epoch 31 - Validation Loss: 0.0264\n"
     ]
    },
    {
     "name": "stderr",
     "output_type": "stream",
     "text": [
      "Epoch 32/50: 100%|██████████| 26/26 [00:03<00:00,  7.85it/s, loss=0.0271]\n"
     ]
    },
    {
     "name": "stdout",
     "output_type": "stream",
     "text": [
      "Epoch 32 - Train Loss: 0.0267\n",
      "Epoch 32 - Validation Loss: 0.0264\n"
     ]
    },
    {
     "name": "stderr",
     "output_type": "stream",
     "text": [
      "Epoch 33/50: 100%|██████████| 26/26 [00:03<00:00,  7.86it/s, loss=0.0274]\n"
     ]
    },
    {
     "name": "stdout",
     "output_type": "stream",
     "text": [
      "Epoch 33 - Train Loss: 0.0267\n",
      "Epoch 33 - Validation Loss: 0.0264\n"
     ]
    },
    {
     "name": "stderr",
     "output_type": "stream",
     "text": [
      "Epoch 34/50: 100%|██████████| 26/26 [00:03<00:00,  7.85it/s, loss=0.0271]\n"
     ]
    },
    {
     "name": "stdout",
     "output_type": "stream",
     "text": [
      "Epoch 34 - Train Loss: 0.0267\n",
      "Epoch 34 - Validation Loss: 0.0264\n"
     ]
    },
    {
     "name": "stderr",
     "output_type": "stream",
     "text": [
      "Epoch 35/50: 100%|██████████| 26/26 [00:03<00:00,  7.81it/s, loss=0.0269]\n"
     ]
    },
    {
     "name": "stdout",
     "output_type": "stream",
     "text": [
      "Epoch 35 - Train Loss: 0.0267\n",
      "Epoch 35 - Validation Loss: 0.0263\n"
     ]
    },
    {
     "name": "stderr",
     "output_type": "stream",
     "text": [
      "Epoch 36/50: 100%|██████████| 26/26 [00:03<00:00,  7.83it/s, loss=0.0278]\n"
     ]
    },
    {
     "name": "stdout",
     "output_type": "stream",
     "text": [
      "Epoch 36 - Train Loss: 0.0267\n",
      "Epoch 36 - Validation Loss: 0.0264\n"
     ]
    },
    {
     "name": "stderr",
     "output_type": "stream",
     "text": [
      "Epoch 37/50: 100%|██████████| 26/26 [00:03<00:00,  7.84it/s, loss=0.0265]\n"
     ]
    },
    {
     "name": "stdout",
     "output_type": "stream",
     "text": [
      "Epoch 37 - Train Loss: 0.0267\n",
      "Epoch 37 - Validation Loss: 0.0263\n"
     ]
    },
    {
     "name": "stderr",
     "output_type": "stream",
     "text": [
      "Epoch 38/50: 100%|██████████| 26/26 [00:03<00:00,  7.84it/s, loss=0.0278]\n"
     ]
    },
    {
     "name": "stdout",
     "output_type": "stream",
     "text": [
      "Epoch 38 - Train Loss: 0.0267\n",
      "Epoch 38 - Validation Loss: 0.0264\n"
     ]
    },
    {
     "name": "stderr",
     "output_type": "stream",
     "text": [
      "Epoch 39/50: 100%|██████████| 26/26 [00:03<00:00,  7.84it/s, loss=0.0263]\n"
     ]
    },
    {
     "name": "stdout",
     "output_type": "stream",
     "text": [
      "Epoch 39 - Train Loss: 0.0266\n",
      "Epoch 39 - Validation Loss: 0.0263\n"
     ]
    },
    {
     "name": "stderr",
     "output_type": "stream",
     "text": [
      "Epoch 40/50: 100%|██████████| 26/26 [00:03<00:00,  7.83it/s, loss=0.0257]\n"
     ]
    },
    {
     "name": "stdout",
     "output_type": "stream",
     "text": [
      "Epoch 40 - Train Loss: 0.0267\n",
      "Epoch 40 - Validation Loss: 0.0264\n"
     ]
    },
    {
     "name": "stderr",
     "output_type": "stream",
     "text": [
      "Epoch 41/50: 100%|██████████| 26/26 [00:03<00:00,  7.83it/s, loss=0.0266]\n"
     ]
    },
    {
     "name": "stdout",
     "output_type": "stream",
     "text": [
      "Epoch 41 - Train Loss: 0.0267\n",
      "Epoch 41 - Validation Loss: 0.0264\n"
     ]
    },
    {
     "name": "stderr",
     "output_type": "stream",
     "text": [
      "Epoch 42/50: 100%|██████████| 26/26 [00:03<00:00,  7.83it/s, loss=0.0272]\n"
     ]
    },
    {
     "name": "stdout",
     "output_type": "stream",
     "text": [
      "Epoch 42 - Train Loss: 0.0266\n",
      "Epoch 42 - Validation Loss: 0.0263\n"
     ]
    },
    {
     "name": "stderr",
     "output_type": "stream",
     "text": [
      "Epoch 43/50: 100%|██████████| 26/26 [00:03<00:00,  7.86it/s, loss=0.0228]\n"
     ]
    },
    {
     "name": "stdout",
     "output_type": "stream",
     "text": [
      "Epoch 43 - Train Loss: 0.0266\n",
      "Epoch 43 - Validation Loss: 0.0263\n"
     ]
    },
    {
     "name": "stderr",
     "output_type": "stream",
     "text": [
      "Epoch 44/50: 100%|██████████| 26/26 [00:03<00:00,  7.84it/s, loss=0.0266]\n"
     ]
    },
    {
     "name": "stdout",
     "output_type": "stream",
     "text": [
      "Epoch 44 - Train Loss: 0.0266\n",
      "Epoch 44 - Validation Loss: 0.0263\n"
     ]
    },
    {
     "name": "stderr",
     "output_type": "stream",
     "text": [
      "Epoch 45/50: 100%|██████████| 26/26 [00:03<00:00,  7.86it/s, loss=0.0274]\n"
     ]
    },
    {
     "name": "stdout",
     "output_type": "stream",
     "text": [
      "Epoch 45 - Train Loss: 0.0266\n",
      "Epoch 45 - Validation Loss: 0.0263\n"
     ]
    },
    {
     "name": "stderr",
     "output_type": "stream",
     "text": [
      "Epoch 46/50: 100%|██████████| 26/26 [00:03<00:00,  7.83it/s, loss=0.0264]\n"
     ]
    },
    {
     "name": "stdout",
     "output_type": "stream",
     "text": [
      "Epoch 46 - Train Loss: 0.0266\n",
      "Epoch 46 - Validation Loss: 0.0263\n"
     ]
    },
    {
     "name": "stderr",
     "output_type": "stream",
     "text": [
      "Epoch 47/50: 100%|██████████| 26/26 [00:03<00:00,  7.85it/s, loss=0.0264]\n"
     ]
    },
    {
     "name": "stdout",
     "output_type": "stream",
     "text": [
      "Epoch 47 - Train Loss: 0.0266\n",
      "Epoch 47 - Validation Loss: 0.0263\n"
     ]
    },
    {
     "name": "stderr",
     "output_type": "stream",
     "text": [
      "Epoch 48/50: 100%|██████████| 26/26 [00:03<00:00,  7.82it/s, loss=0.0275]\n"
     ]
    },
    {
     "name": "stdout",
     "output_type": "stream",
     "text": [
      "Epoch 48 - Train Loss: 0.0266\n",
      "Epoch 48 - Validation Loss: 0.0263\n"
     ]
    },
    {
     "name": "stderr",
     "output_type": "stream",
     "text": [
      "Epoch 49/50: 100%|██████████| 26/26 [00:03<00:00,  7.85it/s, loss=0.0266]\n"
     ]
    },
    {
     "name": "stdout",
     "output_type": "stream",
     "text": [
      "Epoch 49 - Train Loss: 0.0266\n",
      "Epoch 49 - Validation Loss: 0.0263\n"
     ]
    },
    {
     "name": "stderr",
     "output_type": "stream",
     "text": [
      "Epoch 50/50: 100%|██████████| 26/26 [00:03<00:00,  7.80it/s, loss=0.0288]\n"
     ]
    },
    {
     "name": "stdout",
     "output_type": "stream",
     "text": [
      "Epoch 50 - Train Loss: 0.0266\n",
      "Epoch 50 - Validation Loss: 0.0263\n"
     ]
    },
    {
     "data": {
      "image/png": "[encoded data removed]",
      "text/plain": [
       "<Figure size 640x480 with 1 Axes>"
      ]
     },
     "metadata": {},
     "output_type": "display_data"
    }
   ],
   "source": [
    "import torch\n",
    "from tqdm import tqdm\n",
    "from modules import SVDLinearLayer\n",
    "import torch.nn.functional as F\n",
    "import torch.nn as nn\n",
    "import pickle\n",
    "\n",
    "# --- Configuration ---\n",
    "# Using constants makes the code cleaner and easier to modify.\n",
    "DEVICE = torch.device(\"cuda\" if torch.cuda.is_available() else \"cpu\")\n",
    "LAYER_HOOK = \"model.layers.31.self_attn.q_proj\"\n",
    "ACTIVATIONS_PATH = f\"matrixes/{LAYER_HOOK}_activations.pt\"\n",
    "WEIGHTS_PATH = f\"matrixes/{LAYER_HOOK}_weight.pt\"\n",
    "IMPORTANCE_PATH = f\"grads/llama7b_grads.pkl\"\n",
    "\n",
    "RATIO = 0.6\n",
    "EPOCHS = 50\n",
    "LEARNING_RATE = 1e-4\n",
    "WEIGHT_DECAY = 1e-3\n",
    "N_SAMPLES_FOR_INIT = 50\n",
    "BATCH_SIZE = 10\n",
    "TRAIN_SAMPLES = 256\n",
    "\n",
    "# --- 1. Efficient Data Loading and Pre-processing ---\n",
    "\n",
    "# Move weights to the correct device right after loading.\n",
    "# non_blocking=True can enable faster asynchronous memory copies on CUDA hardware.\n",
    "W = torch.load(WEIGHTS_PATH).to(DEVICE, non_blocking=True).float()\n",
    "\n",
    "# It's more memory-efficient to load large tensors to CPU first.\n",
    "# We will move only the necessary batches to the GPU during training.\n",
    "pre_act = torch.load(ACTIVATIONS_PATH).float() # (batches, samples_batch, seq_len, features)\n",
    "\n",
    "# Concat the first two dimensions\n",
    "pre_act = pre_act.view(pre_act.shape[0] * pre_act.shape[1], pre_act.shape[2], pre_act.shape[3]) # (samples, seq_len, features)\n",
    "\n",
    "# Shuffle the activations to ensure randomness in training with seed\n",
    "torch.manual_seed(42)\n",
    "pre_act = pre_act[torch.randperm(pre_act.size(0))]\n",
    "\n",
    "pre_act_train = pre_act[:TRAIN_SAMPLES, :, :]  # Use only the first TRAIN_SAMPLES for training\n",
    "pre_act_val = pre_act[TRAIN_SAMPLES:, :, :]  # Use the rest for validation\n",
    "\n",
    "del pre_act\n",
    "\n",
    "print(f\"Training Activations shape: {pre_act_train.shape}\")\n",
    "print(f\"Validation Activations shape: {pre_act_val.shape}\")\n",
    "print(f\"Loaded weights shape: {W.shape}\")\n",
    "\n",
    "# --- 2. Simplified Truncation Calculation ---\n",
    "\n",
    "out_features, in_features = W.shape\n",
    "truncate = int(W.shape[0] * W.shape[1] * RATIO / (W.shape[0] + W.shape[1]))\n",
    "print(f\"Truncate: {truncate}\")\n",
    "\n",
    "# --- 3. Memory-Efficient SVD Initialization ---\n",
    "\n",
    "# Create the initialization data by taking a slice on the CPU first,\n",
    "# and only then moving the smaller tensor to the GPU.\n",
    "init_data_slice = pre_act_train[:N_SAMPLES_FOR_INIT, :, :]\n",
    "svd_layer = SVDLinearLayer(\n",
    "    W, # weights are already on DEVICE\n",
    "    truncate,\n",
    "    bias=None,\n",
    "    data=init_data_slice.to(DEVICE, non_blocking=True)\n",
    ").to(DEVICE).train()\n",
    "\n",
    "og_linear_module = nn.Linear(\n",
    "    in_features=W.shape[1],\n",
    "    out_features=W.shape[0],\n",
    "    bias=False,\n",
    "    device=DEVICE\n",
    ")\n",
    "\n",
    "og_linear_module.weight.data = W.float()\n",
    "og_linear_module.eval()\n",
    "\n",
    "# Clean up to free memory immediately.\n",
    "del init_data_slice\n",
    "torch.cuda.empty_cache()\n",
    "\n",
    "loss_fn = nn.MSELoss(reduction=\"mean\")\n",
    "\n",
    "# Using fused=True can provide a performance boost on compatible CUDA devices.\n",
    "optimizer = torch.optim.AdamW(\n",
    "    svd_layer.parameters(), lr=LEARNING_RATE, weight_decay=WEIGHT_DECAY, fused=torch.cuda.is_available()\n",
    ")\n",
    "\n",
    "# --- 4. Efficient Training Loop ---\n",
    "train_loss_log = []\n",
    "val_loss_log = []\n",
    "for epoch in range(EPOCHS):\n",
    "    svd_layer.train()\n",
    "    epoch_loss_log = []\n",
    "    pbar = tqdm(range(0, pre_act_train.shape[0], BATCH_SIZE), desc=f\"Epoch {epoch + 1}/{EPOCHS}\")\n",
    "    \n",
    "    # Shuffle the training data at the start of each epoch\n",
    "    pre_act_train = pre_act_train[torch.randperm(pre_act_train.size(0))]\n",
    "    \n",
    "    for i in pbar:\n",
    "        batch = pre_act_train[i:i + BATCH_SIZE, :, :].to(DEVICE, non_blocking=True)\n",
    "        optimizer.zero_grad()\n",
    "        \n",
    "        # Forward pass\n",
    "        output = svd_layer(batch)\n",
    "        \n",
    "        # Compute loss\n",
    "        loss = loss_fn(output, og_linear_module(batch))\n",
    "        loss.backward()\n",
    "        \n",
    "        # Update weights\n",
    "        optimizer.step()\n",
    "        epoch_loss_log.append(loss.item())\n",
    "        \n",
    "        pbar.set_postfix({\"loss\": loss.item()})\n",
    "    train_loss_log.append(sum(epoch_loss_log) / len(epoch_loss_log))\n",
    "    print(f\"Epoch {epoch + 1} - Train Loss: {train_loss_log[-1]:.4f}\")\n",
    "    svd_layer.eval()\n",
    "    with torch.no_grad():\n",
    "        val_loss = loss_fn(svd_layer(pre_act_val.to(DEVICE, non_blocking=True)), og_linear_module(pre_act_val.to(DEVICE, non_blocking=True)))\n",
    "        val_loss_log.append(val_loss.item())\n",
    "        print(f\"Epoch {epoch + 1} - Validation Loss: {val_loss.item():.4f}\")\n",
    "        \n",
    "#Log losses \n",
    "import matplotlib.pyplot as plt\n",
    "plt.plot(train_loss_log, label='Train Loss')\n",
    "plt.plot(val_loss_log, label='Validation Loss')\n",
    "plt.xlabel('Epoch')\n",
    "plt.ylabel('Loss')\n",
    "plt.title('Training and Validation Loss')\n",
    "plt.legend()\n",
    "plt.grid()\n",
    "plt.show()"
   ]
  },
  {
   "cell_type": "markdown",
   "id": "76016c80",
   "metadata": {},
   "source": [
    "# SVD-LLM METHOD"
   ]
  },
  {
   "cell_type": "code",
   "execution_count": 8,
   "id": "48d30397",
   "metadata": {},
   "outputs": [
    {
     "name": "stdout",
     "output_type": "stream",
     "text": [
      "torch.Size([32, 8, 2048, 4096]) torch.Size([4096, 4096])\n"
     ]
    },
    {
     "name": "stderr",
     "output_type": "stream",
     "text": [
      "100%|██████████| 32/32 [00:01<00:00, 24.07it/s]\n",
      "100%|██████████| 288/288 [00:01<00:00, 195.48it/s]\n"
     ]
    },
    {
     "name": "stdout",
     "output_type": "stream",
     "text": [
      "Train Loss: 0.026148973149247468\n"
     ]
    },
    {
     "name": "stderr",
     "output_type": "stream",
     "text": [
      "100%|██████████| 4/4 [00:00<00:00, 19.07it/s]"
     ]
    },
    {
     "name": "stdout",
     "output_type": "stream",
     "text": [
      "Validation Loss: 0.026124583091586828\n"
     ]
    },
    {
     "name": "stderr",
     "output_type": "stream",
     "text": [
      "\n"
     ]
    }
   ],
   "source": [
    "import torch\n",
    "from tqdm import tqdm\n",
    "\n",
    "DEVICE = torch.device(\"cuda\" if torch.cuda.is_available() else \"cpu\")\n",
    "LAYER_HOOK = \"model.layers.31.self_attn.q_proj\"\n",
    "ACTIVATIONS_PATH = f\"matrixes/{LAYER_HOOK}_activations.pt\"\n",
    "WEIGHTS_PATH = f\"matrixes/{LAYER_HOOK}_weight.pt\"\n",
    "\n",
    "TRAIN_SAMPLES = 256\n",
    "BATCH_SIZE = 8\n",
    "\n",
    "# Load activations and weights\n",
    "pre_act = torch.load(ACTIVATIONS_PATH).float()\n",
    "W = torch.load(WEIGHTS_PATH).float().to(DEVICE) # OUT FEATURES, IN FEATURES\n",
    "\n",
    "pre_act = pre_act.view(pre_act.shape[0] * pre_act.shape[1], pre_act.shape[2], pre_act.shape[3]) # (samples, seq_len, features)\n",
    "\n",
    "torch.manual_seed(42)\n",
    "pre_act = pre_act[torch.randperm(pre_act.size(0))]\n",
    "\n",
    "# Use only the first TRAIN_SAMPLES for training\n",
    "pre_act = pre_act[:TRAIN_SAMPLES, :, :]  # Use only the first TRAIN_SAMPLES for training\n",
    "\n",
    "# Devide the pre_act into batches\n",
    "pre_act = pre_act.view(-1, BATCH_SIZE, pre_act.shape[1], pre_act.shape[2])  # (samples, batch_size, seq_len, features)\n",
    "\n",
    "print(pre_act.shape, W.shape)\n",
    "\n",
    "raw_scaling_diag_matrix = 0\n",
    "# Calculate the scaling diagonal matrix\n",
    "\n",
    "for i in tqdm(range(pre_act.shape[0])):\n",
    "    inp = pre_act[i].to(DEVICE)\n",
    "    adds = torch.matmul(inp.transpose(1,2), inp)\n",
    "    adds_sum = adds.sum(dim=0)\n",
    "    raw_scaling_diag_matrix += adds_sum\n",
    "    del adds, adds_sum, inp\n",
    "    torch.cuda.empty_cache()\n",
    "    \n",
    "# Start Cholesky decomposition\n",
    "raw_scaling_diag_matrix = raw_scaling_diag_matrix.double()\n",
    "try:\n",
    "    scaling_diag_matrix = torch.linalg.cholesky(raw_scaling_diag_matrix)\n",
    "except Exception as e:\n",
    "    print(\"Warning: eigen scaling_diag_matrix is not positive!\")\n",
    "    eigenvalues = torch.linalg.eigvalsh(raw_scaling_diag_matrix)\n",
    "    raw_scaling_diag_matrix += (- eigenvalues[0] + 1e-6) * torch.eye(raw_scaling_diag_matrix.shape[0]).to(dev)\n",
    "    scaling_diag_matrix = torch.linalg.cholesky(raw_scaling_diag_matrix)\n",
    "    eigenvalues = None\n",
    "    del eigenvalues\n",
    "    \n",
    "del raw_scaling_diag_matrix\n",
    "torch.cuda.empty_cache()\n",
    "\n",
    "try:\n",
    "    scaling_matrix_inv = torch.linalg.inv(scaling_diag_matrix)\n",
    "except Exception as e:\n",
    "    print(\"Warning: scaling_diag_matrix is not full rank!\")\n",
    "    scaling_diag_matrix += 1e-6 * torch.eye(scaling_diag_matrix.shape[0]).to(DEVICE)\n",
    "    scaling_matrix_inv = torch.linalg.inv(scaling_diag_matrix)\n",
    "    \n",
    "scaling_diag_matrix = scaling_diag_matrix.float()\n",
    "scaling_matrix_inv = scaling_matrix_inv.float()\n",
    "\n",
    "torch.cuda.empty_cache()\n",
    "\n",
    "W_scale = torch.matmul(W, scaling_diag_matrix)\n",
    "U, S, VT = torch.linalg.svd(W_scale, full_matrices=False)\n",
    "\n",
    "ratio = 0.6\n",
    "\n",
    "num_s_after_trunc = int(W.shape[0] * W.shape[1] * ratio / (W.shape[0] + W.shape[1]))\n",
    "\n",
    "truc_s = S[:num_s_after_trunc]\n",
    "truc_u = U[:, :num_s_after_trunc]\n",
    "truc_v = torch.matmul(VT[:num_s_after_trunc, :], scaling_matrix_inv)\n",
    "truc_sigma = torch.diag(truc_s)\n",
    "\n",
    "sqrtSigma = torch.sqrt(truc_sigma)\n",
    "svd_u = torch.matmul(truc_u, sqrtSigma)\n",
    "svd_v = torch.matmul(sqrtSigma, truc_v)\n",
    "\n",
    "del U, S, VT, scaling_diag_matrix, scaling_matrix_inv\n",
    "torch.cuda.empty_cache()\n",
    "\n",
    "import torch.nn as nn\n",
    "import torch.nn.functional as F\n",
    "\n",
    "BATCH_SIZE = 8\n",
    "\n",
    "pre_act = torch.load(ACTIVATIONS_PATH).float()\n",
    "\n",
    "pre_act = pre_act.view(pre_act.shape[0] * pre_act.shape[1], pre_act.shape[2], pre_act.shape[3]) # (samples, seq_len, features)\n",
    "\n",
    "torch.manual_seed(42)\n",
    "pre_act = pre_act[torch.randperm(pre_act.size(0))]\n",
    "\n",
    "# Use only the first TRAIN_SAMPLES for training\n",
    "pre_act_train = pre_act[:TRAIN_SAMPLES, :, :]  # Use only the first TRAIN_SAMPLES for training\n",
    "pre_act_val = pre_act[TRAIN_SAMPLES:, :, :]  # Use the rest for validation\n",
    "\n",
    "# Devide the pre_act into batches\n",
    "pre_act_train = pre_act_train.view(-1, BATCH_SIZE, pre_act_train.shape[1], pre_act_train.shape[2])  # (samples, batch_size, seq_len, features)\n",
    "pre_act_val = pre_act_val.view(-1, BATCH_SIZE, pre_act_val.shape[1], pre_act_val.shape[2])  # (samples, batch_size, seq_len, features)\n",
    "\n",
    "og_linear_module = nn.Linear(\n",
    "    in_features=W.shape[1],\n",
    "    out_features=W.shape[0],\n",
    "    bias=False,\n",
    "    device=DEVICE\n",
    ")\n",
    "\n",
    "og_linear_module.weight.data = W.float()\n",
    "og_linear_module.eval()\n",
    "\n",
    "svd_llm_linear_module = nn.Sequential(\n",
    "    nn.Linear(\n",
    "        in_features=svd_v.shape[1],\n",
    "        out_features=svd_v.shape[0],\n",
    "        bias=False,\n",
    "        device=DEVICE\n",
    "    ),\n",
    "    nn.Linear(\n",
    "        in_features=svd_u.shape[1],\n",
    "        out_features=svd_u.shape[0],\n",
    "        bias=False,\n",
    "        device=DEVICE\n",
    "    )\n",
    ")\n",
    "\n",
    "svd_llm_linear_module[0].weight.data = svd_v.float()\n",
    "svd_llm_linear_module[1].weight.data = svd_u.float()\n",
    "svd_llm_linear_module.eval()\n",
    "\n",
    "# Test the original and SVD-LLM linear modules with the pre_act tensor\n",
    "\n",
    "loss_log = []\n",
    "loss_fn = nn.MSELoss(reduction='mean')\n",
    "for i in tqdm(range(pre_act.shape[0])):\n",
    "    inp = pre_act[i].to(DEVICE)\n",
    "    \n",
    "    og_out = og_linear_module(inp)\n",
    "    svd_out = svd_llm_linear_module(inp)\n",
    "    \n",
    "    loss = loss_fn(og_out, svd_out)\n",
    "    loss_log.append(loss.item())\n",
    "    \n",
    "    del inp, og_out, svd_out\n",
    "    torch.cuda.empty_cache()\n",
    "print(f\"Train Loss: {sum(loss_log) / len(loss_log)}\")\n",
    "\n",
    "# Calculate the Val loss\n",
    "val_loss_log = []\n",
    "for i in tqdm(range(pre_act_val.shape[0])):\n",
    "    inp = pre_act_val[i].to(DEVICE)\n",
    "    \n",
    "    og_out = og_linear_module(inp)\n",
    "    svd_out = svd_llm_linear_module(inp)\n",
    "    \n",
    "    loss = loss_fn(og_out, svd_out)\n",
    "    val_loss_log.append(loss.item())\n",
    "    \n",
    "    del inp, og_out, svd_out\n",
    "    torch.cuda.empty_cache()\n",
    "print(f\"Validation Loss: {sum(val_loss_log) / len(val_loss_log)}\")\n"
   ]
  },
  {
   "cell_type": "markdown",
   "id": "eea2933f",
   "metadata": {},
   "source": [
    "# Alternative Approach of the gradient method"
   ]
  },
  {
   "cell_type": "code",
   "execution_count": 3,
   "id": "088033d4",
   "metadata": {},
   "outputs": [
    {
     "name": "stdout",
     "output_type": "stream",
     "text": [
      "Training Activations shape: torch.Size([256, 2048, 4096])\n",
      "Validation Activations shape: torch.Size([32, 2048, 4096])\n",
      "Loaded weights shape: torch.Size([4096, 4096])\n",
      "Rank after truncation: 1228\n",
      "\n",
      "--- Starting Run 1/5 ---\n"
     ]
    },
    {
     "name": "stderr",
     "output_type": "stream",
     "text": [
      "Training on Run 1 Data: 100%|██████████| 250/250 [00:27<00:00,  9.17it/s, loss=0.023412]\n"
     ]
    },
    {
     "name": "stdout",
     "output_type": "stream",
     "text": [
      "Run 1 - Average Training Loss: 0.026050\n",
      "Run 1 - Validation Loss: 0.027935\n",
      "\n",
      "--- Starting Run 2/5 ---\n"
     ]
    },
    {
     "name": "stderr",
     "output_type": "stream",
     "text": [
      "Training on Run 2 Data: 100%|██████████| 250/250 [00:27<00:00,  9.06it/s, loss=0.022737]\n"
     ]
    },
    {
     "name": "stdout",
     "output_type": "stream",
     "text": [
      "Run 2 - Average Training Loss: 0.023795\n",
      "Run 2 - Validation Loss: 0.028480\n",
      "\n",
      "--- Starting Run 3/5 ---\n"
     ]
    },
    {
     "name": "stderr",
     "output_type": "stream",
     "text": [
      "Training on Run 3 Data: 100%|██████████| 250/250 [00:27<00:00,  9.03it/s, loss=0.022000]\n"
     ]
    },
    {
     "name": "stdout",
     "output_type": "stream",
     "text": [
      "Run 3 - Average Training Loss: 0.023031\n",
      "Run 3 - Validation Loss: 0.027994\n",
      "\n",
      "--- Starting Run 4/5 ---\n"
     ]
    },
    {
     "name": "stderr",
     "output_type": "stream",
     "text": [
      "Training on Run 4 Data: 100%|██████████| 250/250 [00:27<00:00,  9.09it/s, loss=0.022708]\n"
     ]
    },
    {
     "name": "stdout",
     "output_type": "stream",
     "text": [
      "Run 4 - Average Training Loss: 0.023602\n",
      "Run 4 - Validation Loss: 0.027864\n",
      "\n",
      "--- Starting Run 5/5 ---\n"
     ]
    },
    {
     "name": "stderr",
     "output_type": "stream",
     "text": [
      "Training on Run 5 Data: 100%|██████████| 250/250 [00:27<00:00,  9.05it/s, loss=0.022309]\n"
     ]
    },
    {
     "name": "stdout",
     "output_type": "stream",
     "text": [
      "Run 5 - Average Training Loss: 0.023153\n",
      "Run 5 - Validation Loss: 0.028196\n",
      "\n",
      "--- Training Complete ---\n",
      "Final Training Losses per Run: [0.026050269097089768, 0.023795056462287904, 0.023030835457146168, 0.02360195239633322, 0.023153097212314604]\n",
      "Final Validation Losses per Run: [0.027935072779655457, 0.02848004177212715, 0.02799449861049652, 0.02786402218043804, 0.0281958170235157]\n"
     ]
    }
   ],
   "source": [
    "import torch\n",
    "from tqdm import tqdm\n",
    "from modules import SVDLinearLayer\n",
    "import torch.nn.functional as F\n",
    "import torch.nn as nn\n",
    "import pickle\n",
    "\n",
    "# --- Configuration ---\n",
    "# Updated configuration to reflect the new training loop structure.\n",
    "DEVICE = torch.device(\"cuda\" if torch.cuda.is_available() else \"cpu\")\n",
    "LAYER_HOOK = \"model.layers.31.self_attn.q_proj\"\n",
    "ACTIVATIONS_PATH = f\"matrixes/{LAYER_HOOK}_activations.pt\"\n",
    "WEIGHTS_PATH = f\"matrixes/{LAYER_HOOK}_weight.pt\"\n",
    "# IMPORTANCE_PATH was defined but not used, so it's commented out.\n",
    "# IMPORTANCE_PATH = f\"grads/llama7b_grads.pkl\"\n",
    "\n",
    "# --- New Training Parameters ---\n",
    "RATIO = 0.6\n",
    "RUNS = 5               # Number of distinct data chunks to train on.\n",
    "SAMPLES_PER_RUN = 34   # The number of samples in each data chunk (acts as a fixed batch).\n",
    "EPOCHS_PER_RUN = 250    # Number of training epochs to perform on each chunk.\n",
    "LEARNING_RATE = 1e-4\n",
    "WEIGHT_DECAY = 1e-3\n",
    "TRAIN_SAMPLES = 256    # Total samples to use from the dataset for training.\n",
    "\n",
    "# --- Sanity Check ---\n",
    "# Ensure the training parameters do not try to access data out of bounds.\n",
    "assert RUNS * SAMPLES_PER_RUN <= TRAIN_SAMPLES, \"RUNS * SAMPLES_PER_RUN exceeds TRAIN_SAMPLES\"\n",
    "\n",
    "# --- 1. Efficient Data Loading and Pre-processing ---\n",
    "\n",
    "# Move weights to the correct device right after loading.\n",
    "W = torch.load(WEIGHTS_PATH).to(DEVICE, non_blocking=True).float()\n",
    "\n",
    "# Load large tensors to CPU first to conserve VRAM.\n",
    "pre_act = torch.load(ACTIVATIONS_PATH).float()  # (batches, samples_batch, seq_len, features)\n",
    "\n",
    "# Concatenate the first two dimensions to get a list of samples.\n",
    "pre_act = pre_act.view(pre_act.shape[0] * pre_act.shape[1], pre_act.shape[2], pre_act.shape[3]) # (samples, seq_len, features)\n",
    "\n",
    "# Split data into training and validation sets.\n",
    "pre_act_train = pre_act[:TRAIN_SAMPLES, :, :]\n",
    "pre_act_val = pre_act[TRAIN_SAMPLES:, :, :]\n",
    "\n",
    "del pre_act # Free up memory\n",
    "\n",
    "print(f\"Training Activations shape: {pre_act_train.shape}\")\n",
    "print(f\"Validation Activations shape: {pre_act_val.shape}\")\n",
    "print(f\"Loaded weights shape: {W.shape}\")\n",
    "\n",
    "# --- 2. Simplified Truncation Calculation ---\n",
    "\n",
    "out_features, in_features = W.shape\n",
    "truncate = int(out_features * in_features * RATIO / (out_features + in_features))\n",
    "print(f\"Rank after truncation: {truncate}\")\n",
    "\n",
    "# --- 3. Memory-Efficient SVD Initialization ---\n",
    "\n",
    "# Initialize the SVD layer using the first run's data.\n",
    "init_data_slice = pre_act_train[:SAMPLES_PER_RUN, :, :]\n",
    "svd_layer = SVDLinearLayer(\n",
    "    W, # weights are already on DEVICE\n",
    "    truncate,\n",
    "    bias=None,\n",
    "    data=init_data_slice.to(DEVICE, non_blocking=True)\n",
    ").to(DEVICE)\n",
    "\n",
    "# Create the original, non-decomposed linear layer for loss calculation.\n",
    "og_linear_module = nn.Linear(\n",
    "    in_features=in_features,\n",
    "    out_features=out_features,\n",
    "    bias=False,\n",
    "    device=DEVICE\n",
    ")\n",
    "og_linear_module.weight.data = W.float()\n",
    "og_linear_module.eval() # Set to evaluation mode as it's our target.\n",
    "\n",
    "# Clean up to free memory immediately.\n",
    "del init_data_slice\n",
    "torch.cuda.empty_cache()\n",
    "\n",
    "loss_fn = nn.MSELoss(reduction=\"mean\")\n",
    "\n",
    "# Using fused=True can provide a performance boost on compatible CUDA devices.\n",
    "optimizer = torch.optim.AdamW(\n",
    "    svd_layer.parameters(), lr=LEARNING_RATE, weight_decay=WEIGHT_DECAY, fused=torch.cuda.is_available()\n",
    ")\n",
    "\n",
    "# --- 4. Refactored Training Loop ---\n",
    "# This loop now iterates through RUNS, training intensively on one block\n",
    "# of SAMPLES_PER_RUN at a time for EPOCHS_PER_RUN iterations.\n",
    "\n",
    "train_loss_log = []\n",
    "val_loss_log = []\n",
    "\n",
    "for run in range(RUNS):\n",
    "    print(f\"\\n--- Starting Run {run + 1}/{RUNS} ---\")\n",
    "    \n",
    "    # Select the unique data chunk for this run\n",
    "    start_index = run * SAMPLES_PER_RUN\n",
    "    end_index = start_index + SAMPLES_PER_RUN\n",
    "    run_data = pre_act_train[start_index:end_index, :, :].to(DEVICE, non_blocking=True)\n",
    "    \n",
    "    # Calculate the target output for this chunk once\n",
    "    with torch.no_grad():\n",
    "        target_output = og_linear_module(run_data)\n",
    "\n",
    "    # Train for EPOCHS_PER_RUN on the selected data chunk\n",
    "    svd_layer.train()\n",
    "    run_epoch_loss = []\n",
    "    pbar = tqdm(range(EPOCHS_PER_RUN), desc=f\"Training on Run {run + 1} Data\")\n",
    "    for epoch in pbar:\n",
    "        optimizer.zero_grad()\n",
    "        \n",
    "        # Forward pass\n",
    "        output = svd_layer(run_data)\n",
    "        \n",
    "        # Compute loss against the pre-calculated target\n",
    "        loss = loss_fn(output, target_output)\n",
    "        loss.backward()\n",
    "        \n",
    "        # Update weights\n",
    "        optimizer.step()\n",
    "        \n",
    "        loss_item = loss.item()\n",
    "        run_epoch_loss.append(loss_item)\n",
    "        pbar.set_postfix({\"loss\": f\"{loss_item:.6f}\"})\n",
    "\n",
    "    # Log the average training loss for the entire run\n",
    "    avg_run_loss = sum(run_epoch_loss) / len(run_epoch_loss)\n",
    "    train_loss_log.append(avg_run_loss)\n",
    "    print(f\"Run {run + 1} - Average Training Loss: {avg_run_loss:.6f}\")\n",
    "\n",
    "    # Evaluate on the validation set after each full run\n",
    "    svd_layer.eval()\n",
    "    with torch.no_grad():\n",
    "        val_data = pre_act_val.to(DEVICE, non_blocking=True)\n",
    "        val_output = svd_layer(val_data)\n",
    "        val_target = og_linear_module(val_data)\n",
    "        val_loss = loss_fn(val_output, val_target)\n",
    "        val_loss_log.append(val_loss.item())\n",
    "        print(f\"Run {run + 1} - Validation Loss: {val_loss.item():.6f}\")\n",
    "\n",
    "        # Clean up CUDA memory\n",
    "        del val_data, val_output, val_target\n",
    "        torch.cuda.empty_cache()\n",
    "\n",
    "print(\"\\n--- Training Complete ---\")\n",
    "print(f\"Final Training Losses per Run: {train_loss_log}\")\n",
    "print(f\"Final Validation Losses per Run: {val_loss_log}\")"
   ]
  },
  {
   "cell_type": "code",
   "execution_count": 4,
   "id": "d818967a",
   "metadata": {},
   "outputs": [
    {
     "data": {
      "image/png": "[encoded data removed]",
      "text/plain": [
       "<Figure size 640x480 with 1 Axes>"
      ]
     },
     "metadata": {},
     "output_type": "display_data"
    }
   ],
   "source": [
    "#Log losses \n",
    "import matplotlib.pyplot as plt\n",
    "plt.plot(train_loss_log, label='Train Loss')\n",
    "plt.plot(val_loss_log, label='Validation Loss')\n",
    "plt.xlabel('Epoch')\n",
    "plt.ylabel('Loss')\n",
    "plt.title('Training and Validation Loss')\n",
    "plt.legend()\n",
    "plt.grid()\n",
    "plt.show()"
   ]
  },
  {
   "cell_type": "markdown",
   "id": "61a5fdba",
   "metadata": {},
   "source": [
    "# Testing Normalizations"
   ]
  },
  {
   "cell_type": "code",
   "execution_count": 7,
   "id": "65b29fd9",
   "metadata": {},
   "outputs": [
    {
     "name": "stdout",
     "output_type": "stream",
     "text": [
      "Training Activations shape: torch.Size([256, 2048, 4096])\n",
      "Validation Activations shape: torch.Size([32, 2048, 4096])\n",
      "Loaded weights shape: torch.Size([4096, 4096])\n",
      "Truncate: 1228\n"
     ]
    },
    {
     "name": "stderr",
     "output_type": "stream",
     "text": [
      "Epoch 1/50: 100%|██████████| 26/26 [00:01<00:00, 13.56it/s, loss=0.0362]\n"
     ]
    },
    {
     "name": "stdout",
     "output_type": "stream",
     "text": [
      "Epoch 1 - Train Loss: 0.0398\n",
      "Epoch 1 - Validation Loss: 0.0340\n"
     ]
    },
    {
     "name": "stderr",
     "output_type": "stream",
     "text": [
      "Epoch 2/50: 100%|██████████| 26/26 [00:01<00:00, 13.48it/s, loss=0.0334]\n"
     ]
    },
    {
     "name": "stdout",
     "output_type": "stream",
     "text": [
      "Epoch 2 - Train Loss: 0.0352\n",
      "Epoch 2 - Validation Loss: 0.0318\n"
     ]
    },
    {
     "name": "stderr",
     "output_type": "stream",
     "text": [
      "Epoch 3/50: 100%|██████████| 26/26 [00:01<00:00, 13.65it/s, loss=0.0318]\n"
     ]
    },
    {
     "name": "stdout",
     "output_type": "stream",
     "text": [
      "Epoch 3 - Train Loss: 0.0332\n",
      "Epoch 3 - Validation Loss: 0.0306\n"
     ]
    },
    {
     "name": "stderr",
     "output_type": "stream",
     "text": [
      "Epoch 4/50: 100%|██████████| 26/26 [00:01<00:00, 13.35it/s, loss=0.0307]\n"
     ]
    },
    {
     "name": "stdout",
     "output_type": "stream",
     "text": [
      "Epoch 4 - Train Loss: 0.0320\n",
      "Epoch 4 - Validation Loss: 0.0298\n"
     ]
    },
    {
     "name": "stderr",
     "output_type": "stream",
     "text": [
      "Epoch 5/50: 100%|██████████| 26/26 [00:01<00:00, 13.62it/s, loss=0.0299]\n"
     ]
    },
    {
     "name": "stdout",
     "output_type": "stream",
     "text": [
      "Epoch 5 - Train Loss: 0.0311\n",
      "Epoch 5 - Validation Loss: 0.0292\n"
     ]
    },
    {
     "name": "stderr",
     "output_type": "stream",
     "text": [
      "Epoch 6/50: 100%|██████████| 26/26 [00:01<00:00, 13.71it/s, loss=0.0293]\n"
     ]
    },
    {
     "name": "stdout",
     "output_type": "stream",
     "text": [
      "Epoch 6 - Train Loss: 0.0304\n",
      "Epoch 6 - Validation Loss: 0.0288\n"
     ]
    },
    {
     "name": "stderr",
     "output_type": "stream",
     "text": [
      "Epoch 7/50: 100%|██████████| 26/26 [00:01<00:00, 13.30it/s, loss=0.0288]\n"
     ]
    },
    {
     "name": "stdout",
     "output_type": "stream",
     "text": [
      "Epoch 7 - Train Loss: 0.0299\n",
      "Epoch 7 - Validation Loss: 0.0284\n"
     ]
    },
    {
     "name": "stderr",
     "output_type": "stream",
     "text": [
      "Epoch 8/50: 100%|██████████| 26/26 [00:01<00:00, 13.59it/s, loss=0.0284]\n"
     ]
    },
    {
     "name": "stdout",
     "output_type": "stream",
     "text": [
      "Epoch 8 - Train Loss: 0.0295\n",
      "Epoch 8 - Validation Loss: 0.0282\n"
     ]
    },
    {
     "name": "stderr",
     "output_type": "stream",
     "text": [
      "Epoch 9/50: 100%|██████████| 26/26 [00:01<00:00, 13.57it/s, loss=0.0281]\n"
     ]
    },
    {
     "name": "stdout",
     "output_type": "stream",
     "text": [
      "Epoch 9 - Train Loss: 0.0291\n",
      "Epoch 9 - Validation Loss: 0.0279\n"
     ]
    },
    {
     "name": "stderr",
     "output_type": "stream",
     "text": [
      "Epoch 10/50: 100%|██████████| 26/26 [00:01<00:00, 13.57it/s, loss=0.0278]\n"
     ]
    },
    {
     "name": "stdout",
     "output_type": "stream",
     "text": [
      "Epoch 10 - Train Loss: 0.0289\n",
      "Epoch 10 - Validation Loss: 0.0278\n"
     ]
    },
    {
     "name": "stderr",
     "output_type": "stream",
     "text": [
      "Epoch 11/50: 100%|██████████| 26/26 [00:01<00:00, 13.60it/s, loss=0.0276]\n"
     ]
    },
    {
     "name": "stdout",
     "output_type": "stream",
     "text": [
      "Epoch 11 - Train Loss: 0.0286\n",
      "Epoch 11 - Validation Loss: 0.0276\n"
     ]
    },
    {
     "name": "stderr",
     "output_type": "stream",
     "text": [
      "Epoch 12/50: 100%|██████████| 26/26 [00:01<00:00, 13.56it/s, loss=0.0274]\n"
     ]
    },
    {
     "name": "stdout",
     "output_type": "stream",
     "text": [
      "Epoch 12 - Train Loss: 0.0284\n",
      "Epoch 12 - Validation Loss: 0.0275\n"
     ]
    },
    {
     "name": "stderr",
     "output_type": "stream",
     "text": [
      "Epoch 13/50: 100%|██████████| 26/26 [00:01<00:00, 13.59it/s, loss=0.0272]\n"
     ]
    },
    {
     "name": "stdout",
     "output_type": "stream",
     "text": [
      "Epoch 13 - Train Loss: 0.0282\n",
      "Epoch 13 - Validation Loss: 0.0273\n"
     ]
    },
    {
     "name": "stderr",
     "output_type": "stream",
     "text": [
      "Epoch 14/50: 100%|██████████| 26/26 [00:01<00:00, 13.43it/s, loss=0.027] \n"
     ]
    },
    {
     "name": "stdout",
     "output_type": "stream",
     "text": [
      "Epoch 14 - Train Loss: 0.0281\n",
      "Epoch 14 - Validation Loss: 0.0273\n"
     ]
    },
    {
     "name": "stderr",
     "output_type": "stream",
     "text": [
      "Epoch 15/50: 100%|██████████| 26/26 [00:01<00:00, 13.57it/s, loss=0.0269]\n"
     ]
    },
    {
     "name": "stdout",
     "output_type": "stream",
     "text": [
      "Epoch 15 - Train Loss: 0.0279\n",
      "Epoch 15 - Validation Loss: 0.0272\n"
     ]
    },
    {
     "name": "stderr",
     "output_type": "stream",
     "text": [
      "Epoch 16/50: 100%|██████████| 26/26 [00:01<00:00, 13.48it/s, loss=0.0267]\n"
     ]
    },
    {
     "name": "stdout",
     "output_type": "stream",
     "text": [
      "Epoch 16 - Train Loss: 0.0278\n",
      "Epoch 16 - Validation Loss: 0.0271\n"
     ]
    },
    {
     "name": "stderr",
     "output_type": "stream",
     "text": [
      "Epoch 17/50: 100%|██████████| 26/26 [00:01<00:00, 13.45it/s, loss=0.0266]\n"
     ]
    },
    {
     "name": "stdout",
     "output_type": "stream",
     "text": [
      "Epoch 17 - Train Loss: 0.0277\n",
      "Epoch 17 - Validation Loss: 0.0270\n"
     ]
    },
    {
     "name": "stderr",
     "output_type": "stream",
     "text": [
      "Epoch 18/50: 100%|██████████| 26/26 [00:01<00:00, 13.54it/s, loss=0.0265]\n"
     ]
    },
    {
     "name": "stdout",
     "output_type": "stream",
     "text": [
      "Epoch 18 - Train Loss: 0.0276\n",
      "Epoch 18 - Validation Loss: 0.0269\n"
     ]
    },
    {
     "name": "stderr",
     "output_type": "stream",
     "text": [
      "Epoch 19/50: 100%|██████████| 26/26 [00:01<00:00, 13.62it/s, loss=0.0264]\n"
     ]
    },
    {
     "name": "stdout",
     "output_type": "stream",
     "text": [
      "Epoch 19 - Train Loss: 0.0275\n",
      "Epoch 19 - Validation Loss: 0.0269\n"
     ]
    },
    {
     "name": "stderr",
     "output_type": "stream",
     "text": [
      "Epoch 20/50: 100%|██████████| 26/26 [00:01<00:00, 13.54it/s, loss=0.0264]\n"
     ]
    },
    {
     "name": "stdout",
     "output_type": "stream",
     "text": [
      "Epoch 20 - Train Loss: 0.0274\n",
      "Epoch 20 - Validation Loss: 0.0268\n"
     ]
    },
    {
     "name": "stderr",
     "output_type": "stream",
     "text": [
      "Epoch 21/50: 100%|██████████| 26/26 [00:01<00:00, 13.61it/s, loss=0.0263]\n"
     ]
    },
    {
     "name": "stdout",
     "output_type": "stream",
     "text": [
      "Epoch 21 - Train Loss: 0.0274\n",
      "Epoch 21 - Validation Loss: 0.0268\n"
     ]
    },
    {
     "name": "stderr",
     "output_type": "stream",
     "text": [
      "Epoch 22/50: 100%|██████████| 26/26 [00:01<00:00, 13.59it/s, loss=0.0262]\n"
     ]
    },
    {
     "name": "stdout",
     "output_type": "stream",
     "text": [
      "Epoch 22 - Train Loss: 0.0273\n",
      "Epoch 22 - Validation Loss: 0.0268\n"
     ]
    },
    {
     "name": "stderr",
     "output_type": "stream",
     "text": [
      "Epoch 23/50: 100%|██████████| 26/26 [00:01<00:00, 13.59it/s, loss=0.0262]\n"
     ]
    },
    {
     "name": "stdout",
     "output_type": "stream",
     "text": [
      "Epoch 23 - Train Loss: 0.0272\n",
      "Epoch 23 - Validation Loss: 0.0267\n"
     ]
    },
    {
     "name": "stderr",
     "output_type": "stream",
     "text": [
      "Epoch 24/50: 100%|██████████| 26/26 [00:01<00:00, 13.48it/s, loss=0.0261]\n"
     ]
    },
    {
     "name": "stdout",
     "output_type": "stream",
     "text": [
      "Epoch 24 - Train Loss: 0.0272\n",
      "Epoch 24 - Validation Loss: 0.0267\n"
     ]
    },
    {
     "name": "stderr",
     "output_type": "stream",
     "text": [
      "Epoch 25/50: 100%|██████████| 26/26 [00:01<00:00, 13.54it/s, loss=0.0261]\n"
     ]
    },
    {
     "name": "stdout",
     "output_type": "stream",
     "text": [
      "Epoch 25 - Train Loss: 0.0271\n",
      "Epoch 25 - Validation Loss: 0.0267\n"
     ]
    },
    {
     "name": "stderr",
     "output_type": "stream",
     "text": [
      "Epoch 26/50: 100%|██████████| 26/26 [00:01<00:00, 13.62it/s, loss=0.026] \n"
     ]
    },
    {
     "name": "stdout",
     "output_type": "stream",
     "text": [
      "Epoch 26 - Train Loss: 0.0271\n",
      "Epoch 26 - Validation Loss: 0.0267\n"
     ]
    },
    {
     "name": "stderr",
     "output_type": "stream",
     "text": [
      "Epoch 27/50: 100%|██████████| 26/26 [00:01<00:00, 13.54it/s, loss=0.026] \n"
     ]
    },
    {
     "name": "stdout",
     "output_type": "stream",
     "text": [
      "Epoch 27 - Train Loss: 0.0271\n",
      "Epoch 27 - Validation Loss: 0.0266\n"
     ]
    },
    {
     "name": "stderr",
     "output_type": "stream",
     "text": [
      "Epoch 28/50: 100%|██████████| 26/26 [00:01<00:00, 13.59it/s, loss=0.0259]\n"
     ]
    },
    {
     "name": "stdout",
     "output_type": "stream",
     "text": [
      "Epoch 28 - Train Loss: 0.0270\n",
      "Epoch 28 - Validation Loss: 0.0266\n"
     ]
    },
    {
     "name": "stderr",
     "output_type": "stream",
     "text": [
      "Epoch 29/50: 100%|██████████| 26/26 [00:01<00:00, 13.55it/s, loss=0.0259]\n"
     ]
    },
    {
     "name": "stdout",
     "output_type": "stream",
     "text": [
      "Epoch 29 - Train Loss: 0.0270\n",
      "Epoch 29 - Validation Loss: 0.0266\n"
     ]
    },
    {
     "name": "stderr",
     "output_type": "stream",
     "text": [
      "Epoch 30/50: 100%|██████████| 26/26 [00:01<00:00, 13.64it/s, loss=0.0259]\n"
     ]
    },
    {
     "name": "stdout",
     "output_type": "stream",
     "text": [
      "Epoch 30 - Train Loss: 0.0270\n",
      "Epoch 30 - Validation Loss: 0.0266\n"
     ]
    },
    {
     "name": "stderr",
     "output_type": "stream",
     "text": [
      "Epoch 31/50: 100%|██████████| 26/26 [00:01<00:00, 13.54it/s, loss=0.0259]\n"
     ]
    },
    {
     "name": "stdout",
     "output_type": "stream",
     "text": [
      "Epoch 31 - Train Loss: 0.0270\n",
      "Epoch 31 - Validation Loss: 0.0266\n"
     ]
    },
    {
     "name": "stderr",
     "output_type": "stream",
     "text": [
      "Epoch 32/50: 100%|██████████| 26/26 [00:01<00:00, 13.53it/s, loss=0.0258]\n"
     ]
    },
    {
     "name": "stdout",
     "output_type": "stream",
     "text": [
      "Epoch 32 - Train Loss: 0.0269\n",
      "Epoch 32 - Validation Loss: 0.0265\n"
     ]
    },
    {
     "name": "stderr",
     "output_type": "stream",
     "text": [
      "Epoch 33/50: 100%|██████████| 26/26 [00:01<00:00, 13.63it/s, loss=0.0258]\n"
     ]
    },
    {
     "name": "stdout",
     "output_type": "stream",
     "text": [
      "Epoch 33 - Train Loss: 0.0269\n",
      "Epoch 33 - Validation Loss: 0.0265\n"
     ]
    },
    {
     "name": "stderr",
     "output_type": "stream",
     "text": [
      "Epoch 34/50: 100%|██████████| 26/26 [00:01<00:00, 13.61it/s, loss=0.0257]\n"
     ]
    },
    {
     "name": "stdout",
     "output_type": "stream",
     "text": [
      "Epoch 34 - Train Loss: 0.0268\n",
      "Epoch 34 - Validation Loss: 0.0265\n"
     ]
    },
    {
     "name": "stderr",
     "output_type": "stream",
     "text": [
      "Epoch 35/50: 100%|██████████| 26/26 [00:01<00:00, 13.59it/s, loss=0.0257]\n"
     ]
    },
    {
     "name": "stdout",
     "output_type": "stream",
     "text": [
      "Epoch 35 - Train Loss: 0.0268\n",
      "Epoch 35 - Validation Loss: 0.0265\n"
     ]
    },
    {
     "name": "stderr",
     "output_type": "stream",
     "text": [
      "Epoch 36/50: 100%|██████████| 26/26 [00:01<00:00, 13.62it/s, loss=0.0257]\n"
     ]
    },
    {
     "name": "stdout",
     "output_type": "stream",
     "text": [
      "Epoch 36 - Train Loss: 0.0268\n",
      "Epoch 36 - Validation Loss: 0.0265\n"
     ]
    },
    {
     "name": "stderr",
     "output_type": "stream",
     "text": [
      "Epoch 37/50: 100%|██████████| 26/26 [00:01<00:00, 13.63it/s, loss=0.0257]\n"
     ]
    },
    {
     "name": "stdout",
     "output_type": "stream",
     "text": [
      "Epoch 37 - Train Loss: 0.0268\n",
      "Epoch 37 - Validation Loss: 0.0265\n"
     ]
    },
    {
     "name": "stderr",
     "output_type": "stream",
     "text": [
      "Epoch 38/50: 100%|██████████| 26/26 [00:01<00:00, 13.55it/s, loss=0.0256]\n"
     ]
    },
    {
     "name": "stdout",
     "output_type": "stream",
     "text": [
      "Epoch 38 - Train Loss: 0.0268\n",
      "Epoch 38 - Validation Loss: 0.0265\n"
     ]
    },
    {
     "name": "stderr",
     "output_type": "stream",
     "text": [
      "Epoch 39/50: 100%|██████████| 26/26 [00:01<00:00, 13.53it/s, loss=0.0256]\n"
     ]
    },
    {
     "name": "stdout",
     "output_type": "stream",
     "text": [
      "Epoch 39 - Train Loss: 0.0267\n",
      "Epoch 39 - Validation Loss: 0.0264\n"
     ]
    },
    {
     "name": "stderr",
     "output_type": "stream",
     "text": [
      "Epoch 40/50: 100%|██████████| 26/26 [00:01<00:00, 13.57it/s, loss=0.0256]\n"
     ]
    },
    {
     "name": "stdout",
     "output_type": "stream",
     "text": [
      "Epoch 40 - Train Loss: 0.0267\n",
      "Epoch 40 - Validation Loss: 0.0264\n"
     ]
    },
    {
     "name": "stderr",
     "output_type": "stream",
     "text": [
      "Epoch 41/50: 100%|██████████| 26/26 [00:01<00:00, 13.58it/s, loss=0.0256]\n"
     ]
    },
    {
     "name": "stdout",
     "output_type": "stream",
     "text": [
      "Epoch 41 - Train Loss: 0.0267\n",
      "Epoch 41 - Validation Loss: 0.0264\n"
     ]
    },
    {
     "name": "stderr",
     "output_type": "stream",
     "text": [
      "Epoch 42/50: 100%|██████████| 26/26 [00:01<00:00, 13.54it/s, loss=0.0256]\n"
     ]
    },
    {
     "name": "stdout",
     "output_type": "stream",
     "text": [
      "Epoch 42 - Train Loss: 0.0267\n",
      "Epoch 42 - Validation Loss: 0.0264\n"
     ]
    },
    {
     "name": "stderr",
     "output_type": "stream",
     "text": [
      "Epoch 43/50: 100%|██████████| 26/26 [00:01<00:00, 13.49it/s, loss=0.0256]\n"
     ]
    },
    {
     "name": "stdout",
     "output_type": "stream",
     "text": [
      "Epoch 43 - Train Loss: 0.0267\n",
      "Epoch 43 - Validation Loss: 0.0264\n"
     ]
    },
    {
     "name": "stderr",
     "output_type": "stream",
     "text": [
      "Epoch 44/50: 100%|██████████| 26/26 [00:01<00:00, 13.50it/s, loss=0.0255]\n"
     ]
    },
    {
     "name": "stdout",
     "output_type": "stream",
     "text": [
      "Epoch 44 - Train Loss: 0.0267\n",
      "Epoch 44 - Validation Loss: 0.0264\n"
     ]
    },
    {
     "name": "stderr",
     "output_type": "stream",
     "text": [
      "Epoch 45/50: 100%|██████████| 26/26 [00:01<00:00, 13.48it/s, loss=0.0255]\n"
     ]
    },
    {
     "name": "stdout",
     "output_type": "stream",
     "text": [
      "Epoch 45 - Train Loss: 0.0267\n",
      "Epoch 45 - Validation Loss: 0.0264\n"
     ]
    },
    {
     "name": "stderr",
     "output_type": "stream",
     "text": [
      "Epoch 46/50: 100%|██████████| 26/26 [00:01<00:00, 13.49it/s, loss=0.0255]\n"
     ]
    },
    {
     "name": "stdout",
     "output_type": "stream",
     "text": [
      "Epoch 46 - Train Loss: 0.0267\n",
      "Epoch 46 - Validation Loss: 0.0264\n"
     ]
    },
    {
     "name": "stderr",
     "output_type": "stream",
     "text": [
      "Epoch 47/50: 100%|██████████| 26/26 [00:01<00:00, 13.51it/s, loss=0.0255]\n"
     ]
    },
    {
     "name": "stdout",
     "output_type": "stream",
     "text": [
      "Epoch 47 - Train Loss: 0.0266\n",
      "Epoch 47 - Validation Loss: 0.0264\n"
     ]
    },
    {
     "name": "stderr",
     "output_type": "stream",
     "text": [
      "Epoch 48/50: 100%|██████████| 26/26 [00:01<00:00, 13.53it/s, loss=0.0255]\n"
     ]
    },
    {
     "name": "stdout",
     "output_type": "stream",
     "text": [
      "Epoch 48 - Train Loss: 0.0266\n",
      "Epoch 48 - Validation Loss: 0.0264\n"
     ]
    },
    {
     "name": "stderr",
     "output_type": "stream",
     "text": [
      "Epoch 49/50: 100%|██████████| 26/26 [00:01<00:00, 13.59it/s, loss=0.0255]\n"
     ]
    },
    {
     "name": "stdout",
     "output_type": "stream",
     "text": [
      "Epoch 49 - Train Loss: 0.0266\n",
      "Epoch 49 - Validation Loss: 0.0264\n"
     ]
    },
    {
     "name": "stderr",
     "output_type": "stream",
     "text": [
      "Epoch 50/50: 100%|██████████| 26/26 [00:01<00:00, 13.56it/s, loss=0.0255]\n"
     ]
    },
    {
     "name": "stdout",
     "output_type": "stream",
     "text": [
      "Epoch 50 - Train Loss: 0.0266\n",
      "Epoch 50 - Validation Loss: 0.0264\n"
     ]
    },
    {
     "data": {
      "image/png": "[encoded data removed]",
      "text/plain": [
       "<Figure size 640x480 with 1 Axes>"
      ]
     },
     "metadata": {},
     "output_type": "display_data"
    }
   ],
   "source": [
    "import torch\n",
    "from tqdm import tqdm\n",
    "from modules import SVDLinearLayer\n",
    "import torch.nn.functional as F\n",
    "import torch.nn as nn\n",
    "import pickle\n",
    "\n",
    "# --- Configuration ---\n",
    "# Using constants makes the code cleaner and easier to modify.\n",
    "DEVICE = torch.device(\"cuda\" if torch.cuda.is_available() else \"cpu\")\n",
    "LAYER_HOOK = \"model.layers.31.self_attn.q_proj\"\n",
    "ACTIVATIONS_PATH = f\"matrixes/{LAYER_HOOK}_activations.pt\"\n",
    "WEIGHTS_PATH = f\"matrixes/{LAYER_HOOK}_weight.pt\"\n",
    "IMPORTANCE_PATH = f\"grads/llama7b_grads.pkl\"\n",
    "\n",
    "RATIO = 0.6\n",
    "EPOCHS = 50\n",
    "LEARNING_RATE = 1e-4\n",
    "WEIGHT_DECAY = 1e-3\n",
    "N_SAMPLES_FOR_INIT = 50\n",
    "BATCH_SIZE = 10\n",
    "TRAIN_SAMPLES = 256\n",
    "\n",
    "# --- 1. Efficient Data Loading and Pre-processing ---\n",
    "\n",
    "# Move weights to the correct device right after loading.\n",
    "# non_blocking=True can enable faster asynchronous memory copies on CUDA hardware.\n",
    "W = torch.load(WEIGHTS_PATH).to(DEVICE, non_blocking=True).float()\n",
    "\n",
    "# It's more memory-efficient to load large tensors to CPU first.\n",
    "# We will move only the necessary batches to the GPU during training.\n",
    "pre_act = torch.load(ACTIVATIONS_PATH).float() # (batches, samples_batch, seq_len, features)\n",
    "\n",
    "# Concat the first two dimensions\n",
    "pre_act = pre_act.view(pre_act.shape[0] * pre_act.shape[1], pre_act.shape[2], pre_act.shape[3]) # (samples, seq_len, features)\n",
    "\n",
    "torch.manual_seed(42)\n",
    "pre_act = pre_act[torch.randperm(pre_act.size(0))]\n",
    "\n",
    "pre_act_train = pre_act[:TRAIN_SAMPLES, :, :]  # Use only the first TRAIN_SAMPLES for training\n",
    "pre_act_val = pre_act[TRAIN_SAMPLES:, :, :]  # Use the rest for validation\n",
    "\n",
    "del pre_act\n",
    "\n",
    "print(f\"Training Activations shape: {pre_act_train.shape}\")\n",
    "print(f\"Validation Activations shape: {pre_act_val.shape}\")\n",
    "print(f\"Loaded weights shape: {W.shape}\")\n",
    "\n",
    "# --- 2. Simplified Truncation Calculation ---\n",
    "\n",
    "out_features, in_features = W.shape\n",
    "truncate = int(W.shape[0] * W.shape[1] * RATIO / (W.shape[0] + W.shape[1]))\n",
    "print(f\"Truncate: {truncate}\")\n",
    "\n",
    "# --- 3. Memory-Efficient SVD Initialization ---\n",
    "\n",
    "# Create the initialization data by taking a slice on the CPU first,\n",
    "# and only then moving the smaller tensor to the GPU.\n",
    "init_data_slice = pre_act_train[:N_SAMPLES_FOR_INIT, :, :]\n",
    "\n",
    "U, S, VT = torch.linalg.svd(W, full_matrices=False)\n",
    "s_sqrt = torch.diag(torch.sqrt(S))\n",
    "u_parameter = torch.matmul(U[:, :truncate], s_sqrt[:truncate, :truncate])\n",
    "vt_parameter = torch.matmul(s_sqrt[:truncate, :truncate], VT[:truncate, :])\n",
    "\n",
    "svd_layer = nn.Sequential(\n",
    "    nn.Linear(\n",
    "        in_features=vt_parameter.shape[1],\n",
    "        out_features=vt_parameter.shape[0],\n",
    "        bias=False,\n",
    "        device=DEVICE\n",
    "    ),\n",
    "    nn.Linear(\n",
    "        in_features=u_parameter.shape[1],\n",
    "        out_features=u_parameter.shape[0],\n",
    "        bias=False,\n",
    "        device=DEVICE\n",
    "    )\n",
    ").to(DEVICE).train()\n",
    "\n",
    "svd_layer[0].weight.data = vt_parameter.float()\n",
    "svd_layer[1].weight.data = u_parameter.float()\n",
    "\n",
    "\n",
    "og_linear_module = nn.Linear(\n",
    "    in_features=W.shape[1],\n",
    "    out_features=W.shape[0],\n",
    "    bias=False,\n",
    "    device=DEVICE\n",
    ")\n",
    "\n",
    "og_linear_module.weight.data = W.float()\n",
    "og_linear_module.eval()\n",
    "\n",
    "# Clean up to free memory immediately.\n",
    "del init_data_slice\n",
    "torch.cuda.empty_cache()\n",
    "\n",
    "loss_fn = nn.MSELoss(reduction=\"mean\")\n",
    "\n",
    "# Using fused=True can provide a performance boost on compatible CUDA devices.\n",
    "optimizer = torch.optim.AdamW(\n",
    "    svd_layer.parameters(), lr=LEARNING_RATE, weight_decay=WEIGHT_DECAY, fused=torch.cuda.is_available()\n",
    ")\n",
    "\n",
    "# --- 4. Efficient Training Loop ---\n",
    "train_loss_log = []\n",
    "val_loss_log = []\n",
    "for epoch in range(EPOCHS):\n",
    "    svd_layer.train()\n",
    "    epoch_loss_log = []\n",
    "    pbar = tqdm(range(0, pre_act_train.shape[0], BATCH_SIZE), desc=f\"Epoch {epoch + 1}/{EPOCHS}\")\n",
    "    \n",
    "    for i in pbar:\n",
    "        batch = pre_act_train[i:i + BATCH_SIZE, :, :].to(DEVICE, non_blocking=True)\n",
    "        optimizer.zero_grad()\n",
    "        \n",
    "        # Forward pass\n",
    "        output = svd_layer(batch)\n",
    "        \n",
    "        # Compute loss\n",
    "        loss = loss_fn(output, og_linear_module(batch))\n",
    "        loss.backward()\n",
    "        \n",
    "        # Update weights\n",
    "        optimizer.step()\n",
    "        epoch_loss_log.append(loss.item())\n",
    "        \n",
    "        pbar.set_postfix({\"loss\": loss.item()})\n",
    "    train_loss_log.append(sum(epoch_loss_log) / len(epoch_loss_log))\n",
    "    print(f\"Epoch {epoch + 1} - Train Loss: {train_loss_log[-1]:.4f}\")\n",
    "    svd_layer.eval()\n",
    "    with torch.no_grad():\n",
    "        val_loss = loss_fn(svd_layer(pre_act_val.to(DEVICE, non_blocking=True)), og_linear_module(pre_act_val.to(DEVICE, non_blocking=True)))\n",
    "        val_loss_log.append(val_loss.item())\n",
    "        print(f\"Epoch {epoch + 1} - Validation Loss: {val_loss.item():.4f}\")\n",
    "        \n",
    "#Log losses \n",
    "import matplotlib.pyplot as plt\n",
    "plt.plot(train_loss_log, label='Train Loss')\n",
    "plt.plot(val_loss_log, label='Validation Loss')\n",
    "plt.xlabel('Epoch')\n",
    "plt.ylabel('Loss')\n",
    "plt.title('Training and Validation Loss')\n",
    "plt.legend()\n",
    "plt.grid()\n",
    "plt.show()"
   ]
  },
  {
   "cell_type": "markdown",
   "id": "881c31ab",
   "metadata": {},
   "source": [
    "## Shuffle each epoch"
   ]
  },
  {
   "cell_type": "code",
   "execution_count": null,
   "id": "37a5effe",
   "metadata": {},
   "outputs": [
    {
     "name": "stdout",
     "output_type": "stream",
     "text": [
      "Training Activations shape: torch.Size([256, 2048, 4096])\n",
      "Validation Activations shape: torch.Size([32, 2048, 4096])\n",
      "Loaded weights shape: torch.Size([4096, 4096])\n",
      "Truncate: 1228\n"
     ]
    },
    {
     "name": "stderr",
     "output_type": "stream",
     "text": [
      "Epoch 1/50: 100%|██████████| 26/26 [00:02<00:00,  9.93it/s, loss=0.0375]\n"
     ]
    },
    {
     "name": "stdout",
     "output_type": "stream",
     "text": [
      "Epoch 1 - Train Loss: 0.0398\n",
      "Epoch 1 - Validation Loss: 0.0340\n"
     ]
    },
    {
     "name": "stderr",
     "output_type": "stream",
     "text": [
      "Epoch 2/50: 100%|██████████| 26/26 [00:03<00:00,  8.32it/s, loss=0.0331]\n"
     ]
    },
    {
     "name": "stdout",
     "output_type": "stream",
     "text": [
      "Epoch 2 - Train Loss: 0.0352\n",
      "Epoch 2 - Validation Loss: 0.0318\n"
     ]
    },
    {
     "name": "stderr",
     "output_type": "stream",
     "text": [
      "Epoch 3/50: 100%|██████████| 26/26 [00:03<00:00,  8.40it/s, loss=0.0324]\n"
     ]
    },
    {
     "name": "stdout",
     "output_type": "stream",
     "text": [
      "Epoch 3 - Train Loss: 0.0332\n",
      "Epoch 3 - Validation Loss: 0.0306\n"
     ]
    },
    {
     "name": "stderr",
     "output_type": "stream",
     "text": [
      "Epoch 4/50: 100%|██████████| 26/26 [00:03<00:00,  8.31it/s, loss=0.0308]\n"
     ]
    },
    {
     "name": "stdout",
     "output_type": "stream",
     "text": [
      "Epoch 4 - Train Loss: 0.0320\n",
      "Epoch 4 - Validation Loss: 0.0298\n"
     ]
    },
    {
     "name": "stderr",
     "output_type": "stream",
     "text": [
      "Epoch 5/50: 100%|██████████| 26/26 [00:03<00:00,  8.42it/s, loss=0.0301]\n"
     ]
    },
    {
     "name": "stdout",
     "output_type": "stream",
     "text": [
      "Epoch 5 - Train Loss: 0.0311\n",
      "Epoch 5 - Validation Loss: 0.0292\n"
     ]
    },
    {
     "name": "stderr",
     "output_type": "stream",
     "text": [
      "Epoch 6/50: 100%|██████████| 26/26 [00:03<00:00,  8.35it/s, loss=0.0312]\n"
     ]
    },
    {
     "name": "stdout",
     "output_type": "stream",
     "text": [
      "Epoch 6 - Train Loss: 0.0304\n",
      "Epoch 6 - Validation Loss: 0.0287\n"
     ]
    },
    {
     "name": "stderr",
     "output_type": "stream",
     "text": [
      "Epoch 7/50: 100%|██████████| 26/26 [00:03<00:00,  8.44it/s, loss=0.0297]\n"
     ]
    },
    {
     "name": "stdout",
     "output_type": "stream",
     "text": [
      "Epoch 7 - Train Loss: 0.0299\n",
      "Epoch 7 - Validation Loss: 0.0284\n"
     ]
    },
    {
     "name": "stderr",
     "output_type": "stream",
     "text": [
      "Epoch 8/50: 100%|██████████| 26/26 [00:03<00:00,  8.30it/s, loss=0.0296]\n"
     ]
    },
    {
     "name": "stdout",
     "output_type": "stream",
     "text": [
      "Epoch 8 - Train Loss: 0.0295\n",
      "Epoch 8 - Validation Loss: 0.0281\n"
     ]
    },
    {
     "name": "stderr",
     "output_type": "stream",
     "text": [
      "Epoch 9/50: 100%|██████████| 26/26 [00:03<00:00,  8.39it/s, loss=0.028] \n"
     ]
    },
    {
     "name": "stdout",
     "output_type": "stream",
     "text": [
      "Epoch 9 - Train Loss: 0.0291\n",
      "Epoch 9 - Validation Loss: 0.0278\n"
     ]
    },
    {
     "name": "stderr",
     "output_type": "stream",
     "text": [
      "Epoch 10/50: 100%|██████████| 26/26 [00:03<00:00,  8.33it/s, loss=0.0283]\n"
     ]
    },
    {
     "name": "stdout",
     "output_type": "stream",
     "text": [
      "Epoch 10 - Train Loss: 0.0288\n",
      "Epoch 10 - Validation Loss: 0.0277\n"
     ]
    },
    {
     "name": "stderr",
     "output_type": "stream",
     "text": [
      "Epoch 11/50: 100%|██████████| 26/26 [00:03<00:00,  8.37it/s, loss=0.0291]\n"
     ]
    },
    {
     "name": "stdout",
     "output_type": "stream",
     "text": [
      "Epoch 11 - Train Loss: 0.0286\n",
      "Epoch 11 - Validation Loss: 0.0275\n"
     ]
    },
    {
     "name": "stderr",
     "output_type": "stream",
     "text": [
      "Epoch 12/50: 100%|██████████| 26/26 [00:03<00:00,  8.30it/s, loss=0.0299]\n"
     ]
    },
    {
     "name": "stdout",
     "output_type": "stream",
     "text": [
      "Epoch 12 - Train Loss: 0.0284\n",
      "Epoch 12 - Validation Loss: 0.0274\n"
     ]
    },
    {
     "name": "stderr",
     "output_type": "stream",
     "text": [
      "Epoch 13/50: 100%|██████████| 26/26 [00:03<00:00,  8.42it/s, loss=0.0299]\n"
     ]
    },
    {
     "name": "stdout",
     "output_type": "stream",
     "text": [
      "Epoch 13 - Train Loss: 0.0282\n",
      "Epoch 13 - Validation Loss: 0.0272\n"
     ]
    },
    {
     "name": "stderr",
     "output_type": "stream",
     "text": [
      "Epoch 14/50: 100%|██████████| 26/26 [00:03<00:00,  8.32it/s, loss=0.0283]\n"
     ]
    },
    {
     "name": "stdout",
     "output_type": "stream",
     "text": [
      "Epoch 14 - Train Loss: 0.0280\n",
      "Epoch 14 - Validation Loss: 0.0271\n"
     ]
    },
    {
     "name": "stderr",
     "output_type": "stream",
     "text": [
      "Epoch 15/50: 100%|██████████| 26/26 [00:03<00:00,  8.39it/s, loss=0.0241]\n"
     ]
    },
    {
     "name": "stdout",
     "output_type": "stream",
     "text": [
      "Epoch 15 - Train Loss: 0.0278\n",
      "Epoch 15 - Validation Loss: 0.0271\n"
     ]
    },
    {
     "name": "stderr",
     "output_type": "stream",
     "text": [
      "Epoch 16/50: 100%|██████████| 26/26 [00:03<00:00,  8.40it/s, loss=0.0274]\n"
     ]
    },
    {
     "name": "stdout",
     "output_type": "stream",
     "text": [
      "Epoch 16 - Train Loss: 0.0278\n",
      "Epoch 16 - Validation Loss: 0.0270\n"
     ]
    },
    {
     "name": "stderr",
     "output_type": "stream",
     "text": [
      "Epoch 17/50: 100%|██████████| 26/26 [00:03<00:00,  8.42it/s, loss=0.0285]\n"
     ]
    },
    {
     "name": "stdout",
     "output_type": "stream",
     "text": [
      "Epoch 17 - Train Loss: 0.0277\n",
      "Epoch 17 - Validation Loss: 0.0269\n"
     ]
    },
    {
     "name": "stderr",
     "output_type": "stream",
     "text": [
      "Epoch 18/50: 100%|██████████| 26/26 [00:03<00:00,  8.30it/s, loss=0.0293]\n"
     ]
    },
    {
     "name": "stdout",
     "output_type": "stream",
     "text": [
      "Epoch 18 - Train Loss: 0.0276\n",
      "Epoch 18 - Validation Loss: 0.0269\n"
     ]
    },
    {
     "name": "stderr",
     "output_type": "stream",
     "text": [
      "Epoch 19/50: 100%|██████████| 26/26 [00:03<00:00,  8.39it/s, loss=0.0277]\n"
     ]
    },
    {
     "name": "stdout",
     "output_type": "stream",
     "text": [
      "Epoch 19 - Train Loss: 0.0275\n",
      "Epoch 19 - Validation Loss: 0.0268\n"
     ]
    },
    {
     "name": "stderr",
     "output_type": "stream",
     "text": [
      "Epoch 20/50: 100%|██████████| 26/26 [00:03<00:00,  8.30it/s, loss=0.0303]\n"
     ]
    },
    {
     "name": "stdout",
     "output_type": "stream",
     "text": [
      "Epoch 20 - Train Loss: 0.0274\n",
      "Epoch 20 - Validation Loss: 0.0268\n"
     ]
    },
    {
     "name": "stderr",
     "output_type": "stream",
     "text": [
      "Epoch 21/50: 100%|██████████| 26/26 [00:03<00:00,  8.32it/s, loss=0.0264]\n"
     ]
    },
    {
     "name": "stdout",
     "output_type": "stream",
     "text": [
      "Epoch 21 - Train Loss: 0.0273\n",
      "Epoch 21 - Validation Loss: 0.0267\n"
     ]
    },
    {
     "name": "stderr",
     "output_type": "stream",
     "text": [
      "Epoch 22/50: 100%|██████████| 26/26 [00:03<00:00,  8.31it/s, loss=0.0272]\n"
     ]
    },
    {
     "name": "stdout",
     "output_type": "stream",
     "text": [
      "Epoch 22 - Train Loss: 0.0273\n",
      "Epoch 22 - Validation Loss: 0.0267\n"
     ]
    },
    {
     "name": "stderr",
     "output_type": "stream",
     "text": [
      "Epoch 23/50: 100%|██████████| 26/26 [00:03<00:00,  8.37it/s, loss=0.0227]\n"
     ]
    },
    {
     "name": "stdout",
     "output_type": "stream",
     "text": [
      "Epoch 23 - Train Loss: 0.0271\n",
      "Epoch 23 - Validation Loss: 0.0267\n"
     ]
    },
    {
     "name": "stderr",
     "output_type": "stream",
     "text": [
      "Epoch 24/50: 100%|██████████| 26/26 [00:03<00:00,  8.32it/s, loss=0.0266]\n"
     ]
    },
    {
     "name": "stdout",
     "output_type": "stream",
     "text": [
      "Epoch 24 - Train Loss: 0.0271\n",
      "Epoch 24 - Validation Loss: 0.0266\n"
     ]
    },
    {
     "name": "stderr",
     "output_type": "stream",
     "text": [
      "Epoch 25/50: 100%|██████████| 26/26 [00:03<00:00,  8.40it/s, loss=0.0263]\n"
     ]
    },
    {
     "name": "stdout",
     "output_type": "stream",
     "text": [
      "Epoch 25 - Train Loss: 0.0271\n",
      "Epoch 25 - Validation Loss: 0.0266\n"
     ]
    },
    {
     "name": "stderr",
     "output_type": "stream",
     "text": [
      "Epoch 26/50: 100%|██████████| 26/26 [00:03<00:00,  8.31it/s, loss=0.029] \n"
     ]
    },
    {
     "name": "stdout",
     "output_type": "stream",
     "text": [
      "Epoch 26 - Train Loss: 0.0271\n",
      "Epoch 26 - Validation Loss: 0.0266\n"
     ]
    },
    {
     "name": "stderr",
     "output_type": "stream",
     "text": [
      "Epoch 27/50: 100%|██████████| 26/26 [00:03<00:00,  8.39it/s, loss=0.0278]\n"
     ]
    },
    {
     "name": "stdout",
     "output_type": "stream",
     "text": [
      "Epoch 27 - Train Loss: 0.0271\n",
      "Epoch 27 - Validation Loss: 0.0266\n"
     ]
    },
    {
     "name": "stderr",
     "output_type": "stream",
     "text": [
      "Epoch 28/50: 100%|██████████| 26/26 [00:03<00:00,  8.34it/s, loss=0.0255]\n"
     ]
    },
    {
     "name": "stdout",
     "output_type": "stream",
     "text": [
      "Epoch 28 - Train Loss: 0.0270\n",
      "Epoch 28 - Validation Loss: 0.0265\n"
     ]
    },
    {
     "name": "stderr",
     "output_type": "stream",
     "text": [
      "Epoch 29/50: 100%|██████████| 26/26 [00:03<00:00,  8.37it/s, loss=0.0276]\n"
     ]
    },
    {
     "name": "stdout",
     "output_type": "stream",
     "text": [
      "Epoch 29 - Train Loss: 0.0270\n",
      "Epoch 29 - Validation Loss: 0.0265\n"
     ]
    },
    {
     "name": "stderr",
     "output_type": "stream",
     "text": [
      "Epoch 30/50: 100%|██████████| 26/26 [00:03<00:00,  8.37it/s, loss=0.0271]\n"
     ]
    },
    {
     "name": "stdout",
     "output_type": "stream",
     "text": [
      "Epoch 30 - Train Loss: 0.0269\n",
      "Epoch 30 - Validation Loss: 0.0265\n"
     ]
    },
    {
     "name": "stderr",
     "output_type": "stream",
     "text": [
      "Epoch 31/50: 100%|██████████| 26/26 [00:03<00:00,  8.35it/s, loss=0.0259]\n"
     ]
    },
    {
     "name": "stdout",
     "output_type": "stream",
     "text": [
      "Epoch 31 - Train Loss: 0.0269\n",
      "Epoch 31 - Validation Loss: 0.0265\n"
     ]
    },
    {
     "name": "stderr",
     "output_type": "stream",
     "text": [
      "Epoch 32/50: 100%|██████████| 26/26 [00:03<00:00,  8.30it/s, loss=0.0266]\n"
     ]
    },
    {
     "name": "stdout",
     "output_type": "stream",
     "text": [
      "Epoch 32 - Train Loss: 0.0269\n",
      "Epoch 32 - Validation Loss: 0.0265\n"
     ]
    },
    {
     "name": "stderr",
     "output_type": "stream",
     "text": [
      "Epoch 33/50: 100%|██████████| 26/26 [00:03<00:00,  8.36it/s, loss=0.0283]\n"
     ]
    },
    {
     "name": "stdout",
     "output_type": "stream",
     "text": [
      "Epoch 33 - Train Loss: 0.0269\n",
      "Epoch 33 - Validation Loss: 0.0264\n"
     ]
    },
    {
     "name": "stderr",
     "output_type": "stream",
     "text": [
      "Epoch 34/50: 100%|██████████| 26/26 [00:03<00:00,  8.32it/s, loss=0.0272]\n"
     ]
    },
    {
     "name": "stdout",
     "output_type": "stream",
     "text": [
      "Epoch 34 - Train Loss: 0.0268\n",
      "Epoch 34 - Validation Loss: 0.0265\n"
     ]
    },
    {
     "name": "stderr",
     "output_type": "stream",
     "text": [
      "Epoch 35/50: 100%|██████████| 26/26 [00:03<00:00,  8.37it/s, loss=0.0272]\n"
     ]
    },
    {
     "name": "stdout",
     "output_type": "stream",
     "text": [
      "Epoch 35 - Train Loss: 0.0268\n",
      "Epoch 35 - Validation Loss: 0.0264\n"
     ]
    },
    {
     "name": "stderr",
     "output_type": "stream",
     "text": [
      "Epoch 36/50: 100%|██████████| 26/26 [00:03<00:00,  8.37it/s, loss=0.0287]\n"
     ]
    },
    {
     "name": "stdout",
     "output_type": "stream",
     "text": [
      "Epoch 36 - Train Loss: 0.0268\n",
      "Epoch 36 - Validation Loss: 0.0264\n"
     ]
    },
    {
     "name": "stderr",
     "output_type": "stream",
     "text": [
      "Epoch 37/50: 100%|██████████| 26/26 [00:03<00:00,  8.36it/s, loss=0.0254]\n"
     ]
    },
    {
     "name": "stdout",
     "output_type": "stream",
     "text": [
      "Epoch 37 - Train Loss: 0.0267\n",
      "Epoch 37 - Validation Loss: 0.0264\n"
     ]
    },
    {
     "name": "stderr",
     "output_type": "stream",
     "text": [
      "Epoch 38/50: 100%|██████████| 26/26 [00:03<00:00,  8.35it/s, loss=0.0259]\n"
     ]
    },
    {
     "name": "stdout",
     "output_type": "stream",
     "text": [
      "Epoch 38 - Train Loss: 0.0267\n",
      "Epoch 38 - Validation Loss: 0.0264\n"
     ]
    },
    {
     "name": "stderr",
     "output_type": "stream",
     "text": [
      "Epoch 39/50: 100%|██████████| 26/26 [00:03<00:00,  8.36it/s, loss=0.0271]\n"
     ]
    },
    {
     "name": "stdout",
     "output_type": "stream",
     "text": [
      "Epoch 39 - Train Loss: 0.0267\n",
      "Epoch 39 - Validation Loss: 0.0264\n"
     ]
    },
    {
     "name": "stderr",
     "output_type": "stream",
     "text": [
      "Epoch 40/50: 100%|██████████| 26/26 [00:03<00:00,  8.34it/s, loss=0.028] \n"
     ]
    },
    {
     "name": "stdout",
     "output_type": "stream",
     "text": [
      "Epoch 40 - Train Loss: 0.0267\n",
      "Epoch 40 - Validation Loss: 0.0264\n"
     ]
    },
    {
     "name": "stderr",
     "output_type": "stream",
     "text": [
      "Epoch 41/50: 100%|██████████| 26/26 [00:03<00:00,  8.32it/s, loss=0.0271]\n"
     ]
    },
    {
     "name": "stdout",
     "output_type": "stream",
     "text": [
      "Epoch 41 - Train Loss: 0.0267\n",
      "Epoch 41 - Validation Loss: 0.0264\n"
     ]
    },
    {
     "name": "stderr",
     "output_type": "stream",
     "text": [
      "Epoch 42/50: 100%|██████████| 26/26 [00:03<00:00,  8.33it/s, loss=0.0283]\n"
     ]
    },
    {
     "name": "stdout",
     "output_type": "stream",
     "text": [
      "Epoch 42 - Train Loss: 0.0267\n",
      "Epoch 42 - Validation Loss: 0.0264\n"
     ]
    },
    {
     "name": "stderr",
     "output_type": "stream",
     "text": [
      "Epoch 43/50: 100%|██████████| 26/26 [00:03<00:00,  8.31it/s, loss=0.026] \n"
     ]
    },
    {
     "name": "stdout",
     "output_type": "stream",
     "text": [
      "Epoch 43 - Train Loss: 0.0266\n",
      "Epoch 43 - Validation Loss: 0.0264\n"
     ]
    },
    {
     "name": "stderr",
     "output_type": "stream",
     "text": [
      "Epoch 44/50: 100%|██████████| 26/26 [00:03<00:00,  8.32it/s, loss=0.0265]\n"
     ]
    },
    {
     "name": "stdout",
     "output_type": "stream",
     "text": [
      "Epoch 44 - Train Loss: 0.0266\n",
      "Epoch 44 - Validation Loss: 0.0263\n"
     ]
    },
    {
     "name": "stderr",
     "output_type": "stream",
     "text": [
      "Epoch 45/50: 100%|██████████| 26/26 [00:03<00:00,  8.35it/s, loss=0.0269]\n"
     ]
    },
    {
     "name": "stdout",
     "output_type": "stream",
     "text": [
      "Epoch 45 - Train Loss: 0.0266\n",
      "Epoch 45 - Validation Loss: 0.0263\n"
     ]
    },
    {
     "name": "stderr",
     "output_type": "stream",
     "text": [
      "Epoch 46/50: 100%|██████████| 26/26 [00:03<00:00,  8.33it/s, loss=0.0276]\n"
     ]
    },
    {
     "name": "stdout",
     "output_type": "stream",
     "text": [
      "Epoch 46 - Train Loss: 0.0267\n",
      "Epoch 46 - Validation Loss: 0.0263\n"
     ]
    },
    {
     "name": "stderr",
     "output_type": "stream",
     "text": [
      "Epoch 47/50: 100%|██████████| 26/26 [00:03<00:00,  8.34it/s, loss=0.0229]\n"
     ]
    },
    {
     "name": "stdout",
     "output_type": "stream",
     "text": [
      "Epoch 47 - Train Loss: 0.0266\n",
      "Epoch 47 - Validation Loss: 0.0263\n"
     ]
    },
    {
     "name": "stderr",
     "output_type": "stream",
     "text": [
      "Epoch 48/50: 100%|██████████| 26/26 [00:03<00:00,  8.33it/s, loss=0.0211]\n"
     ]
    },
    {
     "name": "stdout",
     "output_type": "stream",
     "text": [
      "Epoch 48 - Train Loss: 0.0265\n",
      "Epoch 48 - Validation Loss: 0.0263\n"
     ]
    },
    {
     "name": "stderr",
     "output_type": "stream",
     "text": [
      "Epoch 49/50: 100%|██████████| 26/26 [00:03<00:00,  8.34it/s, loss=0.0285]\n"
     ]
    },
    {
     "name": "stdout",
     "output_type": "stream",
     "text": [
      "Epoch 49 - Train Loss: 0.0267\n",
      "Epoch 49 - Validation Loss: 0.0264\n"
     ]
    },
    {
     "name": "stderr",
     "output_type": "stream",
     "text": [
      "Epoch 50/50: 100%|██████████| 26/26 [00:03<00:00,  8.37it/s, loss=0.0259]\n"
     ]
    },
    {
     "name": "stdout",
     "output_type": "stream",
     "text": [
      "Epoch 50 - Train Loss: 0.0266\n",
      "Epoch 50 - Validation Loss: 0.0263\n"
     ]
    },
    {
     "data": {
      "image/png": "[encoded data removed]",
      "text/plain": [
       "<Figure size 640x480 with 1 Axes>"
      ]
     },
     "metadata": {},
     "output_type": "display_data"
    }
   ],
   "source": [
    "import torch\n",
    "from tqdm import tqdm\n",
    "from modules import SVDLinearLayer\n",
    "import torch.nn.functional as F\n",
    "import torch.nn as nn\n",
    "import pickle\n",
    "\n",
    "# --- Configuration ---\n",
    "# Using constants makes the code cleaner and easier to modify.\n",
    "DEVICE = torch.device(\"cuda\" if torch.cuda.is_available() else \"cpu\")\n",
    "LAYER_HOOK = \"model.layers.31.self_attn.q_proj\"\n",
    "ACTIVATIONS_PATH = f\"matrixes/{LAYER_HOOK}_activations.pt\"\n",
    "WEIGHTS_PATH = f\"matrixes/{LAYER_HOOK}_weight.pt\"\n",
    "IMPORTANCE_PATH = f\"grads/llama7b_grads.pkl\"\n",
    "\n",
    "RATIO = 0.6\n",
    "EPOCHS = 50\n",
    "LEARNING_RATE = 1e-4\n",
    "WEIGHT_DECAY = 1e-3\n",
    "N_SAMPLES_FOR_INIT = 50\n",
    "BATCH_SIZE = 10\n",
    "TRAIN_SAMPLES = 256\n",
    "\n",
    "# --- 1. Efficient Data Loading and Pre-processing ---\n",
    "\n",
    "# Move weights to the correct device right after loading.\n",
    "# non_blocking=True can enable faster asynchronous memory copies on CUDA hardware.\n",
    "W = torch.load(WEIGHTS_PATH).to(DEVICE, non_blocking=True).float()\n",
    "\n",
    "# It's more memory-efficient to load large tensors to CPU first.\n",
    "# We will move only the necessary batches to the GPU during training.\n",
    "pre_act = torch.load(ACTIVATIONS_PATH).float() # (batches, samples_batch, seq_len, features)\n",
    "\n",
    "# Concat the first two dimensions\n",
    "pre_act = pre_act.view(pre_act.shape[0] * pre_act.shape[1], pre_act.shape[2], pre_act.shape[3]) # (samples, seq_len, features)\n",
    "\n",
    "torch.manual_seed(42)\n",
    "pre_act = pre_act[torch.randperm(pre_act.size(0))]\n",
    "\n",
    "pre_act_train = pre_act[:TRAIN_SAMPLES, :, :]  # Use only the first TRAIN_SAMPLES for training\n",
    "pre_act_val = pre_act[TRAIN_SAMPLES:, :, :]  # Use the rest for validation\n",
    "\n",
    "del pre_act\n",
    "\n",
    "print(f\"Training Activations shape: {pre_act_train.shape}\")\n",
    "print(f\"Validation Activations shape: {pre_act_val.shape}\")\n",
    "print(f\"Loaded weights shape: {W.shape}\")\n",
    "\n",
    "# --- 2. Simplified Truncation Calculation ---\n",
    "\n",
    "out_features, in_features = W.shape\n",
    "truncate = int(W.shape[0] * W.shape[1] * RATIO / (W.shape[0] + W.shape[1]))\n",
    "print(f\"Truncate: {truncate}\")\n",
    "\n",
    "# --- 3. Memory-Efficient SVD Initialization ---\n",
    "\n",
    "# Create the initialization data by taking a slice on the CPU first,\n",
    "# and only then moving the smaller tensor to the GPU.\n",
    "init_data_slice = pre_act_train[:N_SAMPLES_FOR_INIT, :, :]\n",
    "\n",
    "U, S, VT = torch.linalg.svd(W, full_matrices=False)\n",
    "s_sqrt = torch.diag(torch.sqrt(S))\n",
    "u_parameter = torch.matmul(U[:, :truncate], s_sqrt[:truncate, :truncate])\n",
    "vt_parameter = torch.matmul(s_sqrt[:truncate, :truncate], VT[:truncate, :])\n",
    "\n",
    "svd_layer = nn.Sequential(\n",
    "    nn.Linear(\n",
    "        in_features=vt_parameter.shape[1],\n",
    "        out_features=vt_parameter.shape[0],\n",
    "        bias=False,\n",
    "        device=DEVICE\n",
    "    ),\n",
    "    nn.Linear(\n",
    "        in_features=u_parameter.shape[1],\n",
    "        out_features=u_parameter.shape[0],\n",
    "        bias=False,\n",
    "        device=DEVICE\n",
    "    )\n",
    ").to(DEVICE).train()\n",
    "\n",
    "svd_layer[0].weight.data = vt_parameter.float()\n",
    "svd_layer[1].weight.data = u_parameter.float()\n",
    "\n",
    "og_linear_module = nn.Linear(\n",
    "    in_features=W.shape[1],\n",
    "    out_features=W.shape[0],\n",
    "    bias=False,\n",
    "    device=DEVICE\n",
    ")\n",
    "\n",
    "og_linear_module.weight.data = W.float()\n",
    "og_linear_module.eval()\n",
    "\n",
    "# Clean up to free memory immediately.\n",
    "del init_data_slice\n",
    "torch.cuda.empty_cache()\n",
    "\n",
    "loss_fn = nn.MSELoss(reduction=\"mean\")\n",
    "\n",
    "# Using fused=True can provide a performance boost on compatible CUDA devices.\n",
    "optimizer = torch.optim.AdamW(\n",
    "    svd_layer.parameters(), lr=LEARNING_RATE, weight_decay=WEIGHT_DECAY, fused=torch.cuda.is_available()\n",
    ")\n",
    "\n",
    "# --- 4. Efficient Training Loop ---\n",
    "train_loss_log = []\n",
    "val_loss_log = []\n",
    "for epoch in range(EPOCHS):\n",
    "    svd_layer.train()\n",
    "    epoch_loss_log = []\n",
    "    pbar = tqdm(range(0, pre_act_train.shape[0], BATCH_SIZE), desc=f\"Epoch {epoch + 1}/{EPOCHS}\")\n",
    "    \n",
    "    # Shuffle the training data at the start of each epoch\n",
    "    pre_act_train = pre_act_train[torch.randperm(pre_act_train.size(0))]\n",
    "    \n",
    "    for i in pbar:\n",
    "        batch = pre_act_train[i:i + BATCH_SIZE, :, :].to(DEVICE, non_blocking=True)\n",
    "        optimizer.zero_grad()\n",
    "        \n",
    "        # Forward pass\n",
    "        output = svd_layer(batch)\n",
    "        \n",
    "        # Compute loss\n",
    "        loss = loss_fn(output, og_linear_module(batch))\n",
    "        loss.backward()\n",
    "        \n",
    "        # Update weights\n",
    "        optimizer.step()\n",
    "        epoch_loss_log.append(loss.item())\n",
    "        \n",
    "        pbar.set_postfix({\"loss\": loss.item()})\n",
    "    train_loss_log.append(sum(epoch_loss_log) / len(epoch_loss_log))\n",
    "    print(f\"Epoch {epoch + 1} - Train Loss: {train_loss_log[-1]:.4f}\")\n",
    "    svd_layer.eval()\n",
    "    with torch.no_grad():\n",
    "        val_loss = loss_fn(svd_layer(pre_act_val.to(DEVICE, non_blocking=True)), og_linear_module(pre_act_val.to(DEVICE, non_blocking=True)))\n",
    "        val_loss_log.append(val_loss.item())\n",
    "        print(f\"Epoch {epoch + 1} - Validation Loss: {val_loss.item():.4f}\")\n",
    "        \n",
    "#Log losses \n",
    "import matplotlib.pyplot as plt\n",
    "plt.plot(train_loss_log, label='Train Loss')\n",
    "plt.plot(val_loss_log, label='Validation Loss')\n",
    "plt.xlabel('Epoch')\n",
    "plt.ylabel('Loss')\n",
    "plt.title('Training and Validation Loss')\n",
    "plt.legend()\n",
    "plt.grid()\n",
    "plt.show()"
   ]
  },
  {
   "cell_type": "markdown",
   "id": "11baa0c1",
   "metadata": {},
   "source": [
    "# Testing From Scratch"
   ]
  },
  {
   "cell_type": "code",
   "execution_count": null,
   "id": "32495852",
   "metadata": {},
   "outputs": [
    {
     "name": "stdout",
     "output_type": "stream",
     "text": [
      "Training Activations shape: torch.Size([256, 2048, 4096])\n",
      "Validation Activations shape: torch.Size([32, 2048, 4096])\n",
      "Loaded weights shape: torch.Size([4096, 4096])\n",
      "Truncate: 1228\n"
     ]
    },
    {
     "name": "stderr",
     "output_type": "stream",
     "text": [
      "Epoch 1/50: 100%|██████████| 26/26 [00:01<00:00, 13.63it/s, loss=0.683]\n"
     ]
    },
    {
     "name": "stdout",
     "output_type": "stream",
     "text": [
      "Epoch 1 - Train Loss: 1.0265\n",
      "Epoch 1 - Validation Loss: 0.6304\n"
     ]
    },
    {
     "name": "stderr",
     "output_type": "stream",
     "text": [
      "Epoch 2/50: 100%|██████████| 26/26 [00:01<00:00, 13.66it/s, loss=0.441]\n"
     ]
    },
    {
     "name": "stdout",
     "output_type": "stream",
     "text": [
      "Epoch 2 - Train Loss: 0.5333\n",
      "Epoch 2 - Validation Loss: 0.4226\n"
     ]
    },
    {
     "name": "stderr",
     "output_type": "stream",
     "text": [
      "Epoch 3/50: 100%|██████████| 26/26 [00:01<00:00, 13.66it/s, loss=0.378]\n"
     ]
    },
    {
     "name": "stdout",
     "output_type": "stream",
     "text": [
      "Epoch 3 - Train Loss: 0.4138\n",
      "Epoch 3 - Validation Loss: 0.3659\n"
     ]
    },
    {
     "name": "stderr",
     "output_type": "stream",
     "text": [
      "Epoch 4/50: 100%|██████████| 26/26 [00:01<00:00, 13.57it/s, loss=0.343]\n"
     ]
    },
    {
     "name": "stdout",
     "output_type": "stream",
     "text": [
      "Epoch 4 - Train Loss: 0.3688\n",
      "Epoch 4 - Validation Loss: 0.3327\n"
     ]
    },
    {
     "name": "stderr",
     "output_type": "stream",
     "text": [
      "Epoch 5/50: 100%|██████████| 26/26 [00:01<00:00, 13.65it/s, loss=0.316]\n"
     ]
    },
    {
     "name": "stdout",
     "output_type": "stream",
     "text": [
      "Epoch 5 - Train Loss: 0.3380\n",
      "Epoch 5 - Validation Loss: 0.3072\n"
     ]
    },
    {
     "name": "stderr",
     "output_type": "stream",
     "text": [
      "Epoch 6/50: 100%|██████████| 26/26 [00:01<00:00, 13.65it/s, loss=0.295]\n"
     ]
    },
    {
     "name": "stdout",
     "output_type": "stream",
     "text": [
      "Epoch 6 - Train Loss: 0.3137\n",
      "Epoch 6 - Validation Loss: 0.2867\n"
     ]
    },
    {
     "name": "stderr",
     "output_type": "stream",
     "text": [
      "Epoch 7/50: 100%|██████████| 26/26 [00:01<00:00, 13.59it/s, loss=0.278]\n"
     ]
    },
    {
     "name": "stdout",
     "output_type": "stream",
     "text": [
      "Epoch 7 - Train Loss: 0.2939\n",
      "Epoch 7 - Validation Loss: 0.2698\n"
     ]
    },
    {
     "name": "stderr",
     "output_type": "stream",
     "text": [
      "Epoch 8/50: 100%|██████████| 26/26 [00:01<00:00, 13.59it/s, loss=0.262]\n"
     ]
    },
    {
     "name": "stdout",
     "output_type": "stream",
     "text": [
      "Epoch 8 - Train Loss: 0.2772\n",
      "Epoch 8 - Validation Loss: 0.2554\n"
     ]
    },
    {
     "name": "stderr",
     "output_type": "stream",
     "text": [
      "Epoch 9/50: 100%|██████████| 26/26 [00:01<00:00, 13.68it/s, loss=0.249]\n"
     ]
    },
    {
     "name": "stdout",
     "output_type": "stream",
     "text": [
      "Epoch 9 - Train Loss: 0.2627\n",
      "Epoch 9 - Validation Loss: 0.2428\n"
     ]
    },
    {
     "name": "stderr",
     "output_type": "stream",
     "text": [
      "Epoch 10/50: 100%|██████████| 26/26 [00:01<00:00, 13.68it/s, loss=0.237]\n"
     ]
    },
    {
     "name": "stdout",
     "output_type": "stream",
     "text": [
      "Epoch 10 - Train Loss: 0.2501\n",
      "Epoch 10 - Validation Loss: 0.2319\n"
     ]
    },
    {
     "name": "stderr",
     "output_type": "stream",
     "text": [
      "Epoch 11/50: 100%|██████████| 26/26 [00:01<00:00, 13.63it/s, loss=0.227]\n"
     ]
    },
    {
     "name": "stdout",
     "output_type": "stream",
     "text": [
      "Epoch 11 - Train Loss: 0.2390\n",
      "Epoch 11 - Validation Loss: 0.2221\n"
     ]
    },
    {
     "name": "stderr",
     "output_type": "stream",
     "text": [
      "Epoch 12/50: 100%|██████████| 26/26 [00:01<00:00, 13.55it/s, loss=0.218]\n"
     ]
    },
    {
     "name": "stdout",
     "output_type": "stream",
     "text": [
      "Epoch 12 - Train Loss: 0.2292\n",
      "Epoch 12 - Validation Loss: 0.2134\n"
     ]
    },
    {
     "name": "stderr",
     "output_type": "stream",
     "text": [
      "Epoch 13/50: 100%|██████████| 26/26 [00:01<00:00, 13.59it/s, loss=0.209]\n"
     ]
    },
    {
     "name": "stdout",
     "output_type": "stream",
     "text": [
      "Epoch 13 - Train Loss: 0.2203\n",
      "Epoch 13 - Validation Loss: 0.2056\n"
     ]
    },
    {
     "name": "stderr",
     "output_type": "stream",
     "text": [
      "Epoch 14/50: 100%|██████████| 26/26 [00:01<00:00, 13.62it/s, loss=0.202]\n"
     ]
    },
    {
     "name": "stdout",
     "output_type": "stream",
     "text": [
      "Epoch 14 - Train Loss: 0.2122\n",
      "Epoch 14 - Validation Loss: 0.1984\n"
     ]
    },
    {
     "name": "stderr",
     "output_type": "stream",
     "text": [
      "Epoch 15/50: 100%|██████████| 26/26 [00:01<00:00, 13.55it/s, loss=0.195]\n"
     ]
    },
    {
     "name": "stdout",
     "output_type": "stream",
     "text": [
      "Epoch 15 - Train Loss: 0.2048\n",
      "Epoch 15 - Validation Loss: 0.1918\n"
     ]
    },
    {
     "name": "stderr",
     "output_type": "stream",
     "text": [
      "Epoch 16/50: 100%|██████████| 26/26 [00:01<00:00, 13.53it/s, loss=0.188]\n"
     ]
    },
    {
     "name": "stdout",
     "output_type": "stream",
     "text": [
      "Epoch 16 - Train Loss: 0.1979\n",
      "Epoch 16 - Validation Loss: 0.1856\n"
     ]
    },
    {
     "name": "stderr",
     "output_type": "stream",
     "text": [
      "Epoch 17/50: 100%|██████████| 26/26 [00:01<00:00, 13.56it/s, loss=0.182]\n"
     ]
    },
    {
     "name": "stdout",
     "output_type": "stream",
     "text": [
      "Epoch 17 - Train Loss: 0.1915\n",
      "Epoch 17 - Validation Loss: 0.1799\n"
     ]
    },
    {
     "name": "stderr",
     "output_type": "stream",
     "text": [
      "Epoch 18/50: 100%|██████████| 26/26 [00:01<00:00, 13.56it/s, loss=0.176]\n"
     ]
    },
    {
     "name": "stdout",
     "output_type": "stream",
     "text": [
      "Epoch 18 - Train Loss: 0.1855\n",
      "Epoch 18 - Validation Loss: 0.1745\n"
     ]
    },
    {
     "name": "stderr",
     "output_type": "stream",
     "text": [
      "Epoch 19/50: 100%|██████████| 26/26 [00:01<00:00, 13.52it/s, loss=0.171]\n"
     ]
    },
    {
     "name": "stdout",
     "output_type": "stream",
     "text": [
      "Epoch 19 - Train Loss: 0.1799\n",
      "Epoch 19 - Validation Loss: 0.1694\n"
     ]
    },
    {
     "name": "stderr",
     "output_type": "stream",
     "text": [
      "Epoch 20/50: 100%|██████████| 26/26 [00:01<00:00, 13.61it/s, loss=0.166]\n"
     ]
    },
    {
     "name": "stdout",
     "output_type": "stream",
     "text": [
      "Epoch 20 - Train Loss: 0.1746\n",
      "Epoch 20 - Validation Loss: 0.1646\n"
     ]
    },
    {
     "name": "stderr",
     "output_type": "stream",
     "text": [
      "Epoch 21/50: 100%|██████████| 26/26 [00:01<00:00, 13.61it/s, loss=0.161]\n"
     ]
    },
    {
     "name": "stdout",
     "output_type": "stream",
     "text": [
      "Epoch 21 - Train Loss: 0.1697\n",
      "Epoch 21 - Validation Loss: 0.1601\n"
     ]
    },
    {
     "name": "stderr",
     "output_type": "stream",
     "text": [
      "Epoch 22/50: 100%|██████████| 26/26 [00:01<00:00, 13.63it/s, loss=0.157]\n"
     ]
    },
    {
     "name": "stdout",
     "output_type": "stream",
     "text": [
      "Epoch 22 - Train Loss: 0.1649\n",
      "Epoch 22 - Validation Loss: 0.1558\n"
     ]
    },
    {
     "name": "stderr",
     "output_type": "stream",
     "text": [
      "Epoch 23/50: 100%|██████████| 26/26 [00:01<00:00, 13.54it/s, loss=0.153]\n"
     ]
    },
    {
     "name": "stdout",
     "output_type": "stream",
     "text": [
      "Epoch 23 - Train Loss: 0.1605\n",
      "Epoch 23 - Validation Loss: 0.1518\n"
     ]
    },
    {
     "name": "stderr",
     "output_type": "stream",
     "text": [
      "Epoch 24/50: 100%|██████████| 26/26 [00:01<00:00, 13.58it/s, loss=0.148]\n"
     ]
    },
    {
     "name": "stdout",
     "output_type": "stream",
     "text": [
      "Epoch 24 - Train Loss: 0.1563\n",
      "Epoch 24 - Validation Loss: 0.1479\n"
     ]
    },
    {
     "name": "stderr",
     "output_type": "stream",
     "text": [
      "Epoch 25/50: 100%|██████████| 26/26 [00:01<00:00, 13.66it/s, loss=0.145]\n"
     ]
    },
    {
     "name": "stdout",
     "output_type": "stream",
     "text": [
      "Epoch 25 - Train Loss: 0.1522\n",
      "Epoch 25 - Validation Loss: 0.1442\n"
     ]
    },
    {
     "name": "stderr",
     "output_type": "stream",
     "text": [
      "Epoch 26/50: 100%|██████████| 26/26 [00:01<00:00, 13.58it/s, loss=0.141]\n"
     ]
    },
    {
     "name": "stdout",
     "output_type": "stream",
     "text": [
      "Epoch 26 - Train Loss: 0.1484\n",
      "Epoch 26 - Validation Loss: 0.1407\n"
     ]
    },
    {
     "name": "stderr",
     "output_type": "stream",
     "text": [
      "Epoch 27/50: 100%|██████████| 26/26 [00:01<00:00, 13.51it/s, loss=0.138]\n"
     ]
    },
    {
     "name": "stdout",
     "output_type": "stream",
     "text": [
      "Epoch 27 - Train Loss: 0.1447\n",
      "Epoch 27 - Validation Loss: 0.1374\n"
     ]
    },
    {
     "name": "stderr",
     "output_type": "stream",
     "text": [
      "Epoch 28/50: 100%|██████████| 26/26 [00:01<00:00, 13.61it/s, loss=0.134]\n"
     ]
    },
    {
     "name": "stdout",
     "output_type": "stream",
     "text": [
      "Epoch 28 - Train Loss: 0.1413\n",
      "Epoch 28 - Validation Loss: 0.1342\n"
     ]
    },
    {
     "name": "stderr",
     "output_type": "stream",
     "text": [
      "Epoch 29/50: 100%|██████████| 26/26 [00:01<00:00, 13.65it/s, loss=0.131]\n"
     ]
    },
    {
     "name": "stdout",
     "output_type": "stream",
     "text": [
      "Epoch 29 - Train Loss: 0.1379\n",
      "Epoch 29 - Validation Loss: 0.1312\n"
     ]
    },
    {
     "name": "stderr",
     "output_type": "stream",
     "text": [
      "Epoch 30/50: 100%|██████████| 26/26 [00:01<00:00, 13.65it/s, loss=0.128]\n"
     ]
    },
    {
     "name": "stdout",
     "output_type": "stream",
     "text": [
      "Epoch 30 - Train Loss: 0.1347\n",
      "Epoch 30 - Validation Loss: 0.1282\n"
     ]
    },
    {
     "name": "stderr",
     "output_type": "stream",
     "text": [
      "Epoch 31/50: 100%|██████████| 26/26 [00:01<00:00, 13.65it/s, loss=0.125]\n"
     ]
    },
    {
     "name": "stdout",
     "output_type": "stream",
     "text": [
      "Epoch 31 - Train Loss: 0.1317\n",
      "Epoch 31 - Validation Loss: 0.1254\n"
     ]
    },
    {
     "name": "stderr",
     "output_type": "stream",
     "text": [
      "Epoch 32/50: 100%|██████████| 26/26 [00:01<00:00, 13.65it/s, loss=0.122]\n"
     ]
    },
    {
     "name": "stdout",
     "output_type": "stream",
     "text": [
      "Epoch 32 - Train Loss: 0.1287\n",
      "Epoch 32 - Validation Loss: 0.1227\n"
     ]
    },
    {
     "name": "stderr",
     "output_type": "stream",
     "text": [
      "Epoch 33/50: 100%|██████████| 26/26 [00:01<00:00, 13.48it/s, loss=0.12] \n"
     ]
    },
    {
     "name": "stdout",
     "output_type": "stream",
     "text": [
      "Epoch 33 - Train Loss: 0.1259\n",
      "Epoch 33 - Validation Loss: 0.1201\n"
     ]
    },
    {
     "name": "stderr",
     "output_type": "stream",
     "text": [
      "Epoch 34/50: 100%|██████████| 26/26 [00:01<00:00, 13.58it/s, loss=0.117]\n"
     ]
    },
    {
     "name": "stdout",
     "output_type": "stream",
     "text": [
      "Epoch 34 - Train Loss: 0.1232\n",
      "Epoch 34 - Validation Loss: 0.1176\n"
     ]
    },
    {
     "name": "stderr",
     "output_type": "stream",
     "text": [
      "Epoch 35/50: 100%|██████████| 26/26 [00:01<00:00, 13.58it/s, loss=0.115]\n"
     ]
    },
    {
     "name": "stdout",
     "output_type": "stream",
     "text": [
      "Epoch 35 - Train Loss: 0.1206\n",
      "Epoch 35 - Validation Loss: 0.1152\n"
     ]
    },
    {
     "name": "stderr",
     "output_type": "stream",
     "text": [
      "Epoch 36/50: 100%|██████████| 26/26 [00:01<00:00, 13.57it/s, loss=0.112]\n"
     ]
    },
    {
     "name": "stdout",
     "output_type": "stream",
     "text": [
      "Epoch 36 - Train Loss: 0.1181\n",
      "Epoch 36 - Validation Loss: 0.1129\n"
     ]
    },
    {
     "name": "stderr",
     "output_type": "stream",
     "text": [
      "Epoch 37/50: 100%|██████████| 26/26 [00:01<00:00, 13.61it/s, loss=0.11] \n"
     ]
    },
    {
     "name": "stdout",
     "output_type": "stream",
     "text": [
      "Epoch 37 - Train Loss: 0.1157\n",
      "Epoch 37 - Validation Loss: 0.1107\n"
     ]
    },
    {
     "name": "stderr",
     "output_type": "stream",
     "text": [
      "Epoch 38/50: 100%|██████████| 26/26 [00:01<00:00, 13.60it/s, loss=0.108]\n"
     ]
    },
    {
     "name": "stdout",
     "output_type": "stream",
     "text": [
      "Epoch 38 - Train Loss: 0.1133\n",
      "Epoch 38 - Validation Loss: 0.1085\n"
     ]
    },
    {
     "name": "stderr",
     "output_type": "stream",
     "text": [
      "Epoch 39/50: 100%|██████████| 26/26 [00:01<00:00, 13.55it/s, loss=0.106]\n"
     ]
    },
    {
     "name": "stdout",
     "output_type": "stream",
     "text": [
      "Epoch 39 - Train Loss: 0.1111\n",
      "Epoch 39 - Validation Loss: 0.1064\n"
     ]
    },
    {
     "name": "stderr",
     "output_type": "stream",
     "text": [
      "Epoch 40/50: 100%|██████████| 26/26 [00:01<00:00, 13.51it/s, loss=0.103] \n"
     ]
    },
    {
     "name": "stdout",
     "output_type": "stream",
     "text": [
      "Epoch 40 - Train Loss: 0.1089\n",
      "Epoch 40 - Validation Loss: 0.1044\n"
     ]
    },
    {
     "name": "stderr",
     "output_type": "stream",
     "text": [
      "Epoch 41/50: 100%|██████████| 26/26 [00:01<00:00, 13.56it/s, loss=0.101] \n"
     ]
    },
    {
     "name": "stdout",
     "output_type": "stream",
     "text": [
      "Epoch 41 - Train Loss: 0.1068\n",
      "Epoch 41 - Validation Loss: 0.1025\n"
     ]
    },
    {
     "name": "stderr",
     "output_type": "stream",
     "text": [
      "Epoch 42/50: 100%|██████████| 26/26 [00:01<00:00, 13.52it/s, loss=0.0995]\n"
     ]
    },
    {
     "name": "stdout",
     "output_type": "stream",
     "text": [
      "Epoch 42 - Train Loss: 0.1047\n",
      "Epoch 42 - Validation Loss: 0.1006\n"
     ]
    },
    {
     "name": "stderr",
     "output_type": "stream",
     "text": [
      "Epoch 43/50: 100%|██████████| 26/26 [00:01<00:00, 13.60it/s, loss=0.0977]\n"
     ]
    },
    {
     "name": "stdout",
     "output_type": "stream",
     "text": [
      "Epoch 43 - Train Loss: 0.1028\n",
      "Epoch 43 - Validation Loss: 0.0988\n"
     ]
    },
    {
     "name": "stderr",
     "output_type": "stream",
     "text": [
      "Epoch 44/50: 100%|██████████| 26/26 [00:01<00:00, 13.51it/s, loss=0.0958]\n"
     ]
    },
    {
     "name": "stdout",
     "output_type": "stream",
     "text": [
      "Epoch 44 - Train Loss: 0.1009\n",
      "Epoch 44 - Validation Loss: 0.0970\n"
     ]
    },
    {
     "name": "stderr",
     "output_type": "stream",
     "text": [
      "Epoch 45/50: 100%|██████████| 26/26 [00:01<00:00, 13.55it/s, loss=0.0941]\n"
     ]
    },
    {
     "name": "stdout",
     "output_type": "stream",
     "text": [
      "Epoch 45 - Train Loss: 0.0990\n",
      "Epoch 45 - Validation Loss: 0.0953\n"
     ]
    },
    {
     "name": "stderr",
     "output_type": "stream",
     "text": [
      "Epoch 46/50: 100%|██████████| 26/26 [00:01<00:00, 13.57it/s, loss=0.0924]\n"
     ]
    },
    {
     "name": "stdout",
     "output_type": "stream",
     "text": [
      "Epoch 46 - Train Loss: 0.0972\n",
      "Epoch 46 - Validation Loss: 0.0936\n"
     ]
    },
    {
     "name": "stderr",
     "output_type": "stream",
     "text": [
      "Epoch 47/50: 100%|██████████| 26/26 [00:01<00:00, 13.54it/s, loss=0.0907]\n"
     ]
    },
    {
     "name": "stdout",
     "output_type": "stream",
     "text": [
      "Epoch 47 - Train Loss: 0.0955\n",
      "Epoch 47 - Validation Loss: 0.0920\n"
     ]
    },
    {
     "name": "stderr",
     "output_type": "stream",
     "text": [
      "Epoch 48/50: 100%|██████████| 26/26 [00:01<00:00, 13.55it/s, loss=0.0891]\n"
     ]
    },
    {
     "name": "stdout",
     "output_type": "stream",
     "text": [
      "Epoch 48 - Train Loss: 0.0938\n",
      "Epoch 48 - Validation Loss: 0.0904\n"
     ]
    },
    {
     "name": "stderr",
     "output_type": "stream",
     "text": [
      "Epoch 49/50: 100%|██████████| 26/26 [00:01<00:00, 13.57it/s, loss=0.0876]\n"
     ]
    },
    {
     "name": "stdout",
     "output_type": "stream",
     "text": [
      "Epoch 49 - Train Loss: 0.0921\n",
      "Epoch 49 - Validation Loss: 0.0889\n"
     ]
    },
    {
     "name": "stderr",
     "output_type": "stream",
     "text": [
      "Epoch 50/50: 100%|██████████| 26/26 [00:01<00:00, 13.54it/s, loss=0.0861]\n"
     ]
    },
    {
     "name": "stdout",
     "output_type": "stream",
     "text": [
      "Epoch 50 - Train Loss: 0.0906\n",
      "Epoch 50 - Validation Loss: 0.0874\n"
     ]
    },
    {
     "data": {
      "image/png": "[encoded data removed]",
      "text/plain": [
       "<Figure size 640x480 with 1 Axes>"
      ]
     },
     "metadata": {},
     "output_type": "display_data"
    }
   ],
   "source": [
    "import torch\n",
    "from tqdm import tqdm\n",
    "from modules import SVDLinearLayer\n",
    "import torch.nn.functional as F\n",
    "import torch.nn as nn\n",
    "import pickle\n",
    "\n",
    "# --- Configuration ---\n",
    "# Using constants makes the code cleaner and easier to modify.\n",
    "DEVICE = torch.device(\"cuda\" if torch.cuda.is_available() else \"cpu\")\n",
    "LAYER_HOOK = \"model.layers.31.self_attn.q_proj\"\n",
    "ACTIVATIONS_PATH = f\"matrixes/{LAYER_HOOK}_activations.pt\"\n",
    "WEIGHTS_PATH = f\"matrixes/{LAYER_HOOK}_weight.pt\"\n",
    "IMPORTANCE_PATH = f\"grads/llama7b_grads.pkl\"\n",
    "\n",
    "RATIO = 0.6\n",
    "EPOCHS = 50\n",
    "LEARNING_RATE = 1e-2\n",
    "WEIGHT_DECAY = 1e-3\n",
    "N_SAMPLES_FOR_INIT = 50\n",
    "BATCH_SIZE = 10\n",
    "TRAIN_SAMPLES = 256\n",
    "\n",
    "# --- 1. Efficient Data Loading and Pre-processing ---\n",
    "\n",
    "# Move weights to the correct device right after loading.\n",
    "# non_blocking=True can enable faster asynchronous memory copies on CUDA hardware.\n",
    "W = torch.load(WEIGHTS_PATH).to(DEVICE, non_blocking=True).float()\n",
    "\n",
    "# It's more memory-efficient to load large tensors to CPU first.\n",
    "# We will move only the necessary batches to the GPU during training.\n",
    "pre_act = torch.load(ACTIVATIONS_PATH).float() # (batches, samples_batch, seq_len, features)\n",
    "\n",
    "# Concat the first two dimensions\n",
    "pre_act = pre_act.view(pre_act.shape[0] * pre_act.shape[1], pre_act.shape[2], pre_act.shape[3]) # (samples, seq_len, features)\n",
    "\n",
    "torch.manual_seed(42)\n",
    "pre_act = pre_act[torch.randperm(pre_act.size(0))]\n",
    "\n",
    "pre_act_train = pre_act[:TRAIN_SAMPLES, :, :]  # Use only the first TRAIN_SAMPLES for training\n",
    "pre_act_val = pre_act[TRAIN_SAMPLES:, :, :]  # Use the rest for validation\n",
    "\n",
    "del pre_act\n",
    "\n",
    "print(f\"Training Activations shape: {pre_act_train.shape}\")\n",
    "print(f\"Validation Activations shape: {pre_act_val.shape}\")\n",
    "print(f\"Loaded weights shape: {W.shape}\")\n",
    "\n",
    "# --- 2. Simplified Truncation Calculation ---\n",
    "\n",
    "out_features, in_features = W.shape\n",
    "truncate = int(W.shape[0] * W.shape[1] * RATIO / (W.shape[0] + W.shape[1]))\n",
    "print(f\"Truncate: {truncate}\")\n",
    "\n",
    "# --- 3. Memory-Efficient SVD Initialization ---\n",
    "\n",
    "# Create the initialization data by taking a slice on the CPU first,\n",
    "# and only then moving the smaller tensor to the GPU.\n",
    "init_data_slice = pre_act_train[:N_SAMPLES_FOR_INIT, :, :]\n",
    "\n",
    "svd_layer = nn.Sequential(\n",
    "    nn.Linear(\n",
    "        in_features=vt_parameter.shape[1],\n",
    "        out_features=vt_parameter.shape[0],\n",
    "        bias=False,\n",
    "        device=DEVICE\n",
    "    ),\n",
    "    nn.Linear(\n",
    "        in_features=u_parameter.shape[1],\n",
    "        out_features=u_parameter.shape[0],\n",
    "        bias=False,\n",
    "        device=DEVICE\n",
    "    )\n",
    ").to(DEVICE).train()\n",
    "\n",
    "og_linear_module = nn.Linear(\n",
    "    in_features=W.shape[1],\n",
    "    out_features=W.shape[0],\n",
    "    bias=False,\n",
    "    device=DEVICE\n",
    ")\n",
    "\n",
    "og_linear_module.weight.data = W.float()\n",
    "og_linear_module.eval()\n",
    "\n",
    "# Clean up to free memory immediately.\n",
    "del init_data_slice\n",
    "torch.cuda.empty_cache()\n",
    "\n",
    "loss_fn = nn.MSELoss(reduction=\"mean\")\n",
    "\n",
    "# Using fused=True can provide a performance boost on compatible CUDA devices.\n",
    "optimizer = torch.optim.AdamW(\n",
    "    svd_layer.parameters(), lr=LEARNING_RATE, weight_decay=WEIGHT_DECAY, fused=torch.cuda.is_available()\n",
    ")\n",
    "\n",
    "# --- 4. Efficient Training Loop ---\n",
    "train_loss_log = []\n",
    "val_loss_log = []\n",
    "for epoch in range(EPOCHS):\n",
    "    svd_layer.train()\n",
    "    epoch_loss_log = []\n",
    "    pbar = tqdm(range(0, pre_act_train.shape[0], BATCH_SIZE), desc=f\"Epoch {epoch + 1}/{EPOCHS}\")\n",
    "    \n",
    "    for i in pbar:\n",
    "        batch = pre_act_train[i:i + BATCH_SIZE, :, :].to(DEVICE, non_blocking=True)\n",
    "        optimizer.zero_grad()\n",
    "        \n",
    "        # Forward pass\n",
    "        output = svd_layer(batch)\n",
    "        \n",
    "        # Compute loss\n",
    "        loss = loss_fn(output, og_linear_module(batch))\n",
    "        loss.backward()\n",
    "        \n",
    "        # Update weights\n",
    "        optimizer.step()\n",
    "        epoch_loss_log.append(loss.item())\n",
    "        \n",
    "        pbar.set_postfix({\"loss\": loss.item()})\n",
    "    train_loss_log.append(sum(epoch_loss_log) / len(epoch_loss_log))\n",
    "    print(f\"Epoch {epoch + 1} - Train Loss: {train_loss_log[-1]:.4f}\")\n",
    "    svd_layer.eval()\n",
    "    with torch.no_grad():\n",
    "        val_loss = loss_fn(svd_layer(pre_act_val.to(DEVICE, non_blocking=True)), og_linear_module(pre_act_val.to(DEVICE, non_blocking=True)))\n",
    "        val_loss_log.append(val_loss.item())\n",
    "        print(f\"Epoch {epoch + 1} - Validation Loss: {val_loss.item():.4f}\")\n",
    "        \n",
    "#Log losses \n",
    "import matplotlib.pyplot as plt\n",
    "plt.plot(train_loss_log, label='Train Loss')\n",
    "plt.plot(val_loss_log, label='Validation Loss')\n",
    "plt.xlabel('Epoch')\n",
    "plt.ylabel('Loss')\n",
    "plt.title('Training and Validation Loss')\n",
    "plt.legend()\n",
    "plt.grid()\n",
    "plt.show()"
   ]
  },
  {
   "cell_type": "markdown",
   "id": "6101b846",
   "metadata": {},
   "source": [
    "# CROSS VALIDATION"
   ]
  },
  {
   "cell_type": "markdown",
   "id": "c91068e6",
   "metadata": {},
   "source": [
    "## SVD-LLM"
   ]
  },
  {
   "cell_type": "code",
   "execution_count": 3,
   "id": "da630aca",
   "metadata": {},
   "outputs": [
    {
     "name": "stdout",
     "output_type": "stream",
     "text": [
      "Total Activations shape: torch.Size([288, 2048, 4096])\n",
      "Loaded weights shape: torch.Size([4096, 4096])\n",
      "--------------------------------------------------\n",
      "Fold 1/5\n",
      "--------------------------------------------------\n",
      "Training Activations shape: torch.Size([230, 2048, 4096])\n",
      "Validation Activations shape: torch.Size([58, 2048, 4096])\n",
      "Calculating scaling matrix for the current fold...\n"
     ]
    },
    {
     "name": "stderr",
     "output_type": "stream",
     "text": [
      "Calculating H: 100%|██████████| 29/29 [00:01<00:00, 22.83it/s]\n"
     ]
    },
    {
     "name": "stdout",
     "output_type": "stream",
     "text": [
      "Performing Cholesky decomposition...\n",
      "Performing SVD...\n",
      "Evaluating on the validation set...\n"
     ]
    },
    {
     "name": "stderr",
     "output_type": "stream",
     "text": [
      "Validating: 100%|██████████| 8/8 [00:00<00:00, 28.39it/s]\n"
     ]
    },
    {
     "name": "stdout",
     "output_type": "stream",
     "text": [
      "Fold 1 - Validation MSE Loss: 0.02862959\n",
      "--------------------------------------------------\n",
      "Fold 2/5\n",
      "--------------------------------------------------\n",
      "Training Activations shape: torch.Size([230, 2048, 4096])\n",
      "Validation Activations shape: torch.Size([58, 2048, 4096])\n",
      "Calculating scaling matrix for the current fold...\n"
     ]
    },
    {
     "name": "stderr",
     "output_type": "stream",
     "text": [
      "Calculating H: 100%|██████████| 29/29 [00:01<00:00, 23.63it/s]\n"
     ]
    },
    {
     "name": "stdout",
     "output_type": "stream",
     "text": [
      "Performing Cholesky decomposition...\n",
      "Performing SVD...\n",
      "Evaluating on the validation set...\n"
     ]
    },
    {
     "name": "stderr",
     "output_type": "stream",
     "text": [
      "Validating: 100%|██████████| 8/8 [00:00<00:00, 28.65it/s]\n"
     ]
    },
    {
     "name": "stdout",
     "output_type": "stream",
     "text": [
      "Fold 2 - Validation MSE Loss: 0.02807433\n",
      "--------------------------------------------------\n",
      "Fold 3/5\n",
      "--------------------------------------------------\n",
      "Training Activations shape: torch.Size([230, 2048, 4096])\n",
      "Validation Activations shape: torch.Size([58, 2048, 4096])\n",
      "Calculating scaling matrix for the current fold...\n"
     ]
    },
    {
     "name": "stderr",
     "output_type": "stream",
     "text": [
      "Calculating H: 100%|██████████| 29/29 [00:01<00:00, 23.38it/s]\n"
     ]
    },
    {
     "name": "stdout",
     "output_type": "stream",
     "text": [
      "Performing Cholesky decomposition...\n",
      "Performing SVD...\n",
      "Evaluating on the validation set...\n"
     ]
    },
    {
     "name": "stderr",
     "output_type": "stream",
     "text": [
      "Validating: 100%|██████████| 8/8 [00:00<00:00, 28.43it/s]\n"
     ]
    },
    {
     "name": "stdout",
     "output_type": "stream",
     "text": [
      "Fold 3 - Validation MSE Loss: 0.02838115\n",
      "--------------------------------------------------\n",
      "Fold 4/5\n",
      "--------------------------------------------------\n",
      "Training Activations shape: torch.Size([231, 2048, 4096])\n",
      "Validation Activations shape: torch.Size([57, 2048, 4096])\n",
      "Calculating scaling matrix for the current fold...\n"
     ]
    },
    {
     "name": "stderr",
     "output_type": "stream",
     "text": [
      "Calculating H: 100%|██████████| 29/29 [00:01<00:00, 23.40it/s]\n"
     ]
    },
    {
     "name": "stdout",
     "output_type": "stream",
     "text": [
      "Performing Cholesky decomposition...\n",
      "Performing SVD...\n",
      "Evaluating on the validation set...\n"
     ]
    },
    {
     "name": "stderr",
     "output_type": "stream",
     "text": [
      "Validating: 100%|██████████| 8/8 [00:00<00:00, 28.92it/s]\n"
     ]
    },
    {
     "name": "stdout",
     "output_type": "stream",
     "text": [
      "Fold 4 - Validation MSE Loss: 0.02895580\n",
      "--------------------------------------------------\n",
      "Fold 5/5\n",
      "--------------------------------------------------\n",
      "Training Activations shape: torch.Size([231, 2048, 4096])\n",
      "Validation Activations shape: torch.Size([57, 2048, 4096])\n",
      "Calculating scaling matrix for the current fold...\n"
     ]
    },
    {
     "name": "stderr",
     "output_type": "stream",
     "text": [
      "Calculating H: 100%|██████████| 29/29 [00:01<00:00, 23.48it/s]\n"
     ]
    },
    {
     "name": "stdout",
     "output_type": "stream",
     "text": [
      "Performing Cholesky decomposition...\n",
      "Performing SVD...\n",
      "Evaluating on the validation set...\n"
     ]
    },
    {
     "name": "stderr",
     "output_type": "stream",
     "text": [
      "Validating: 100%|██████████| 8/8 [00:00<00:00, 29.06it/s]\n"
     ]
    },
    {
     "name": "stdout",
     "output_type": "stream",
     "text": [
      "Fold 5 - Validation MSE Loss: 0.02711381\n",
      "\n",
      "==================================================\n",
      "Cross-Validation Results Summary\n",
      "==================================================\n",
      "Validation Losses per Fold: ['0.02862959', '0.02807433', '0.02838115', '0.02895580', '0.02711381']\n",
      "Average Validation Loss (MSE): 0.02823094\n",
      "Standard Deviation of Validation Loss: 0.00062919\n"
     ]
    },
    {
     "data": {
      "image/png": "[encoded data removed]",
      "text/plain": [
       "<Figure size 800x600 with 1 Axes>"
      ]
     },
     "metadata": {},
     "output_type": "display_data"
    }
   ],
   "source": [
    "import torch\n",
    "from tqdm import tqdm\n",
    "import torch.nn as nn\n",
    "import numpy as np\n",
    "import matplotlib.pyplot as plt\n",
    "from sklearn.model_selection import KFold\n",
    "\n",
    "# --- Configuration ---\n",
    "DEVICE = torch.device(\"cuda\" if torch.cuda.is_available() else \"cpu\")\n",
    "LAYER_HOOK = \"model.layers.31.self_attn.q_proj\"\n",
    "# Note: Ensure these paths are correct for your environment.\n",
    "# Using placeholder paths for demonstration.\n",
    "# ACTIVATIONS_PATH = f\"matrixes/{LAYER_HOOK}_activations.pt\"\n",
    "# WEIGHTS_PATH = f\"matrixes/{LAYER_HOOK}_weight.pt\"\n",
    "\n",
    "RATIO = 0.6\n",
    "BATCH_SIZE = 8\n",
    "K_FOLDS = 5 # Number of folds for cross-validation\n",
    "SEED = 42\n",
    "\n",
    "# Set seed for reproducibility\n",
    "torch.manual_seed(SEED)\n",
    "np.random.seed(SEED)\n",
    "\n",
    "# --- 1. Data Loading and Pre-processing ---\n",
    "\n",
    "# For demonstration purposes, let's create dummy data if files don't exist\n",
    "try:\n",
    "    W = torch.load(WEIGHTS_PATH).float().to(DEVICE)\n",
    "    pre_act = torch.load(ACTIVATIONS_PATH).float()\n",
    "except FileNotFoundError:\n",
    "    print(\"Warning: Data files not found. Creating dummy data for demonstration.\")\n",
    "    IN_FEATURES, OUT_FEATURES = 4096, 4096\n",
    "    N_SAMPLES, SEQ_LEN = 512, 32\n",
    "    W = torch.randn(OUT_FEATURES, IN_FEATURES, device=DEVICE).float()\n",
    "    pre_act = torch.randn(N_SAMPLES // 64, 64, SEQ_LEN, IN_FEATURES).float()\n",
    "\n",
    "# Reshape and shuffle activations\n",
    "pre_act = pre_act.view(pre_act.shape[0] * pre_act.shape[1], pre_act.shape[2], pre_act.shape[3])\n",
    "pre_act = pre_act[torch.randperm(pre_act.size(0))]\n",
    "\n",
    "print(f\"Total Activations shape: {pre_act.shape}\")\n",
    "print(f\"Loaded weights shape: {W.shape}\")\n",
    "\n",
    "# --- 2. Cross-Validation Setup ---\n",
    "kf = KFold(n_splits=K_FOLDS, shuffle=True, random_state=SEED)\n",
    "\n",
    "# Store the validation loss from each fold\n",
    "fold_validation_losses = []\n",
    "\n",
    "# --- 3. Cross-Validation Loop ---\n",
    "for fold, (train_indices, val_indices) in enumerate(kf.split(pre_act)):\n",
    "    print(\"-\" * 50)\n",
    "    print(f\"Fold {fold + 1}/{K_FOLDS}\")\n",
    "    print(\"-\" * 50)\n",
    "\n",
    "    # --- Data Splitting for the current fold ---\n",
    "    pre_act_train = pre_act[train_indices]\n",
    "    pre_act_val = pre_act[val_indices]\n",
    "    \n",
    "    print(f\"Training Activations shape: {pre_act_train.shape}\")\n",
    "    print(f\"Validation Activations shape: {pre_act_val.shape}\")\n",
    "\n",
    "    # --- a) Calculate Scaling Matrix on Training Data of the Fold ---\n",
    "    print(\"Calculating scaling matrix for the current fold...\")\n",
    "    raw_scaling_diag_matrix = 0\n",
    "    \n",
    "    # Process in batches to manage memory\n",
    "    for i in tqdm(range(0, pre_act_train.shape[0], BATCH_SIZE), desc=\"Calculating H\"):\n",
    "        inp = pre_act_train[i:i+BATCH_SIZE].to(DEVICE)\n",
    "        # H = X^T * X\n",
    "        adds = torch.matmul(inp.transpose(-1, -2), inp)\n",
    "        adds_sum = adds.sum(dim=0)\n",
    "        raw_scaling_diag_matrix += adds_sum\n",
    "        del adds, adds_sum, inp\n",
    "        torch.cuda.empty_cache()\n",
    "\n",
    "    # --- b) Cholesky Decomposition ---\n",
    "    print(\"Performing Cholesky decomposition...\")\n",
    "    raw_scaling_diag_matrix = raw_scaling_diag_matrix.double()\n",
    "    try:\n",
    "        scaling_diag_matrix = torch.linalg.cholesky(raw_scaling_diag_matrix)\n",
    "    except torch.linalg.LinAlgError:\n",
    "        print(\"Warning: Scaling matrix is not positive definite. Regularizing...\")\n",
    "        # Add a small identity matrix to ensure positive definiteness\n",
    "        eigenvalues = torch.linalg.eigvalsh(raw_scaling_diag_matrix)\n",
    "        regularization = (-eigenvalues[0] + 1e-6) if eigenvalues[0] < 0 else 1e-6\n",
    "        raw_scaling_diag_matrix += regularization * torch.eye(raw_scaling_diag_matrix.shape[0], device=DEVICE).double()\n",
    "        scaling_diag_matrix = torch.linalg.cholesky(raw_scaling_diag_matrix)\n",
    "\n",
    "    # --- c) Calculate Inverse and Scale Weight Matrix ---\n",
    "    try:\n",
    "        scaling_matrix_inv = torch.linalg.inv(scaling_diag_matrix)\n",
    "    except torch.linalg.LinAlgError:\n",
    "        print(\"Warning: Scaling matrix is singular. Regularizing before inversion...\")\n",
    "        scaling_diag_matrix += 1e-6 * torch.eye(scaling_diag_matrix.shape[0], device=DEVICE).double()\n",
    "        scaling_matrix_inv = torch.linalg.inv(scaling_diag_matrix)\n",
    "    \n",
    "    scaling_diag_matrix = scaling_diag_matrix.float()\n",
    "    scaling_matrix_inv = scaling_matrix_inv.float()\n",
    "    \n",
    "    W_scaled = torch.matmul(W, scaling_diag_matrix)\n",
    "\n",
    "    # --- d) SVD on Scaled Weight Matrix ---\n",
    "    print(\"Performing SVD...\")\n",
    "    U, S, VT = torch.linalg.svd(W_scaled, full_matrices=False)\n",
    "\n",
    "    num_s_after_trunc = int(W.shape[1] * W.shape[0] * RATIO / (W.shape[1] + W.shape[0]))\n",
    "\n",
    "    truc_s = S[:num_s_after_trunc]\n",
    "    truc_u = U[:, :num_s_after_trunc]\n",
    "    # \"Un-scale\" the right singular vectors\n",
    "    truc_v = torch.matmul(VT[:num_s_after_trunc, :], scaling_matrix_inv)\n",
    "    \n",
    "    sqrtSigma = torch.sqrt(torch.diag(truc_s))\n",
    "    svd_u_factor = torch.matmul(truc_u, sqrtSigma)\n",
    "    svd_v_factor = torch.matmul(sqrtSigma, truc_v)\n",
    "\n",
    "    # --- e) Create Original and Decomposed Models ---\n",
    "    og_linear_module = nn.Linear(W.shape[1], W.shape[0], bias=False, device=DEVICE)\n",
    "    og_linear_module.weight.data = W.float()\n",
    "    og_linear_module.eval()\n",
    "\n",
    "    svd_llm_linear_module = nn.Sequential(\n",
    "        nn.Linear(svd_v_factor.shape[1], svd_v_factor.shape[0], bias=False, device=DEVICE),\n",
    "        nn.Linear(svd_u_factor.shape[1], svd_u_factor.shape[0], bias=False, device=DEVICE)\n",
    "    )\n",
    "    svd_llm_linear_module[0].weight.data = svd_v_factor.float()\n",
    "    svd_llm_linear_module[1].weight.data = svd_u_factor.float()\n",
    "    svd_llm_linear_module.eval()\n",
    "\n",
    "    # --- f) Evaluate on Validation Set for the Fold ---\n",
    "    print(\"Evaluating on the validation set...\")\n",
    "    loss_fn = nn.MSELoss(reduction='mean')\n",
    "    val_loss = 0.0\n",
    "    num_val_batches = 0\n",
    "    with torch.no_grad():\n",
    "        for i in tqdm(range(0, pre_act_val.shape[0], BATCH_SIZE), desc=\"Validating\"):\n",
    "            inp = pre_act_val[i:i+BATCH_SIZE].to(DEVICE)\n",
    "            og_out = og_linear_module(inp)\n",
    "            svd_out = svd_llm_linear_module(inp)\n",
    "            val_loss += loss_fn(og_out, svd_out).item()\n",
    "            num_val_batches += 1\n",
    "    \n",
    "    avg_val_loss = val_loss / num_val_batches\n",
    "    fold_validation_losses.append(avg_val_loss)\n",
    "    print(f\"Fold {fold + 1} - Validation MSE Loss: {avg_val_loss:.8f}\")\n",
    "\n",
    "    # --- g) Clean up for next fold ---\n",
    "    del raw_scaling_diag_matrix, scaling_diag_matrix, scaling_matrix_inv, W_scaled\n",
    "    del U, S, VT, truc_u, truc_s, truc_v, sqrtSigma, svd_u_factor, svd_v_factor\n",
    "    del og_linear_module, svd_llm_linear_module\n",
    "    torch.cuda.empty_cache()\n",
    "\n",
    "\n",
    "# --- 4. Results Aggregation and Visualization ---\n",
    "print(\"\\n\" + \"=\"*50)\n",
    "print(\"Cross-Validation Results Summary\")\n",
    "print(\"=\"*50)\n",
    "\n",
    "mean_loss = np.mean(fold_validation_losses)\n",
    "std_loss = np.std(fold_validation_losses)\n",
    "\n",
    "print(f\"Validation Losses per Fold: {[f'{l:.8f}' for l in fold_validation_losses]}\")\n",
    "print(f\"Average Validation Loss (MSE): {mean_loss:.8f}\")\n",
    "print(f\"Standard Deviation of Validation Loss: {std_loss:.8f}\")\n",
    "\n",
    "# --- Plot: Box Plot of Validation Losses ---\n",
    "plt.style.use('seaborn-v0_8-whitegrid')\n",
    "fig, ax = plt.subplots(figsize=(8, 6))\n",
    "ax.boxplot(fold_validation_losses, patch_artist=True,\n",
    "           boxprops=dict(facecolor='lightgreen', color='green'),\n",
    "           medianprops=dict(color='red', linewidth=2))\n",
    "\n",
    "ax.set_title('Distribution of Validation Losses (SVD-LLM)', fontsize=16)\n",
    "ax.set_ylabel('Final MSE Loss', fontsize=12)\n",
    "ax.set_xticks([1])\n",
    "ax.set_xticklabels(['SVD-LLM Performance'])\n",
    "ax.grid(True)\n",
    "plt.tight_layout()\n",
    "plt.show()\n"
   ]
  },
  {
   "cell_type": "markdown",
   "id": "61865a39",
   "metadata": {},
   "source": [
    "## Gradient"
   ]
  },
  {
   "cell_type": "code",
   "execution_count": 4,
   "id": "2d5ccddc",
   "metadata": {},
   "outputs": [
    {
     "name": "stdout",
     "output_type": "stream",
     "text": [
      "Total Activations shape: torch.Size([288, 2048, 4096])\n",
      "Loaded weights shape: torch.Size([4096, 4096])\n",
      "Rank for truncation: 1228\n",
      "--------------------------------------------------\n",
      "Fold 1/5\n",
      "--------------------------------------------------\n",
      "Training Activations shape: torch.Size([230, 2048, 4096])\n",
      "Validation Activations shape: torch.Size([58, 2048, 4096])\n"
     ]
    },
    {
     "name": "stderr",
     "output_type": "stream",
     "text": [
      "                                                                         \r"
     ]
    },
    {
     "name": "stdout",
     "output_type": "stream",
     "text": [
      "--------------------------------------------------\n",
      "Fold 2/5\n",
      "--------------------------------------------------\n",
      "Training Activations shape: torch.Size([230, 2048, 4096])\n",
      "Validation Activations shape: torch.Size([58, 2048, 4096])\n"
     ]
    },
    {
     "name": "stderr",
     "output_type": "stream",
     "text": [
      "                                                                         \r"
     ]
    },
    {
     "name": "stdout",
     "output_type": "stream",
     "text": [
      "--------------------------------------------------\n",
      "Fold 3/5\n",
      "--------------------------------------------------\n",
      "Training Activations shape: torch.Size([230, 2048, 4096])\n",
      "Validation Activations shape: torch.Size([58, 2048, 4096])\n"
     ]
    },
    {
     "name": "stderr",
     "output_type": "stream",
     "text": [
      "                                                                         \r"
     ]
    },
    {
     "name": "stdout",
     "output_type": "stream",
     "text": [
      "--------------------------------------------------\n",
      "Fold 4/5\n",
      "--------------------------------------------------\n",
      "Training Activations shape: torch.Size([231, 2048, 4096])\n",
      "Validation Activations shape: torch.Size([57, 2048, 4096])\n"
     ]
    },
    {
     "name": "stderr",
     "output_type": "stream",
     "text": [
      "                                                                         \r"
     ]
    },
    {
     "name": "stdout",
     "output_type": "stream",
     "text": [
      "--------------------------------------------------\n",
      "Fold 5/5\n",
      "--------------------------------------------------\n",
      "Training Activations shape: torch.Size([231, 2048, 4096])\n",
      "Validation Activations shape: torch.Size([57, 2048, 4096])\n"
     ]
    },
    {
     "name": "stderr",
     "output_type": "stream",
     "text": [
      "                                                                         \r"
     ]
    },
    {
     "name": "stdout",
     "output_type": "stream",
     "text": [
      "\n",
      "==================================================\n",
      "Cross-Validation Results Summary\n",
      "==================================================\n",
      "Final Validation Losses per Fold: ['0.028893', '0.027896', '0.028925', '0.029414', '0.026979']\n",
      "Average Final Validation Loss: 0.028421\n",
      "Standard Deviation of Final Validation Loss: 0.000874\n"
     ]
    },
    {
     "data": {
      "image/png": "[encoded data removed]",
      "text/plain": [
       "<Figure size 1200x800 with 1 Axes>"
      ]
     },
     "metadata": {},
     "output_type": "display_data"
    },
    {
     "data": {
      "image/png": "[encoded data removed]",
      "text/plain": [
       "<Figure size 800x600 with 1 Axes>"
      ]
     },
     "metadata": {},
     "output_type": "display_data"
    }
   ],
   "source": [
    "import torch\n",
    "from tqdm import tqdm\n",
    "import torch.nn.functional as F\n",
    "import torch.nn as nn\n",
    "import pickle\n",
    "import numpy as np\n",
    "import matplotlib.pyplot as plt\n",
    "from sklearn.model_selection import KFold\n",
    "\n",
    "# --- Configuration ---\n",
    "# Using constants makes the code cleaner and easier to modify.\n",
    "DEVICE = torch.device(\"cuda\" if torch.cuda.is_available() else \"cpu\")\n",
    "LAYER_HOOK = \"model.layers.31.self_attn.q_proj\"\n",
    "ACTIVATIONS_PATH = f\"matrixes/{LAYER_HOOK}_activations.pt\"\n",
    "WEIGHTS_PATH = f\"matrixes/{LAYER_HOOK}_weight.pt\"\n",
    "IMPORTANCE_PATH = f\"grads/llama7b_grads.pkl\"\n",
    "\n",
    "RATIO = 0.6\n",
    "EPOCHS = 60\n",
    "LEARNING_RATE = 1e-4\n",
    "WEIGHT_DECAY = 1e-3\n",
    "BATCH_SIZE = 10\n",
    "K_FOLDS = 5 # Number of folds for cross-validation\n",
    "SEED = 42\n",
    "\n",
    "# Set seed for reproducibility\n",
    "torch.manual_seed(SEED)\n",
    "np.random.seed(SEED)\n",
    "\n",
    "# --- 1. Data Loading and Pre-processing ---\n",
    "\n",
    "# For demonstration purposes, let's create dummy data if files don't exist\n",
    "# In a real scenario, you would have the actual data files.\n",
    "try:\n",
    "    W = torch.load(WEIGHTS_PATH).to(DEVICE, non_blocking=True).float()\n",
    "    # Load to CPU first for memory efficiency\n",
    "    pre_act = torch.load(ACTIVATIONS_PATH).float()\n",
    "except FileNotFoundError:\n",
    "    print(\"Warning: Data files not found. Creating dummy data for demonstration.\")\n",
    "    # Create plausible shapes for dummy data\n",
    "    IN_FEATURES, OUT_FEATURES = 4096, 4096\n",
    "    N_SAMPLES, SEQ_LEN = 512, 32\n",
    "    W = torch.randn(OUT_FEATURES, IN_FEATURES).to(DEVICE, non_blocking=True).float()\n",
    "    pre_act = torch.randn(N_SAMPLES // 64, 64, SEQ_LEN, IN_FEATURES).float()\n",
    "\n",
    "\n",
    "# Concat the first two dimensions: (batches, samples_batch, seq_len, features) -> (samples, seq_len, features)\n",
    "pre_act = pre_act.view(pre_act.shape[0] * pre_act.shape[1], pre_act.shape[2], pre_act.shape[3])\n",
    "\n",
    "# Shuffle the entire dataset once before splitting into folds\n",
    "pre_act = pre_act[torch.randperm(pre_act.size(0))]\n",
    "\n",
    "print(f\"Total Activations shape: {pre_act.shape}\")\n",
    "print(f\"Loaded weights shape: {W.shape}\")\n",
    "\n",
    "# --- 2. Simplified Truncation Calculation ---\n",
    "\n",
    "out_features, in_features = W.shape\n",
    "truncate = int(out_features * in_features * RATIO / (out_features + in_features))\n",
    "print(f\"Rank for truncation: {truncate}\")\n",
    "\n",
    "# --- 3. Cross-Validation Setup ---\n",
    "kf = KFold(n_splits=K_FOLDS, shuffle=True, random_state=SEED)\n",
    "\n",
    "# Store history from all folds to analyze later\n",
    "fold_histories = []\n",
    "final_val_losses = []\n",
    "\n",
    "# --- 4. Cross-Validation Loop ---\n",
    "for fold, (train_indices, val_indices) in enumerate(kf.split(pre_act)):\n",
    "    print(\"-\" * 50)\n",
    "    print(f\"Fold {fold + 1}/{K_FOLDS}\")\n",
    "    print(\"-\" * 50)\n",
    "\n",
    "    # --- Data Splitting for the current fold ---\n",
    "    pre_act_train = pre_act[train_indices]\n",
    "    pre_act_val = pre_act[val_indices]\n",
    "\n",
    "    print(f\"Training Activations shape: {pre_act_train.shape}\")\n",
    "    print(f\"Validation Activations shape: {pre_act_val.shape}\")\n",
    "\n",
    "    # --- Model and Optimizer Initialization (crucial to do this inside the loop) ---\n",
    "    # This ensures that for each fold, we start with a fresh, untrained model.\n",
    "    U, S, VT = torch.linalg.svd(W, full_matrices=False)\n",
    "    s_sqrt = torch.diag(torch.sqrt(S))\n",
    "    # Detach parameters from the graph of the original W tensor\n",
    "    u_parameter = torch.matmul(U[:, :truncate], s_sqrt[:truncate, :truncate]).detach()\n",
    "    vt_parameter = torch.matmul(s_sqrt[:truncate, :truncate], VT[:truncate, :]).detach()\n",
    "\n",
    "    svd_layer = nn.Sequential(\n",
    "        nn.Linear(in_features=vt_parameter.shape[1], out_features=vt_parameter.shape[0], bias=False),\n",
    "        nn.Linear(in_features=u_parameter.shape[1], out_features=u_parameter.shape[0], bias=False)\n",
    "    ).to(DEVICE).train()\n",
    "\n",
    "    svd_layer[0].weight.data = vt_parameter.float()\n",
    "    svd_layer[1].weight.data = u_parameter.float()\n",
    "\n",
    "    og_linear_module = nn.Linear(in_features=W.shape[1], out_features=W.shape[0], bias=False, device=DEVICE)\n",
    "    og_linear_module.weight.data = W.float()\n",
    "    og_linear_module.eval() # This model doesn't train\n",
    "\n",
    "    loss_fn = nn.MSELoss(reduction=\"mean\")\n",
    "    optimizer = torch.optim.AdamW(\n",
    "        svd_layer.parameters(), lr=LEARNING_RATE, weight_decay=WEIGHT_DECAY, fused=torch.cuda.is_available()\n",
    "    )\n",
    "\n",
    "    # --- Training Loop for the current fold ---\n",
    "    train_loss_log = []\n",
    "    val_loss_log = []\n",
    "\n",
    "    for epoch in range(EPOCHS):\n",
    "        svd_layer.train()\n",
    "        epoch_loss = 0.0\n",
    "        num_batches = 0\n",
    "        \n",
    "        pbar = tqdm(range(0, pre_act_train.shape[0], BATCH_SIZE), desc=f\"Epoch {epoch + 1}/{EPOCHS}\", leave=False)\n",
    "        for i in pbar:\n",
    "            batch = pre_act_train[i:i + BATCH_SIZE].to(DEVICE, non_blocking=True)\n",
    "            optimizer.zero_grad()\n",
    "            \n",
    "            output = svd_layer(batch)\n",
    "            \n",
    "            with torch.no_grad():\n",
    "                target = og_linear_module(batch)\n",
    "\n",
    "            loss = loss_fn(output, target)\n",
    "            loss.backward()\n",
    "            optimizer.step()\n",
    "            \n",
    "            epoch_loss += loss.item()\n",
    "            num_batches += 1\n",
    "            pbar.set_postfix({\"loss\": loss.item()})\n",
    "        \n",
    "        avg_epoch_loss = epoch_loss / num_batches\n",
    "        train_loss_log.append(avg_epoch_loss)\n",
    "\n",
    "        # --- Validation for the current fold ---\n",
    "        svd_layer.eval()\n",
    "        with torch.no_grad():\n",
    "            # Process validation data in batches to avoid OOM errors\n",
    "            val_loss = 0.0\n",
    "            num_val_batches = 0\n",
    "            for i in range(0, pre_act_val.shape[0], BATCH_SIZE):\n",
    "                val_batch = pre_act_val[i:i+BATCH_SIZE].to(DEVICE, non_blocking=True)\n",
    "                val_output = svd_layer(val_batch)\n",
    "                val_target = og_linear_module(val_batch)\n",
    "                val_loss += loss_fn(val_output, val_target).item()\n",
    "                num_val_batches += 1\n",
    "\n",
    "            avg_val_loss = val_loss / num_val_batches\n",
    "            val_loss_log.append(avg_val_loss)\n",
    "\n",
    "    fold_histories.append({'train': train_loss_log, 'val': val_loss_log})\n",
    "    final_val_losses.append(val_loss_log[-1])\n",
    "    \n",
    "    # Clean up GPU memory after each fold\n",
    "    del svd_layer, og_linear_module, optimizer, pre_act_train, pre_act_val\n",
    "    torch.cuda.empty_cache()\n",
    "\n",
    "\n",
    "# --- 5. Results Aggregation and Visualization ---\n",
    "print(\"\\n\" + \"=\"*50)\n",
    "print(\"Cross-Validation Results Summary\")\n",
    "print(\"=\"*50)\n",
    "\n",
    "mean_loss = np.mean(final_val_losses)\n",
    "std_loss = np.std(final_val_losses)\n",
    "\n",
    "print(f\"Final Validation Losses per Fold: {[f'{l:.6f}' for l in final_val_losses]}\")\n",
    "print(f\"Average Final Validation Loss: {mean_loss:.6f}\")\n",
    "print(f\"Standard Deviation of Final Validation Loss: {std_loss:.6f}\")\n",
    "\n",
    "# --- Plot 1: Training and Validation Loss Curves for All Folds ---\n",
    "plt.style.use('seaborn-v0_8-whitegrid')\n",
    "fig1, ax1 = plt.subplots(figsize=(12, 8))\n",
    "\n",
    "# Plot individual fold histories with transparency\n",
    "for i, history in enumerate(fold_histories):\n",
    "    ax1.plot(history['train'], color='lightblue', alpha=0.5, label=f'Train Fold {i+1}' if i == 0 else \"\")\n",
    "    ax1.plot(history['val'], color='lightcoral', alpha=0.5, label=f'Val Fold {i+1}' if i == 0 else \"\")\n",
    "\n",
    "# Calculate and plot average histories\n",
    "avg_train_loss = np.mean([h['train'] for h in fold_histories], axis=0)\n",
    "avg_val_loss = np.mean([h['val'] for h in fold_histories], axis=0)\n",
    "\n",
    "ax1.plot(avg_train_loss, color='blue', linewidth=2, label='Average Train Loss')\n",
    "ax1.plot(avg_val_loss, color='red', linewidth=2, label='Average Validation Loss')\n",
    "\n",
    "ax1.set_title('Training & Validation Loss Across Folds', fontsize=16)\n",
    "ax1.set_xlabel('Epoch', fontsize=12)\n",
    "ax1.set_ylabel('MSE Loss', fontsize=12)\n",
    "ax1.legend()\n",
    "ax1.grid(True)\n",
    "plt.tight_layout()\n",
    "plt.show()\n",
    "\n",
    "\n",
    "# --- Plot 2: Box Plot of Final Validation Losses ---\n",
    "fig2, ax2 = plt.subplots(figsize=(8, 6))\n",
    "ax2.boxplot(final_val_losses, patch_artist=True,\n",
    "            boxprops=dict(facecolor='lightblue', color='blue'),\n",
    "            medianprops=dict(color='red', linewidth=2))\n",
    "\n",
    "ax2.set_title('Distribution of Final Validation Losses', fontsize=16)\n",
    "ax2.set_ylabel('Final MSE Loss', fontsize=12)\n",
    "ax2.set_xticks([1])\n",
    "ax2.set_xticklabels(['SVD Model Performance'])\n",
    "ax2.grid(True)\n",
    "plt.tight_layout()\n",
    "plt.show()\n"
   ]
  },
  {
   "cell_type": "markdown",
   "id": "dc738348",
   "metadata": {},
   "source": [
    "# SUPER WEIGHT"
   ]
  },
  {
   "cell_type": "code",
   "execution_count": 8,
   "id": "e5f278a1",
   "metadata": {},
   "outputs": [],
   "source": [
    "import torch\n",
    "from tqdm import tqdm\n",
    "from modules import SVDLinearLayer\n",
    "import torch.nn.functional as F\n",
    "import torch.nn as nn\n",
    "import pickle\n",
    "\n",
    "# --- Configuration ---\n",
    "# Using constants makes the code cleaner and easier to modify.\n",
    "DEVICE = torch.device(\"cuda\" if torch.cuda.is_available() else \"cpu\")\n",
    "LAYER_HOOK = \"model.layers.2.mlp.down_proj\"\n",
    "ACTIVATIONS_PATH = f\"matrixes/{LAYER_HOOK}_activations.pt\"\n",
    "WEIGHTS_PATH = f\"matrixes/{LAYER_HOOK}_weight.pt\"\n",
    "IMPORTANCE_PATH = f\"grads/llama7b_grads.pkl\"\n",
    "\n",
    "RATIO = 0.6\n",
    "EPOCHS = 50\n",
    "LEARNING_RATE = 1e-4\n",
    "WEIGHT_DECAY = 1e-3\n",
    "N_SAMPLES_FOR_INIT = 50\n",
    "BATCH_SIZE = 10\n",
    "TRAIN_SAMPLES = 256\n",
    "\n",
    "# --- 1. Efficient Data Loading and Pre-processing ---\n",
    "\n",
    "# Move weights to the correct device right after loading.\n",
    "# non_blocking=True can enable faster asynchronous memory copies on CUDA hardware.\n",
    "W = torch.load(WEIGHTS_PATH).to(DEVICE, non_blocking=True).float()\n",
    "\n",
    "# It's more memory-efficient to load large tensors to CPU first.\n",
    "# We will move only the necessary batches to the GPU during training.\n",
    "pre_act = torch.load(ACTIVATIONS_PATH).float() # (batches, samples_batch, seq_len, features)"
   ]
  },
  {
   "cell_type": "code",
   "execution_count": 14,
   "id": "ff6e51b6",
   "metadata": {},
   "outputs": [
    {
     "name": "stdout",
     "output_type": "stream",
     "text": [
      "Original W shape: torch.Size([4096, 11008])\n",
      "Reconstructed W shape: torch.Size([4096, 11008])\n",
      "Reconstruction Error: 0.0000\n"
     ]
    }
   ],
   "source": [
    "# Apply SVD to W\n",
    "U, S, Vh = torch.linalg.svd(W.double())\n",
    "\n",
    "out_features, in_features = W.shape\n",
    "\n",
    "print(f\"Original W shape: {W.shape}\")\n",
    "\n",
    "truncate = min(out_features, in_features)\n",
    "\n",
    "#Truncate and reconstruct W\n",
    "U_truncated = U[:, :truncate]\n",
    "S_truncated = S[:truncate]\n",
    "Vh_truncated = Vh[:truncate, :]\n",
    "\n",
    "W_reconstructed = (U_truncated @ torch.diag(S_truncated) @ Vh_truncated).to(DEVICE)\n",
    "\n",
    "print(f\"Reconstructed W shape: {W_reconstructed.shape}\")\n",
    "\n",
    "# Compare reconstructed W with original W\n",
    "reconstruction_error = F.mse_loss(W_reconstructed, W)\n",
    "print(f\"Reconstruction Error: {reconstruction_error.item():.4f}\")\n"
   ]
  },
  {
   "cell_type": "code",
   "execution_count": 15,
   "id": "e4869852",
   "metadata": {},
   "outputs": [
    {
     "name": "stdout",
     "output_type": "stream",
     "text": [
      "OG SuperWeight: tensor(-1.9268, device='cuda:0')\n",
      "Reconstructed SuperWeight: tensor(-1.9268, device='cuda:0', dtype=torch.float64)\n"
     ]
    }
   ],
   "source": [
    "print(\"OG SuperWeight:\", W[3968, 7003])\n",
    "print(\"Reconstructed SuperWeight:\", W_reconstructed[3968, 7003])"
   ]
  },
  {
   "cell_type": "code",
   "execution_count": null,
   "id": "b48a6c60",
   "metadata": {},
   "outputs": [],
   "source": [
    "import torch\n",
    "from tqdm import tqdm\n",
    "from modules import SVDLinearLayer\n",
    "import torch.nn.functional as F\n",
    "import torch.nn as nn\n",
    "import pickle\n",
    "\n",
    "# --- Configuration ---\n",
    "# Using constants makes the code cleaner and easier to modify.\n",
    "DEVICE = torch.device(\"cuda\" if torch.cuda.is_available() else \"cpu\")\n",
    "LAYER_HOOK = \"model.layers.31.self_attn.q_proj\"\n",
    "ACTIVATIONS_PATH = f\"matrixes/{LAYER_HOOK}_activations.pt\"\n",
    "WEIGHTS_PATH = f\"matrixes/{LAYER_HOOK}_weight.pt\"\n",
    "IMPORTANCE_PATH = f\"grads/llama7b_grads.pkl\"\n",
    "\n",
    "RATIO = 0.6\n",
    "EPOCHS = 50\n",
    "LEARNING_RATE = 1e-4\n",
    "WEIGHT_DECAY = 1e-3\n",
    "N_SAMPLES_FOR_INIT = 50\n",
    "BATCH_SIZE = 10\n",
    "TRAIN_SAMPLES = 256\n",
    "\n",
    "PROTECTED_ROW = 3968\n",
    "\n",
    "# --- 1. Efficient Data Loading and Pre-processing ---\n",
    "\n",
    "# Move weights to the correct device right after loading.\n",
    "# non_blocking=True can enable faster asynchronous memory copies on CUDA hardware.\n",
    "W = torch.load(WEIGHTS_PATH).to(DEVICE, non_blocking=True).float()\n",
    "\n",
    "# It's more memory-efficient to load large tensors to CPU first.\n",
    "# We will move only the necessary batches to the GPU during training.\n",
    "pre_act = torch.load(ACTIVATIONS_PATH).float() # (batches, samples_batch, seq_len, features)\n",
    "\n",
    "# Concat the first two dimensions\n",
    "pre_act = pre_act.view(pre_act.shape[0] * pre_act.shape[1], pre_act.shape[2], pre_act.shape[3]) # (samples, seq_len, features)\n",
    "\n",
    "# Shuffle the activations to ensure randomness in training with seed\n",
    "torch.manual_seed(42)\n",
    "pre_act = pre_act[torch.randperm(pre_act.size(0))]\n",
    "\n",
    "pre_act_train = pre_act[:TRAIN_SAMPLES, :, :]  # Use only the first TRAIN_SAMPLES for training\n",
    "pre_act_val = pre_act[TRAIN_SAMPLES:, :, :]  # Use the rest for validation\n",
    "\n",
    "del pre_act\n",
    "\n",
    "print(f\"Training Activations shape: {pre_act_train.shape}\")\n",
    "print(f\"Validation Activations shape: {pre_act_val.shape}\")\n",
    "print(f\"Loaded weights shape: {W.shape}\")\n",
    "\n",
    "# --- 2. Simplified Truncation Calculation ---\n",
    "\n",
    "out_features, in_features = W.shape\n",
    "truncate = int(W.shape[0] * W.shape[1] * RATIO / (W.shape[0] + W.shape[1]))\n",
    "print(f\"Truncate: {truncate}\")\n",
    "\n",
    "# --- 3. Memory-Efficient SVD Initialization ---\n",
    "\n",
    "# Create the initialization data by taking a slice on the CPU first,\n",
    "# and only then moving the smaller tensor to the GPU.\n",
    "init_data_slice = pre_act_train[:N_SAMPLES_FOR_INIT, :, :]\n",
    "svd_layer = SVDLinearLayer(\n",
    "    W, # weights are already on DEVICE\n",
    "    truncate,\n",
    "    bias=None,\n",
    "    data=init_data_slice.to(DEVICE, non_blocking=True)\n",
    ").to(DEVICE).train()\n",
    "\n",
    "og_linear_module = nn.Linear(\n",
    "    in_features=W.shape[1],\n",
    "    out_features=W.shape[0],\n",
    "    bias=False,\n",
    "    device=DEVICE\n",
    ")\n",
    "\n",
    "og_linear_module.weight.data = W.float()\n",
    "og_linear_module.eval()\n",
    "\n",
    "# Clean up to free memory immediately.\n",
    "del init_data_slice\n",
    "torch.cuda.empty_cache()\n",
    "\n",
    "loss_fn = nn.MSELoss(reduction=\"mean\")\n",
    "\n",
    "# Using fused=True can provide a performance boost on compatible CUDA devices.\n",
    "optimizer = torch.optim.AdamW(\n",
    "    svd_layer.parameters(), lr=LEARNING_RATE, weight_decay=WEIGHT_DECAY, fused=torch.cuda.is_available()\n",
    ")\n",
    "\n",
    "# --- 4. Efficient Training Loop ---\n",
    "train_loss_log = []\n",
    "val_loss_log = []\n",
    "for epoch in range(EPOCHS):\n",
    "    svd_layer.train()\n",
    "    epoch_loss_log = []\n",
    "    pbar = tqdm(range(0, pre_act_train.shape[0], BATCH_SIZE), desc=f\"Epoch {epoch + 1}/{EPOCHS}\")\n",
    "    \n",
    "    # Shuffle the training data at the start of each epoch\n",
    "    pre_act_train = pre_act_train[torch.randperm(pre_act_train.size(0))]\n",
    "    \n",
    "    for i in pbar:\n",
    "        batch = pre_act_train[i:i + BATCH_SIZE, :, :].to(DEVICE, non_blocking=True)\n",
    "        optimizer.zero_grad()\n",
    "        \n",
    "        # Forward pass\n",
    "        output = svd_layer(batch)\n",
    "        \n",
    "        # Compute loss\n",
    "        loss = loss_fn(output, og_linear_module(batch))\n",
    "        loss.backward()\n",
    "        \n",
    "        # Update weights\n",
    "        optimizer.step()\n",
    "        epoch_loss_log.append(loss.item())\n",
    "        \n",
    "        pbar.set_postfix({\"loss\": loss.item()})\n",
    "    train_loss_log.append(sum(epoch_loss_log) / len(epoch_loss_log))\n",
    "    print(f\"Epoch {epoch + 1} - Train Loss: {train_loss_log[-1]:.4f}\")\n",
    "    svd_layer.eval()\n",
    "    with torch.no_grad():\n",
    "        val_loss = loss_fn(svd_layer(pre_act_val.to(DEVICE, non_blocking=True)), og_linear_module(pre_act_val.to(DEVICE, non_blocking=True)))\n",
    "        val_loss_log.append(val_loss.item())\n",
    "        print(f\"Epoch {epoch + 1} - Validation Loss: {val_loss.item():.4f}\")\n",
    "        \n",
    "#Log losses \n",
    "import matplotlib.pyplot as plt\n",
    "plt.plot(train_loss_log, label='Train Loss')\n",
    "plt.plot(val_loss_log, label='Validation Loss')\n",
    "plt.xlabel('Epoch')\n",
    "plt.ylabel('Loss')\n",
    "plt.title('Training and Validation Loss')\n",
    "plt.legend()\n",
    "plt.grid()\n",
    "plt.show()"
   ]
  }
 ],
 "metadata": {
  "kernelspec": {
   "display_name": "svd",
   "language": "python",
   "name": "python3"
  },
  "language_info": {
   "codemirror_mode": {
    "name": "ipython",
    "version": 3
   },
   "file_extension": ".py",
   "mimetype": "text/x-python",
   "name": "python",
   "nbconvert_exporter": "python",
   "pygments_lexer": "ipython3",
   "version": "3.10.16"
  }
 },
 "nbformat": 4,
 "nbformat_minor": 5
}
